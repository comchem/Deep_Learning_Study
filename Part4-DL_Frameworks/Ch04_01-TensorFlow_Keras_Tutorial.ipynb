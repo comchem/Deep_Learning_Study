{
  "nbformat": 4,
  "nbformat_minor": 0,
  "metadata": {
    "colab": {
      "name": "TensorFlow_Keras_Tutorial.ipynb",
      "provenance": [],
      "collapsed_sections": []
    },
    "kernelspec": {
      "name": "python3",
      "display_name": "Python 3"
    },
    "language_info": {
      "name": "python"
    },
    "accelerator": "GPU"
  },
  "cells": [
    {
      "cell_type": "markdown",
      "metadata": {
        "id": "aauKER9dYuDM"
      },
      "source": [
        "# TensorFlow / Keras\n",
        "\n",
        "TensorFlow와 Keras는 ML 모델을 개발하고 학습시키는 데 도움이 되는 핵심 오픈소스 라이브러리입니다.\n",
        "\n",
        "TensorFlow와 Keras는 모두 2015년에 릴리즈 되었습니다 (Keras는 2015년 3월, TensorFlow는 2015년 11월). 이는 딥러닝 세계의 관점에서 볼 때, 꽤 오랜시간이라고 볼 수 있습니다.\n",
        "\n",
        "Keras는 사용자가 TensorFlow를 좀 더 쉽고 편하게 사용할 수 있게 해주는 high level API를 제공합니다.\n",
        "\n",
        "TensorFlow 2.x에서는 Keras를 딥러닝의 공식 API로 채택하였고, Keras는 TensorFlow 내의 하나의 framwork으로 개발되고 있습니다."
      ]
    },
    {
      "cell_type": "markdown",
      "metadata": {
        "id": "VMv8P8IDZuY9"
      },
      "source": [
        "## TensorFlow / Keras Basic"
      ]
    },
    {
      "cell_type": "markdown",
      "metadata": {
        "id": "Y7ntEsFpZxd8"
      },
      "source": [
        "### TensorFlow / Keras import"
      ]
    },
    {
      "cell_type": "code",
      "metadata": {
        "id": "JeRr6dfwVeER"
      },
      "source": [
        "import tensorflow as tf\n",
        "from tensorflow import keras"
      ],
      "execution_count": 1,
      "outputs": []
    },
    {
      "cell_type": "code",
      "metadata": {
        "id": "Vl0o3w_dZ_4S",
        "outputId": "c03a61fa-a5ee-4999-d0b0-5c92b9cb5d43",
        "colab": {
          "base_uri": "https://localhost:8080/"
        }
      },
      "source": [
        "print(tf.__version__)\n",
        "print(keras.__version__)"
      ],
      "execution_count": 2,
      "outputs": [
        {
          "output_type": "stream",
          "name": "stdout",
          "text": [
            "2.8.0\n",
            "2.8.0\n"
          ]
        }
      ]
    },
    {
      "cell_type": "markdown",
      "metadata": {
        "id": "JHxt15A3aHUz"
      },
      "source": [
        "### TensorFlow / Keras 맛보기"
      ]
    },
    {
      "cell_type": "code",
      "metadata": {
        "id": "U4XmcMbyaCQb"
      },
      "source": [
        "import numpy as np\n",
        "import matplotlib.pyplot as plt"
      ],
      "execution_count": 3,
      "outputs": []
    },
    {
      "cell_type": "code",
      "metadata": {
        "id": "0IZZ-rbdaRLE",
        "outputId": "5efe1836-37ac-48ab-fe80-2f18a3dec1b8",
        "colab": {
          "base_uri": "https://localhost:8080/"
        }
      },
      "source": [
        "# MNIST dataset download\n",
        "mnist = keras.datasets.mnist\n",
        "\n",
        "(x_train, y_train), (x_test, y_test) = mnist.load_data()\n",
        "x_train, x_test = x_train / 255.0, x_test / 255.0"
      ],
      "execution_count": 4,
      "outputs": [
        {
          "output_type": "stream",
          "name": "stdout",
          "text": [
            "Downloading data from https://storage.googleapis.com/tensorflow/tf-keras-datasets/mnist.npz\n",
            "11493376/11490434 [==============================] - 0s 0us/step\n",
            "11501568/11490434 [==============================] - 0s 0us/step\n"
          ]
        }
      ]
    },
    {
      "cell_type": "code",
      "source": [
        "print(x_train.shape, x_test.shape)"
      ],
      "metadata": {
        "id": "o0KrlQPjD1mt",
        "outputId": "c1c83993-4ba2-425d-c36d-b00882e2ec0e",
        "colab": {
          "base_uri": "https://localhost:8080/"
        }
      },
      "execution_count": 12,
      "outputs": [
        {
          "output_type": "stream",
          "name": "stdout",
          "text": [
            "(60000, 28, 28) (10000, 28, 28)\n"
          ]
        }
      ]
    },
    {
      "cell_type": "code",
      "metadata": {
        "id": "30LQ5WRQaVAj"
      },
      "source": [
        "# Model 생성, compile\n",
        "model = tf.keras.models.Sequential([\n",
        "  tf.keras.layers.Flatten(input_shape=(28, 28)),\n",
        "  tf.keras.layers.Dense(128, activation='relu'),\n",
        "  tf.keras.layers.Dropout(0.2),\n",
        "  tf.keras.layers.Dense(10, activation='softmax')\n",
        "])\n",
        "\n",
        "model.compile(optimizer='adam',\n",
        "              loss='sparse_categorical_crossentropy',\n",
        "              metrics=['accuracy'])"
      ],
      "execution_count": 13,
      "outputs": []
    },
    {
      "cell_type": "code",
      "metadata": {
        "id": "IpbIkSwUabLD",
        "outputId": "32865a53-7e9a-427c-baba-5ad9fe57c28f",
        "colab": {
          "base_uri": "https://localhost:8080/"
        }
      },
      "source": [
        "# Training / Evaluation\n",
        "model.fit(x_train, y_train, epochs=10)\n",
        "\n",
        "model.evaluate(x_test,  y_test)"
      ],
      "execution_count": 28,
      "outputs": [
        {
          "output_type": "stream",
          "name": "stdout",
          "text": [
            "Epoch 1/10\n",
            "1875/1875 [==============================] - 4s 2ms/step - loss: 0.0401 - accuracy: 0.9867\n",
            "Epoch 2/10\n",
            "1875/1875 [==============================] - 4s 2ms/step - loss: 0.0375 - accuracy: 0.9869\n",
            "Epoch 3/10\n",
            "1875/1875 [==============================] - 4s 2ms/step - loss: 0.0341 - accuracy: 0.9883\n",
            "Epoch 4/10\n",
            "1875/1875 [==============================] - 4s 2ms/step - loss: 0.0340 - accuracy: 0.9883\n",
            "Epoch 5/10\n",
            "1875/1875 [==============================] - 4s 2ms/step - loss: 0.0316 - accuracy: 0.9890\n",
            "Epoch 6/10\n",
            "1875/1875 [==============================] - 4s 2ms/step - loss: 0.0308 - accuracy: 0.9897\n",
            "Epoch 7/10\n",
            "1875/1875 [==============================] - 4s 2ms/step - loss: 0.0289 - accuracy: 0.9902\n",
            "Epoch 8/10\n",
            "1875/1875 [==============================] - 4s 2ms/step - loss: 0.0277 - accuracy: 0.9902\n",
            "Epoch 9/10\n",
            "1875/1875 [==============================] - 4s 2ms/step - loss: 0.0275 - accuracy: 0.9901\n",
            "Epoch 10/10\n",
            "1875/1875 [==============================] - 4s 2ms/step - loss: 0.0252 - accuracy: 0.9910\n",
            "313/313 [==============================] - 1s 2ms/step - loss: 0.0840 - accuracy: 0.9788\n"
          ]
        },
        {
          "output_type": "execute_result",
          "data": {
            "text/plain": [
              "[0.08404652774333954, 0.9787999987602234]"
            ]
          },
          "metadata": {},
          "execution_count": 28
        }
      ]
    },
    {
      "cell_type": "markdown",
      "metadata": {
        "id": "TCNJ6P1earGM"
      },
      "source": [
        "데이터를 탐색해봅시다:"
      ]
    },
    {
      "cell_type": "code",
      "metadata": {
        "id": "gGXMimvQagBD"
      },
      "source": [
        "idx = np.random.randint(len(x_train))\n",
        "image = x_train[idx]"
      ],
      "execution_count": 29,
      "outputs": []
    },
    {
      "cell_type": "code",
      "metadata": {
        "id": "Gh_0tCMUawqM",
        "outputId": "5cf312fc-bd22-45e7-95fc-e9287a3da7c1",
        "colab": {
          "base_uri": "https://localhost:8080/",
          "height": 281
        }
      },
      "source": [
        "plt.imshow(image, cmap='gray')\n",
        "plt.title(y_train[idx])\n",
        "plt.show()"
      ],
      "execution_count": 30,
      "outputs": [
        {
          "output_type": "display_data",
          "data": {
            "image/png": "[encoded data removed]",
            "text/plain": [
              "<Figure size 432x288 with 1 Axes>"
            ]
          },
          "metadata": {
            "needs_background": "light"
          }
        }
      ]
    },
    {
      "cell_type": "markdown",
      "metadata": {
        "id": "-hAxc-G9a3GF"
      },
      "source": [
        "내가 쓴 손글씨로 Test 해봅시다.\n",
        "\n",
        "Colab을 쓰는 경우에는 아래 cell을 실행하면 파일을 업로드할 수 있습니다.\n",
        "\n",
        "그림판과 같은 도구를 이용하여 손으로 숫자를 쓴 다음 파일로 저장하고 업로드 합니다.\n",
        "\n",
        "이 때 파일명은 image.png로 합니다."
      ]
    },
    {
      "cell_type": "code",
      "metadata": {
        "id": "Zbq6hh6Saxt0",
        "outputId": "33ad6fee-54c0-47aa-e18c-47d4cc96f8c8",
        "colab": {
          "resources": {
            "http://localhost:8080/nbextensions/google.colab/files.js": {
              "data": "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",
              "ok": true,
              "headers": [
                [
                  "content-type",
                  "application/javascript"
                ]
              ],
              "status": 200,
              "status_text": "OK"
            }
          },
          "base_uri": "https://localhost:8080/",
          "height": 95
        }
      },
      "source": [
        "import os\n",
        "from PIL import Image\n",
        "from google.colab import files\n",
        "\n",
        "uploaded = files.upload()\n",
        "\n",
        "for fn in uploaded.keys():\n",
        "  print('User uploaded file \"{name}\" with length {length} bytes'.format(\n",
        "      name=fn, length=len(uploaded[fn])))"
      ],
      "execution_count": 33,
      "outputs": [
        {
          "output_type": "display_data",
          "data": {
            "text/html": [
              "\n",
              "     <input type=\"file\" id=\"files-6ed176ca-c1fb-4e67-bac2-6387cdfe969d\" name=\"files[]\" multiple disabled\n",
              "        style=\"border:none\" />\n",
              "     <output id=\"result-6ed176ca-c1fb-4e67-bac2-6387cdfe969d\">\n",
              "      Upload widget is only available when the cell has been executed in the\n",
              "      current browser session. Please rerun this cell to enable.\n",
              "      </output>\n",
              "      <script src=\"/nbextensions/google.colab/files.js\"></script> "
            ],
            "text/plain": [
              "<IPython.core.display.HTML object>"
            ]
          },
          "metadata": {}
        },
        {
          "output_type": "stream",
          "name": "stdout",
          "text": [
            "Saving image.png to image.png\n",
            "User uploaded file \"image.png\" with length 15959 bytes\n"
          ]
        }
      ]
    },
    {
      "cell_type": "code",
      "metadata": {
        "id": "puSKAGeYa6Zz",
        "outputId": "27fd326b-6863-4f1b-8204-cbebaf4b2da0",
        "colab": {
          "base_uri": "https://localhost:8080/",
          "height": 265
        }
      },
      "source": [
        "# image file의 경로 설정\n",
        "cur_dir = os.getcwd()\n",
        "img_path = os.path.join(cur_dir, 'image.png')\n",
        "# image file 읽기\n",
        "cur_img = Image.open(img_path)\n",
        "# 28x28로 resize\n",
        "cur_img = cur_img.resize((28, 28))\n",
        "image = np.asarray(cur_img)\n",
        "\n",
        "# color image일 경우 RGB 평균값으로 gray scale로 변경\n",
        "try:\n",
        "  image = np.mean(image, axis=2)\n",
        "except:\n",
        "  pass\n",
        "# upload한 image는 흰 배경에 검은 글씨로 되어 있으므로, MNIST data와 같이 검은 배경에 흰 글씨로 변경\n",
        "image = np.abs(255-image)\n",
        "# MNIST와 동일하게 data preprocessing(255로 나눠줌)\n",
        "image = image.astype(np.float32)/255.\n",
        "# 화면에 출력하여 확인\n",
        "plt.imshow(image, cmap='gray')\n",
        "plt.show()"
      ],
      "execution_count": 34,
      "outputs": [
        {
          "output_type": "display_data",
          "data": {
            "image/png": "[encoded data removed]",
            "text/plain": [
              "<Figure size 432x288 with 1 Axes>"
            ]
          },
          "metadata": {
            "needs_background": "light"
          }
        }
      ]
    },
    {
      "cell_type": "code",
      "metadata": {
        "id": "YS--auCAa9SL",
        "outputId": "742578b8-c71f-4a8c-a292-34fca2b17377",
        "colab": {
          "base_uri": "https://localhost:8080/"
        }
      },
      "source": [
        "# shape을 변경하여 학습된 model에 넣고 결과 확인\n",
        "image = np.reshape(image, (1, 28, 28))\n",
        "print(model.predict(image))\n",
        "\n",
        "print(\"Model이 예측한 값은 {} 입니다.\".format(np.argmax(model.predict(image), -1)))"
      ],
      "execution_count": 35,
      "outputs": [
        {
          "output_type": "stream",
          "name": "stdout",
          "text": [
            "[[1.8820375e-06 8.2597345e-02 2.9638965e-02 3.4068272e-01 6.6927646e-04\n",
            "  5.4218507e-01 3.1985655e-05 2.8205228e-03 1.1034530e-03 2.6878246e-04]]\n",
            "Model이 예측한 값은 [5] 입니다.\n"
          ]
        }
      ]
    },
    {
      "cell_type": "markdown",
      "metadata": {
        "id": "wU7Rf-PbbOk8"
      },
      "source": [
        "### Tensor\n",
        "\n",
        "Tensor는 multi-dimensional array를 나타내는 말로, TensorFlow의 기본 data type입니다"
      ]
    },
    {
      "cell_type": "code",
      "metadata": {
        "id": "YfJJpCcybAhj",
        "outputId": "d5814caa-5d4d-4148-86c6-362209658668",
        "colab": {
          "base_uri": "https://localhost:8080/"
        }
      },
      "source": [
        "# Hello World\n",
        "hello = tf.constant([3,3], dtype=tf.float32)\n",
        "print(hello)"
      ],
      "execution_count": 36,
      "outputs": [
        {
          "output_type": "stream",
          "name": "stdout",
          "text": [
            "tf.Tensor([3. 3.], shape=(2,), dtype=float32)\n"
          ]
        }
      ]
    },
    {
      "cell_type": "code",
      "metadata": {
        "id": "HchAr_B6bYWz",
        "outputId": "dd2d39f7-3d8d-4b00-c3ff-7b5249034360",
        "colab": {
          "base_uri": "https://localhost:8080/"
        }
      },
      "source": [
        "# 상수형 tensor는 아래와 같이 만들 수 있습니다\n",
        "# 출력해보면 tensor의 값과 함께, shape과 내부의 data type을 함께 볼 수 있습니다\n",
        "x = tf.constant([[1.0, 2.0],\n",
        "                 [3.0, 4.0]])\n",
        "print(x)\n",
        "print(type(x))"
      ],
      "execution_count": 37,
      "outputs": [
        {
          "output_type": "stream",
          "name": "stdout",
          "text": [
            "tf.Tensor(\n",
            "[[1. 2.]\n",
            " [3. 4.]], shape=(2, 2), dtype=float32)\n",
            "<class 'tensorflow.python.framework.ops.EagerTensor'>\n"
          ]
        }
      ]
    },
    {
      "cell_type": "code",
      "metadata": {
        "id": "j3SNfH7hbbZs",
        "outputId": "fffa37e3-08eb-4861-f90d-cea7e33173e3",
        "colab": {
          "base_uri": "https://localhost:8080/"
        }
      },
      "source": [
        "# 아래와 같이 numpy ndarray나 python의 list도 tensor로 바꿀 수 있습니다\n",
        "x_np = np.array([[1.0, 2.0],\n",
        "                [3.0, 4.0]])\n",
        "x_list = [[1.0, 2.0], \n",
        "         [3.0, 4.0]]\n",
        "\n",
        "print(type(x_np))\n",
        "print(type(x_list))"
      ],
      "execution_count": 38,
      "outputs": [
        {
          "output_type": "stream",
          "name": "stdout",
          "text": [
            "<class 'numpy.ndarray'>\n",
            "<class 'list'>\n"
          ]
        }
      ]
    },
    {
      "cell_type": "code",
      "metadata": {
        "id": "LXT6RTiObcft",
        "outputId": "09e42098-055e-4c27-890d-c9e209a591c8",
        "colab": {
          "base_uri": "https://localhost:8080/"
        }
      },
      "source": [
        "x_np = tf.convert_to_tensor(x_np)\n",
        "x_list = tf.convert_to_tensor(x_list)\n",
        "\n",
        "print(type(x_np))\n",
        "print(type(x_list))"
      ],
      "execution_count": 39,
      "outputs": [
        {
          "output_type": "stream",
          "name": "stdout",
          "text": [
            "<class 'tensorflow.python.framework.ops.EagerTensor'>\n",
            "<class 'tensorflow.python.framework.ops.EagerTensor'>\n"
          ]
        }
      ]
    },
    {
      "cell_type": "code",
      "metadata": {
        "id": "MIG2-h_8begE",
        "outputId": "cd7e9cf4-ba39-4a69-9f93-774bcc944fc3",
        "colab": {
          "base_uri": "https://localhost:8080/"
        }
      },
      "source": [
        "# 반대로 tensor를 다음과 같이 numpy ndarray로 바꿀 수도 있습니다\n",
        "x.numpy()"
      ],
      "execution_count": 40,
      "outputs": [
        {
          "output_type": "execute_result",
          "data": {
            "text/plain": [
              "array([[1., 2.],\n",
              "       [3., 4.]], dtype=float32)"
            ]
          },
          "metadata": {},
          "execution_count": 40
        }
      ]
    },
    {
      "cell_type": "code",
      "metadata": {
        "id": "qAwnWTrfbfhk",
        "outputId": "673a1aff-91ad-4020-d9c8-46c383e3ca3d",
        "colab": {
          "base_uri": "https://localhost:8080/"
        }
      },
      "source": [
        "print(type(x.numpy()))"
      ],
      "execution_count": 41,
      "outputs": [
        {
          "output_type": "stream",
          "name": "stdout",
          "text": [
            "<class 'numpy.ndarray'>\n"
          ]
        }
      ]
    },
    {
      "cell_type": "code",
      "metadata": {
        "id": "0SwhFw8DbgxM",
        "outputId": "57a26f72-9293-4b73-f72e-ee1a30c03177",
        "colab": {
          "base_uri": "https://localhost:8080/"
        }
      },
      "source": [
        "a = tf.ones((2,3))\n",
        "b = tf.zeros((2,3))\n",
        "c = tf.fill((2,2), 2)\n",
        "print(a)\n",
        "print(b)\n",
        "print(c)"
      ],
      "execution_count": 42,
      "outputs": [
        {
          "output_type": "stream",
          "name": "stdout",
          "text": [
            "tf.Tensor(\n",
            "[[1. 1. 1.]\n",
            " [1. 1. 1.]], shape=(2, 3), dtype=float32)\n",
            "tf.Tensor(\n",
            "[[0. 0. 0.]\n",
            " [0. 0. 0.]], shape=(2, 3), dtype=float32)\n",
            "tf.Tensor(\n",
            "[[2 2]\n",
            " [2 2]], shape=(2, 2), dtype=int32)\n"
          ]
        }
      ]
    },
    {
      "cell_type": "code",
      "metadata": {
        "id": "AYp8GW02b-NT",
        "outputId": "b464ef04-4e20-4f09-f350-ed6873f06455",
        "colab": {
          "base_uri": "https://localhost:8080/"
        }
      },
      "source": [
        "d = tf.zeros_like(c)\n",
        "e = tf.ones_like(c)\n",
        "print(d)\n",
        "print(e)"
      ],
      "execution_count": 43,
      "outputs": [
        {
          "output_type": "stream",
          "name": "stdout",
          "text": [
            "tf.Tensor(\n",
            "[[0 0]\n",
            " [0 0]], shape=(2, 2), dtype=int32)\n",
            "tf.Tensor(\n",
            "[[1 1]\n",
            " [1 1]], shape=(2, 2), dtype=int32)\n"
          ]
        }
      ]
    },
    {
      "cell_type": "code",
      "metadata": {
        "id": "QjkKxrB6ccsc",
        "outputId": "428315d8-4927-43df-c4b5-626d3e27f9c4",
        "colab": {
          "base_uri": "https://localhost:8080/"
        }
      },
      "source": [
        "f = tf.eye(3)\n",
        "print(f)"
      ],
      "execution_count": 44,
      "outputs": [
        {
          "output_type": "stream",
          "name": "stdout",
          "text": [
            "tf.Tensor(\n",
            "[[1. 0. 0.]\n",
            " [0. 1. 0.]\n",
            " [0. 0. 1.]], shape=(3, 3), dtype=float32)\n"
          ]
        }
      ]
    },
    {
      "cell_type": "code",
      "metadata": {
        "id": "hA2msfJDlVMm",
        "outputId": "166ba19e-33d4-44af-9dd5-c2e3ce4ba558",
        "colab": {
          "base_uri": "https://localhost:8080/"
        }
      },
      "source": [
        "g  = tf.range(10)\n",
        "print(g)"
      ],
      "execution_count": 45,
      "outputs": [
        {
          "output_type": "stream",
          "name": "stdout",
          "text": [
            "tf.Tensor([0 1 2 3 4 5 6 7 8 9], shape=(10,), dtype=int32)\n"
          ]
        }
      ]
    },
    {
      "cell_type": "code",
      "metadata": {
        "id": "cSDPGRvalgBu",
        "outputId": "7050aa4c-1c11-4e8d-ced6-bc1d9a9d248e",
        "colab": {
          "base_uri": "https://localhost:8080/"
        }
      },
      "source": [
        "h = tf.random.uniform((2,2)) # np.rand\n",
        "i = tf.random.normal((2,2))  # np.randn\n",
        "print(h)\n",
        "print(i)"
      ],
      "execution_count": 46,
      "outputs": [
        {
          "output_type": "stream",
          "name": "stdout",
          "text": [
            "tf.Tensor(\n",
            "[[0.5053581  0.5902581 ]\n",
            " [0.06453311 0.06109202]], shape=(2, 2), dtype=float32)\n",
            "tf.Tensor(\n",
            "[[-0.20075054 -1.285519  ]\n",
            " [-0.38583395  0.9036953 ]], shape=(2, 2), dtype=float32)\n"
          ]
        }
      ]
    },
    {
      "cell_type": "markdown",
      "metadata": {
        "id": "o364b_dtmCLS"
      },
      "source": [
        "#### Tensor의 속성"
      ]
    },
    {
      "cell_type": "code",
      "metadata": {
        "id": "kJaZ9nmNlp4m",
        "outputId": "02acc89e-cae4-45e6-eb54-c2f4b306f039",
        "colab": {
          "base_uri": "https://localhost:8080/"
        }
      },
      "source": [
        "tensor = tf.random.normal((3,4))\n",
        "\n",
        "print(f\"Shape of tensor: {tensor.shape}\")\n",
        "print(f\"Datatype of tensor: {tensor.dtype}\")"
      ],
      "execution_count": 47,
      "outputs": [
        {
          "output_type": "stream",
          "name": "stdout",
          "text": [
            "Shape of tensor: (3, 4)\n",
            "Datatype of tensor: <dtype: 'float32'>\n"
          ]
        }
      ]
    },
    {
      "cell_type": "code",
      "metadata": {
        "id": "3RpWD9D7omzi",
        "outputId": "31dbaa4b-0ea0-4953-e1d4-0b9d9b69679e",
        "colab": {
          "base_uri": "https://localhost:8080/"
        }
      },
      "source": [
        "# 속성 변경\n",
        "tensor = tf.reshape(tensor, (4, 3))\n",
        "tensor = tf.cast(tensor, tf.int32)\n",
        "\n",
        "print(f\"Shape of tensor: {tensor.shape}\")\n",
        "print(f\"Datatype of tensor: {tensor.dtype}\")"
      ],
      "execution_count": 48,
      "outputs": [
        {
          "output_type": "stream",
          "name": "stdout",
          "text": [
            "Shape of tensor: (4, 3)\n",
            "Datatype of tensor: <dtype: 'int32'>\n"
          ]
        }
      ]
    },
    {
      "cell_type": "markdown",
      "metadata": {
        "id": "qRIucbyummIi"
      },
      "source": [
        "### Variable\n",
        "\n",
        "Variable은 변할 수 있는 상태를 저장하는데 사용되는 특별한 텐서입니다.\n",
        "딥러닝에서는 학습해야하는 가중치(weight, bias)들을 variable로 생성합니다."
      ]
    },
    {
      "cell_type": "code",
      "metadata": {
        "id": "Bg4SIFVImP0w",
        "outputId": "33944c86-d07c-4a50-b5c3-d6c55e3a3b36",
        "colab": {
          "base_uri": "https://localhost:8080/",
          "height": 282
        }
      },
      "source": [
        "# tensor의 값 변경 - 변경 불가능\n",
        "tensor = tf.ones((3,4))\n",
        "print(tensor)\n",
        "\n",
        "tensor[0,0] = 2."
      ],
      "execution_count": 49,
      "outputs": [
        {
          "output_type": "stream",
          "name": "stdout",
          "text": [
            "tf.Tensor(\n",
            "[[1. 1. 1. 1.]\n",
            " [1. 1. 1. 1.]\n",
            " [1. 1. 1. 1.]], shape=(3, 4), dtype=float32)\n"
          ]
        },
        {
          "output_type": "error",
          "ename": "TypeError",
          "evalue": "ignored",
          "traceback": [
            "\u001b[0;31m---------------------------------------------------------------------------\u001b[0m",
            "\u001b[0;31mTypeError\u001b[0m                                 Traceback (most recent call last)",
            "\u001b[0;32m<ipython-input-49-09e82e60b3e3>\u001b[0m in \u001b[0;36m<module>\u001b[0;34m()\u001b[0m\n\u001b[1;32m      3\u001b[0m \u001b[0mprint\u001b[0m\u001b[0;34m(\u001b[0m\u001b[0mtensor\u001b[0m\u001b[0;34m)\u001b[0m\u001b[0;34m\u001b[0m\u001b[0;34m\u001b[0m\u001b[0m\n\u001b[1;32m      4\u001b[0m \u001b[0;34m\u001b[0m\u001b[0m\n\u001b[0;32m----> 5\u001b[0;31m \u001b[0mtensor\u001b[0m\u001b[0;34m[\u001b[0m\u001b[0;36m0\u001b[0m\u001b[0;34m,\u001b[0m\u001b[0;36m0\u001b[0m\u001b[0;34m]\u001b[0m \u001b[0;34m=\u001b[0m \u001b[0;36m2.\u001b[0m\u001b[0;34m\u001b[0m\u001b[0;34m\u001b[0m\u001b[0m\n\u001b[0m",
            "\u001b[0;31mTypeError\u001b[0m: 'tensorflow.python.framework.ops.EagerTensor' object does not support item assignment"
          ]
        }
      ]
    },
    {
      "cell_type": "code",
      "metadata": {
        "id": "18QWNtDqnJzh",
        "outputId": "6bf84182-bb3e-4ad2-dfcf-47d43d8d1817",
        "colab": {
          "base_uri": "https://localhost:8080/"
        }
      },
      "source": [
        "# variable 만들기, 값 변경\n",
        "variable = tf.Variable(tensor)\n",
        "print(variable)\n",
        "\n",
        "variable[0,0].assign(2)\n",
        "print(variable)"
      ],
      "execution_count": 50,
      "outputs": [
        {
          "output_type": "stream",
          "name": "stdout",
          "text": [
            "<tf.Variable 'Variable:0' shape=(3, 4) dtype=float32, numpy=\n",
            "array([[1., 1., 1., 1.],\n",
            "       [1., 1., 1., 1.],\n",
            "       [1., 1., 1., 1.]], dtype=float32)>\n",
            "<tf.Variable 'Variable:0' shape=(3, 4) dtype=float32, numpy=\n",
            "array([[2., 1., 1., 1.],\n",
            "       [1., 1., 1., 1.],\n",
            "       [1., 1., 1., 1.]], dtype=float32)>\n"
          ]
        }
      ]
    },
    {
      "cell_type": "code",
      "metadata": {
        "id": "yQPHxINYm_1H",
        "outputId": "4d76755a-46a4-4b49-d07b-2f4c350117d2",
        "colab": {
          "base_uri": "https://localhost:8080/"
        }
      },
      "source": [
        "# 초기값을 사용해서 Variable을 생성할 수 있습니다\n",
        "initial_value = tf.random.normal(shape=(2, 2))\n",
        "weight = tf.Variable(initial_value)\n",
        "print(weight)"
      ],
      "execution_count": 51,
      "outputs": [
        {
          "output_type": "stream",
          "name": "stdout",
          "text": [
            "<tf.Variable 'Variable:0' shape=(2, 2) dtype=float32, numpy=\n",
            "array([[-2.286353  , -0.13812931],\n",
            "       [-1.6326504 ,  0.47700298]], dtype=float32)>\n"
          ]
        }
      ]
    },
    {
      "cell_type": "code",
      "metadata": {
        "id": "J9bbWyNQnpz3",
        "outputId": "1525470c-c7c7-44dd-e8df-ebadaa8d7dac",
        "colab": {
          "base_uri": "https://localhost:8080/"
        }
      },
      "source": [
        "# 아래와 같이 variable을 초기화해주는 initializer들을 사용할 수도 있습니다\n",
        "weight = tf.Variable(tf.random_normal_initializer(stddev=1.)(shape=(2,2)))\n",
        "print(weight)"
      ],
      "execution_count": 52,
      "outputs": [
        {
          "output_type": "stream",
          "name": "stdout",
          "text": [
            "<tf.Variable 'Variable:0' shape=(2, 2) dtype=float32, numpy=\n",
            "array([[-1.0288715 , -0.09941361],\n",
            "       [-0.70532036, -0.6311963 ]], dtype=float32)>\n"
          ]
        }
      ]
    },
    {
      "cell_type": "code",
      "metadata": {
        "id": "2HmxkQVtoPFf",
        "outputId": "f3ebbb82-d53b-4354-aa9d-22d94d507958",
        "colab": {
          "base_uri": "https://localhost:8080/"
        }
      },
      "source": [
        "# variable은 `.assign(value)`, `.assign_add(increment)`, 또는 `.assign_sub(decrement)`\n",
        "# 와 같은 메소드를 사용해서 Variable의 값을 갱신합니다:'''\n",
        "\n",
        "new_value = tf.random.normal(shape=(2,2))\n",
        "print(new_value)\n",
        "weight.assign(new_value)\n",
        "print(weight)"
      ],
      "execution_count": 53,
      "outputs": [
        {
          "output_type": "stream",
          "name": "stdout",
          "text": [
            "tf.Tensor(\n",
            "[[-0.6482884 -1.0219839]\n",
            " [ 0.765078  -2.3073745]], shape=(2, 2), dtype=float32)\n",
            "<tf.Variable 'Variable:0' shape=(2, 2) dtype=float32, numpy=\n",
            "array([[-0.6482884, -1.0219839],\n",
            "       [ 0.765078 , -2.3073745]], dtype=float32)>\n"
          ]
        }
      ]
    },
    {
      "cell_type": "code",
      "metadata": {
        "id": "a03m0sVuoRxH",
        "outputId": "aeacd15e-8d02-45a4-befa-32c1291af519",
        "colab": {
          "base_uri": "https://localhost:8080/"
        }
      },
      "source": [
        "added_value = tf.ones(shape=(2,2))\n",
        "weight.assign_sub(added_value)\n",
        "print(weight)"
      ],
      "execution_count": 54,
      "outputs": [
        {
          "output_type": "stream",
          "name": "stdout",
          "text": [
            "<tf.Variable 'Variable:0' shape=(2, 2) dtype=float32, numpy=\n",
            "array([[-1.6482885 , -2.0219839 ],\n",
            "       [-0.23492199, -3.3073745 ]], dtype=float32)>\n"
          ]
        }
      ]
    },
    {
      "cell_type": "markdown",
      "metadata": {
        "id": "SVvv2ITIobTs"
      },
      "source": [
        "### Indexing과 Slicing"
      ]
    },
    {
      "cell_type": "code",
      "metadata": {
        "id": "MmDw1IOnoTtH",
        "outputId": "dcd60701-b351-4d04-ea49-add78e734af4",
        "colab": {
          "base_uri": "https://localhost:8080/"
        }
      },
      "source": [
        "a = tf.range(1, 13)\n",
        "a = tf.reshape(a, (3, 4))\n",
        "print(a)"
      ],
      "execution_count": 55,
      "outputs": [
        {
          "output_type": "stream",
          "name": "stdout",
          "text": [
            "tf.Tensor(\n",
            "[[ 1  2  3  4]\n",
            " [ 5  6  7  8]\n",
            " [ 9 10 11 12]], shape=(3, 4), dtype=int32)\n"
          ]
        }
      ]
    },
    {
      "cell_type": "code",
      "metadata": {
        "id": "2HRF-l-eoh_o",
        "outputId": "aca83697-f68c-4d5f-d9bc-6d4624347951",
        "colab": {
          "base_uri": "https://localhost:8080/"
        }
      },
      "source": [
        "# indexing\n",
        "print(a[1])\n",
        "print(a[0,-1])"
      ],
      "execution_count": 56,
      "outputs": [
        {
          "output_type": "stream",
          "name": "stdout",
          "text": [
            "tf.Tensor([5 6 7 8], shape=(4,), dtype=int32)\n",
            "tf.Tensor(4, shape=(), dtype=int32)\n"
          ]
        }
      ]
    },
    {
      "cell_type": "code",
      "metadata": {
        "id": "wgLmdhMmo2fX",
        "outputId": "5306ceca-5309-4294-fbb8-cfbaba6e6b0a",
        "colab": {
          "base_uri": "https://localhost:8080/"
        }
      },
      "source": [
        "# slicing\n",
        "print(a[1:-1])\n",
        "print(a[:2, 2:])"
      ],
      "execution_count": 57,
      "outputs": [
        {
          "output_type": "stream",
          "name": "stdout",
          "text": [
            "tf.Tensor([[5 6 7 8]], shape=(1, 4), dtype=int32)\n",
            "tf.Tensor(\n",
            "[[3 4]\n",
            " [7 8]], shape=(2, 2), dtype=int32)\n"
          ]
        }
      ]
    },
    {
      "cell_type": "markdown",
      "metadata": {
        "id": "X54tCulGo7xb"
      },
      "source": [
        "### Transpose"
      ]
    },
    {
      "cell_type": "code",
      "metadata": {
        "id": "z1npXR75o554",
        "outputId": "3ca2abff-fa61-4fa5-e5a4-953b8f09ada8",
        "colab": {
          "base_uri": "https://localhost:8080/"
        }
      },
      "source": [
        "a = tf.range(16)\n",
        "a = tf.reshape(a, (2, 2, -1))\n",
        "print(a)"
      ],
      "execution_count": 58,
      "outputs": [
        {
          "output_type": "stream",
          "name": "stdout",
          "text": [
            "tf.Tensor(\n",
            "[[[ 0  1  2  3]\n",
            "  [ 4  5  6  7]]\n",
            "\n",
            " [[ 8  9 10 11]\n",
            "  [12 13 14 15]]], shape=(2, 2, 4), dtype=int32)\n"
          ]
        }
      ]
    },
    {
      "cell_type": "code",
      "metadata": {
        "id": "xActsV92pVIQ",
        "outputId": "11566ee8-cdd4-4bfd-b9f6-5c5c5d4aeaa6",
        "colab": {
          "base_uri": "https://localhost:8080/"
        }
      },
      "source": [
        "b = tf.transpose(a, (2, 0, 1))\n",
        "print(b)"
      ],
      "execution_count": 59,
      "outputs": [
        {
          "output_type": "stream",
          "name": "stdout",
          "text": [
            "tf.Tensor(\n",
            "[[[ 0  4]\n",
            "  [ 8 12]]\n",
            "\n",
            " [[ 1  5]\n",
            "  [ 9 13]]\n",
            "\n",
            " [[ 2  6]\n",
            "  [10 14]]\n",
            "\n",
            " [[ 3  7]\n",
            "  [11 15]]], shape=(4, 2, 2), dtype=int32)\n"
          ]
        }
      ]
    },
    {
      "cell_type": "markdown",
      "metadata": {
        "id": "WBKEyPlypgAz"
      },
      "source": [
        "### Tensor 연산"
      ]
    },
    {
      "cell_type": "code",
      "metadata": {
        "id": "Q3c7g2JSpYPg",
        "outputId": "a4645377-53c9-4d41-a1ad-87c145125496",
        "colab": {
          "base_uri": "https://localhost:8080/"
        }
      },
      "source": [
        "x = tf.constant([[1,2], [3,4]], dtype=tf.float32)\n",
        "y = tf.constant([[5,6], [7,8]], dtype=tf.float32)\n",
        "print(x)\n",
        "print(y)"
      ],
      "execution_count": 60,
      "outputs": [
        {
          "output_type": "stream",
          "name": "stdout",
          "text": [
            "tf.Tensor(\n",
            "[[1. 2.]\n",
            " [3. 4.]], shape=(2, 2), dtype=float32)\n",
            "tf.Tensor(\n",
            "[[5. 6.]\n",
            " [7. 8.]], shape=(2, 2), dtype=float32)\n"
          ]
        }
      ]
    },
    {
      "cell_type": "code",
      "metadata": {
        "id": "FUfznMmjpmnA",
        "outputId": "9af30681-e9e1-4c0d-e4fd-5e4bdd2efcaa",
        "colab": {
          "base_uri": "https://localhost:8080/"
        }
      },
      "source": [
        "print(x + y)\n",
        "print(x - y)\n",
        "print(x * y)\n",
        "print(x / y)\n",
        "print(x @ y)\n",
        "print('='*30)\n",
        "print(tf.add(x, y))\n",
        "print(tf.subtract(x, y))\n",
        "print(tf.multiply(x, y))\n",
        "print(tf.divide(x, y))\n",
        "print(tf.matmul(x, y))"
      ],
      "execution_count": 61,
      "outputs": [
        {
          "output_type": "stream",
          "name": "stdout",
          "text": [
            "tf.Tensor(\n",
            "[[ 6.  8.]\n",
            " [10. 12.]], shape=(2, 2), dtype=float32)\n",
            "tf.Tensor(\n",
            "[[-4. -4.]\n",
            " [-4. -4.]], shape=(2, 2), dtype=float32)\n",
            "tf.Tensor(\n",
            "[[ 5. 12.]\n",
            " [21. 32.]], shape=(2, 2), dtype=float32)\n",
            "tf.Tensor(\n",
            "[[0.2        0.33333334]\n",
            " [0.42857143 0.5       ]], shape=(2, 2), dtype=float32)\n",
            "tf.Tensor(\n",
            "[[19. 22.]\n",
            " [43. 50.]], shape=(2, 2), dtype=float32)\n",
            "==============================\n",
            "tf.Tensor(\n",
            "[[ 6.  8.]\n",
            " [10. 12.]], shape=(2, 2), dtype=float32)\n",
            "tf.Tensor(\n",
            "[[-4. -4.]\n",
            " [-4. -4.]], shape=(2, 2), dtype=float32)\n",
            "tf.Tensor(\n",
            "[[ 5. 12.]\n",
            " [21. 32.]], shape=(2, 2), dtype=float32)\n",
            "tf.Tensor(\n",
            "[[0.2        0.33333334]\n",
            " [0.42857143 0.5       ]], shape=(2, 2), dtype=float32)\n",
            "tf.Tensor(\n",
            "[[19. 22.]\n",
            " [43. 50.]], shape=(2, 2), dtype=float32)\n"
          ]
        }
      ]
    },
    {
      "cell_type": "code",
      "metadata": {
        "id": "vGwjOHyOprW4",
        "outputId": "32dd4f2a-c7d9-4cce-c83a-8b83348d9330",
        "colab": {
          "base_uri": "https://localhost:8080/"
        }
      },
      "source": [
        "z = tf.range(1, 11)\n",
        "z = tf.reshape(z, (2, 5))\n",
        "print(z)"
      ],
      "execution_count": 62,
      "outputs": [
        {
          "output_type": "stream",
          "name": "stdout",
          "text": [
            "tf.Tensor(\n",
            "[[ 1  2  3  4  5]\n",
            " [ 6  7  8  9 10]], shape=(2, 5), dtype=int32)\n"
          ]
        }
      ]
    },
    {
      "cell_type": "code",
      "metadata": {
        "id": "XFfJw1jdSsD9",
        "outputId": "4a2b70e6-1f96-4200-ff90-a592b2ec94cd",
        "colab": {
          "base_uri": "https://localhost:8080/"
        }
      },
      "source": [
        "print(tf.reduce_sum(z))"
      ],
      "execution_count": 63,
      "outputs": [
        {
          "output_type": "stream",
          "name": "stdout",
          "text": [
            "tf.Tensor(55, shape=(), dtype=int32)\n"
          ]
        }
      ]
    },
    {
      "cell_type": "code",
      "metadata": {
        "id": "cr_2RM0Up6to",
        "outputId": "1e2d5ea5-2e7b-4586-e754-7a3066115b4a",
        "colab": {
          "base_uri": "https://localhost:8080/"
        }
      },
      "source": [
        "sum1 = tf.reduce_sum(z, axis=0)\n",
        "sum2 = tf.reduce_sum(z, axis=1)\n",
        "sum3 = tf.reduce_sum(z, axis=-1)\n",
        "print(sum1)\n",
        "print(sum2)\n",
        "print(sum3)"
      ],
      "execution_count": 64,
      "outputs": [
        {
          "output_type": "stream",
          "name": "stdout",
          "text": [
            "tf.Tensor([ 7  9 11 13 15], shape=(5,), dtype=int32)\n",
            "tf.Tensor([15 40], shape=(2,), dtype=int32)\n",
            "tf.Tensor([15 40], shape=(2,), dtype=int32)\n"
          ]
        }
      ]
    },
    {
      "cell_type": "code",
      "metadata": {
        "id": "ujBDhmPcqAEg",
        "outputId": "5bbae524-9825-4e9d-a904-a8df78152909",
        "colab": {
          "base_uri": "https://localhost:8080/"
        }
      },
      "source": [
        "concat = tf.concat([z, z], axis=0)\n",
        "print(concat)"
      ],
      "execution_count": 65,
      "outputs": [
        {
          "output_type": "stream",
          "name": "stdout",
          "text": [
            "tf.Tensor(\n",
            "[[ 1  2  3  4  5]\n",
            " [ 6  7  8  9 10]\n",
            " [ 1  2  3  4  5]\n",
            " [ 6  7  8  9 10]], shape=(4, 5), dtype=int32)\n"
          ]
        }
      ]
    },
    {
      "cell_type": "code",
      "metadata": {
        "id": "Zo7teoSJqPVw",
        "outputId": "c934da46-df23-4865-ca1a-f4befd62248e",
        "colab": {
          "base_uri": "https://localhost:8080/"
        }
      },
      "source": [
        "concat = tf.concat([z, z], axis=-1)\n",
        "print(concat)"
      ],
      "execution_count": 66,
      "outputs": [
        {
          "output_type": "stream",
          "name": "stdout",
          "text": [
            "tf.Tensor(\n",
            "[[ 1  2  3  4  5  1  2  3  4  5]\n",
            " [ 6  7  8  9 10  6  7  8  9 10]], shape=(2, 10), dtype=int32)\n"
          ]
        }
      ]
    },
    {
      "cell_type": "code",
      "metadata": {
        "id": "NjqZ8G3DqTv4",
        "outputId": "9ee86b5d-8bdc-4014-8a99-76195d81fe2b",
        "colab": {
          "base_uri": "https://localhost:8080/"
        }
      },
      "source": [
        "stack = tf.stack([z, z], axis=0)\n",
        "print(stack)"
      ],
      "execution_count": 67,
      "outputs": [
        {
          "output_type": "stream",
          "name": "stdout",
          "text": [
            "tf.Tensor(\n",
            "[[[ 1  2  3  4  5]\n",
            "  [ 6  7  8  9 10]]\n",
            "\n",
            " [[ 1  2  3  4  5]\n",
            "  [ 6  7  8  9 10]]], shape=(2, 2, 5), dtype=int32)\n"
          ]
        }
      ]
    },
    {
      "cell_type": "code",
      "metadata": {
        "id": "elWjpDZGqXuY",
        "outputId": "0dfb28a9-cbc5-4d56-a1de-fd7706ab923c",
        "colab": {
          "base_uri": "https://localhost:8080/"
        }
      },
      "source": [
        "stack = tf.stack([z, z], axis=-1)\n",
        "print(stack)"
      ],
      "execution_count": 68,
      "outputs": [
        {
          "output_type": "stream",
          "name": "stdout",
          "text": [
            "tf.Tensor(\n",
            "[[[ 1  1]\n",
            "  [ 2  2]\n",
            "  [ 3  3]\n",
            "  [ 4  4]\n",
            "  [ 5  5]]\n",
            "\n",
            " [[ 6  6]\n",
            "  [ 7  7]\n",
            "  [ 8  8]\n",
            "  [ 9  9]\n",
            "  [10 10]]], shape=(2, 5, 2), dtype=int32)\n"
          ]
        }
      ]
    },
    {
      "cell_type": "code",
      "metadata": {
        "id": "Z0MJo_ObTEN9",
        "outputId": "8022c5de-fadd-42b2-f3a8-d3f51ca7352e",
        "colab": {
          "base_uri": "https://localhost:8080/"
        }
      },
      "source": [
        "stack = tf.stack([z, z], axis=1)\n",
        "print(stack)"
      ],
      "execution_count": 69,
      "outputs": [
        {
          "output_type": "stream",
          "name": "stdout",
          "text": [
            "tf.Tensor(\n",
            "[[[ 1  2  3  4  5]\n",
            "  [ 1  2  3  4  5]]\n",
            "\n",
            " [[ 6  7  8  9 10]\n",
            "  [ 6  7  8  9 10]]], shape=(2, 2, 5), dtype=int32)\n"
          ]
        }
      ]
    },
    {
      "cell_type": "markdown",
      "metadata": {
        "id": "7rwqkPk6ufp3"
      },
      "source": [
        "## Dataset\n",
        "\n",
        "Data를 처리하여 model에 공급하기 위하여 TensorFlow에서는 tf.data.Dataset을 사용합니다."
      ]
    },
    {
      "cell_type": "markdown",
      "metadata": {
        "id": "-YzYF_FUuwYt"
      },
      "source": [
        "### FashoinMNIST data 불러오기"
      ]
    },
    {
      "cell_type": "code",
      "metadata": {
        "id": "f-qiNiQ8qZ8A"
      },
      "source": [
        "mnist = keras.datasets.fashion_mnist\n",
        "class_names = ['T-shirt/top', 'Trouser', 'Pullover', 'Dress', 'Coat', 'Sandal', 'Shirt', 'Sneaker', 'Bag', 'Ankle boot']\n",
        "\n",
        "(train_images, train_labels), (test_images, test_labels) = mnist.load_data()"
      ],
      "execution_count": null,
      "outputs": []
    },
    {
      "cell_type": "code",
      "metadata": {
        "id": "zPy0L1v-u7VZ"
      },
      "source": [
        "# train_images, train_labels의 shape 확인\n",
        "print(train_images.shape, train_labels.shape)"
      ],
      "execution_count": null,
      "outputs": []
    },
    {
      "cell_type": "code",
      "metadata": {
        "id": "DelbP1XivAyJ"
      },
      "source": [
        "# test_images, test_labels의 shape 확인\n",
        "print(test_images.shape, test_labels.shape)"
      ],
      "execution_count": null,
      "outputs": []
    },
    {
      "cell_type": "code",
      "metadata": {
        "id": "D6InVziDTw_-"
      },
      "source": [
        "type(train_images)"
      ],
      "execution_count": null,
      "outputs": []
    },
    {
      "cell_type": "code",
      "metadata": {
        "id": "y8Ojc9i9vDc5"
      },
      "source": [
        "# training set의 각 class 별 image 수 확인\n",
        "unique, counts = np.unique(train_labels, axis=-1, return_counts=True)\n",
        "dict(zip(unique, counts))"
      ],
      "execution_count": null,
      "outputs": []
    },
    {
      "cell_type": "code",
      "metadata": {
        "id": "f4Ff24ELvFzR"
      },
      "source": [
        "# test set의 각 class 별 image 수 확인\n",
        "unique, counts = np.unique(test_labels, axis=-1, return_counts=True)\n",
        "dict(zip(unique, counts))"
      ],
      "execution_count": null,
      "outputs": []
    },
    {
      "cell_type": "markdown",
      "metadata": {
        "id": "GrWCNyPZvPgN"
      },
      "source": [
        "### Data 시각화하기"
      ]
    },
    {
      "cell_type": "code",
      "metadata": {
        "id": "JMKlUaKfvLQJ"
      },
      "source": [
        "plt.figure(figsize=(8,8))\n",
        "for i in range(9):\n",
        "    plt.subplot(3,3,i+1)\n",
        "    plt.xticks([])\n",
        "    plt.yticks([])\n",
        "    plt.grid(False)\n",
        "    plt.imshow(train_images[i], cmap='gray')\n",
        "    plt.title(class_names[train_labels[i]])\n",
        "plt.show()"
      ],
      "execution_count": null,
      "outputs": []
    },
    {
      "cell_type": "markdown",
      "metadata": {
        "id": "7P6_DBZPvrMu"
      },
      "source": [
        "### Data 전처리"
      ]
    },
    {
      "cell_type": "code",
      "metadata": {
        "id": "wfjS_-y4vqQm"
      },
      "source": [
        "# image를 0~1사이 값으로 만들기 위하여 255로 나누어줌\n",
        "train_images = train_images.astype(np.float32) / 255.\n",
        "test_images = test_images.astype(np.float32) / 255.\n",
        "\n",
        "# one-hot encoding\n",
        "train_labels = keras.utils.to_categorical(train_labels, 10)\n",
        "test_labels = keras.utils.to_categorical(test_labels, 10)"
      ],
      "execution_count": null,
      "outputs": []
    },
    {
      "cell_type": "markdown",
      "metadata": {
        "id": "oDe8mN1-vmGh"
      },
      "source": [
        "### Dataset 만들기"
      ]
    },
    {
      "cell_type": "code",
      "metadata": {
        "id": "rc8hRxHWvUqZ"
      },
      "source": [
        "train_dataset = tf.data.Dataset.from_tensor_slices((train_images, train_labels)).shuffle(\n",
        "                buffer_size=100000).batch(64)\n",
        "test_dataset = tf.data.Dataset.from_tensor_slices((test_images, test_labels)).batch(64)"
      ],
      "execution_count": null,
      "outputs": []
    },
    {
      "cell_type": "code",
      "metadata": {
        "id": "MpaQhxmvv7_a"
      },
      "source": [
        "# Dataset을 통해 반복하기(iterate)\n",
        "# 이미지와 정답(label)을 표시합니다.\n",
        "imgs, lbs = next(iter(train_dataset))\n",
        "print(f\"Feature batch shape: {imgs.shape}\")\n",
        "print(f\"Labels batch shape: {lbs.shape}\")\n",
        "\n",
        "img = imgs[0]\n",
        "lb = lbs[0]\n",
        "plt.imshow(img, cmap='gray')\n",
        "plt.show()\n",
        "print(f\"Label: {lb}\")"
      ],
      "execution_count": null,
      "outputs": []
    },
    {
      "cell_type": "markdown",
      "metadata": {
        "id": "kyrVNM2fwn12"
      },
      "source": [
        "### Custom Dataset 만들기"
      ]
    },
    {
      "cell_type": "code",
      "metadata": {
        "id": "FzzXDgNGwnBV"
      },
      "source": [
        "a = np.arange(10)\n",
        "print(a)\n",
        "\n",
        "ds_tensors = tf.data.Dataset.from_tensor_slices(a)\n",
        "print(ds_tensors)\n",
        "\n",
        "for x in ds_tensors:\n",
        "    print (x)"
      ],
      "execution_count": null,
      "outputs": []
    },
    {
      "cell_type": "code",
      "metadata": {
        "id": "6hAXE-CUwPmq"
      },
      "source": [
        "# data 전처리(변환), shuffle, batch 추가\n",
        "ds_tensors = ds_tensors.map(tf.square).shuffle(10).batch(2)"
      ],
      "execution_count": null,
      "outputs": []
    },
    {
      "cell_type": "code",
      "metadata": {
        "id": "mbB3APdIw8QK"
      },
      "source": [
        "for _ in range(3):\n",
        "    for x in ds_tensors:\n",
        "        print(x)\n",
        "    print('='*50)"
      ],
      "execution_count": null,
      "outputs": []
    },
    {
      "cell_type": "markdown",
      "metadata": {
        "id": "ek-Z53ZpxD7P"
      },
      "source": [
        "## Model"
      ]
    },
    {
      "cell_type": "markdown",
      "metadata": {
        "id": "8aFljiFtxGUP"
      },
      "source": [
        "### Keras Sequential API 사용\n"
      ]
    },
    {
      "cell_type": "code",
      "metadata": {
        "id": "8Id8VOEiw-nT"
      },
      "source": [
        "def create_seq_model():\n",
        "  model = keras.Sequential()\n",
        "  model.add(keras.layers.Flatten(input_shape=(28, 28)))\n",
        "  model.add(keras.layers.Dense(128, activation='relu'))\n",
        "  model.add(keras.layers.Dropout(0.2))\n",
        "  model.add(keras.layers.Dense(10, activation='softmax'))\n",
        "  return model"
      ],
      "execution_count": null,
      "outputs": []
    },
    {
      "cell_type": "code",
      "metadata": {
        "id": "fc-0GKtqxopy"
      },
      "source": [
        "seq_model = create_seq_model()"
      ],
      "execution_count": null,
      "outputs": []
    },
    {
      "cell_type": "code",
      "metadata": {
        "id": "MVask4mlxtLy"
      },
      "source": [
        "seq_model.summary()"
      ],
      "execution_count": null,
      "outputs": []
    },
    {
      "cell_type": "markdown",
      "metadata": {
        "id": "6fB29iRAxyP_"
      },
      "source": [
        "### Keras Functional API 사용"
      ]
    },
    {
      "cell_type": "code",
      "metadata": {
        "id": "nzzxJsKfxwXS"
      },
      "source": [
        "def create_func_model():\n",
        "  inputs = keras.Input(shape=(28,28))\n",
        "  flatten = keras.layers.Flatten()(inputs)\n",
        "  dense = keras.layers.Dense(128, activation='relu')(flatten)\n",
        "  drop = keras.layers.Dropout(0.2)(dense)\n",
        "  outputs = keras.layers.Dense(10, activation='softmax')(drop)\n",
        "  model = keras.Model(inputs=inputs, outputs=outputs)\n",
        "  return model"
      ],
      "execution_count": null,
      "outputs": []
    },
    {
      "cell_type": "code",
      "metadata": {
        "id": "SvFHBdqyyhJ6"
      },
      "source": [
        "func_model = create_func_model()"
      ],
      "execution_count": null,
      "outputs": []
    },
    {
      "cell_type": "code",
      "metadata": {
        "id": "gYqg6n73yjXq"
      },
      "source": [
        "func_model.summary()"
      ],
      "execution_count": null,
      "outputs": []
    },
    {
      "cell_type": "markdown",
      "metadata": {
        "id": "J3weqVyOymnn"
      },
      "source": [
        "### Model Class Subclassing 사용"
      ]
    },
    {
      "cell_type": "code",
      "metadata": {
        "id": "Y8pq4dLnykdS"
      },
      "source": [
        "class SubClassModel(keras.Model):\n",
        "  def __init__(self):\n",
        "    super(SubClassModel, self).__init__()\n",
        "    self.flatten = keras.layers.Flatten(input_shape=(28, 28))\n",
        "    self.dense1 = keras.layers.Dense(128, activation='relu')\n",
        "    self.drop = keras.layers.Dropout(0.2)\n",
        "    self.dense2 = keras.layers.Dense(10, activation='softmax')\n",
        "  def call(self, x, training=False):\n",
        "    x = self.flatten(x)\n",
        "    x = self.dense1(x)\n",
        "    x = self.drop(x)\n",
        "    return self.dense2(x)"
      ],
      "execution_count": null,
      "outputs": []
    },
    {
      "cell_type": "code",
      "metadata": {
        "id": "tt52E2NWzURC"
      },
      "source": [
        "subclass_model = SubClassModel()"
      ],
      "execution_count": null,
      "outputs": []
    },
    {
      "cell_type": "code",
      "metadata": {
        "id": "RV_KgXakzadz"
      },
      "source": [
        "inputs = tf.zeros((1, 28, 28))\n",
        "subclass_model(inputs)\n",
        "subclass_model.summary()"
      ],
      "execution_count": null,
      "outputs": []
    },
    {
      "cell_type": "code",
      "metadata": {
        "id": "CYl4PqbCzbtz"
      },
      "source": [
        "# 가상의 data 만들어서 예측해보기\n",
        "inputs = tf.random.normal((1, 28, 28))\n",
        "outputs = subclass_model(inputs)\n",
        "pred = tf.argmax(outputs, -1)\n",
        "print(f\"Predicted class: {pred}\")"
      ],
      "execution_count": null,
      "outputs": []
    },
    {
      "cell_type": "markdown",
      "metadata": {
        "id": "Hjgp8OAD01GH"
      },
      "source": [
        "## Traning / Validation"
      ]
    },
    {
      "cell_type": "markdown",
      "metadata": {
        "id": "XJlGY-dy5J5q"
      },
      "source": [
        "### Keras API 사용"
      ]
    },
    {
      "cell_type": "code",
      "metadata": {
        "id": "P6cF-y6R0yCL"
      },
      "source": [
        "learning_rate = 0.001\n",
        "seq_model.compile(optimizer=tf.keras.optimizers.Adam(learning_rate),\n",
        "              loss='categorical_crossentropy',\n",
        "              metrics=['accuracy'])"
      ],
      "execution_count": null,
      "outputs": []
    },
    {
      "cell_type": "code",
      "metadata": {
        "id": "dioyr2Q057wc"
      },
      "source": [
        "history = seq_model.fit(train_dataset, epochs=10, validation_data=test_dataset)"
      ],
      "execution_count": null,
      "outputs": []
    },
    {
      "cell_type": "code",
      "metadata": {
        "id": "tilZI3YW6Tll"
      },
      "source": [
        "## Plot losses\n",
        "plt.plot(history.history['loss'], 'b-', label='loss')\n",
        "plt.plot(history.history['val_loss'], 'r--', label='val_loss')\n",
        "plt.xlabel('Epoch')\n",
        "plt.legend()\n",
        "plt.show()"
      ],
      "execution_count": null,
      "outputs": []
    },
    {
      "cell_type": "code",
      "metadata": {
        "id": "LY-a3Y546xhs"
      },
      "source": [
        "## Plot Accuracy\n",
        "plt.plot(history.history['accuracy'], 'b-', label='acc')\n",
        "plt.plot(history.history['val_accuracy'], 'r--', label='val_acc')\n",
        "plt.xlabel('Epoch')\n",
        "plt.legend()\n",
        "plt.show()"
      ],
      "execution_count": null,
      "outputs": []
    },
    {
      "cell_type": "markdown",
      "metadata": {
        "id": "4VFqWUCm7K_z"
      },
      "source": [
        "### GradientTape 사용"
      ]
    },
    {
      "cell_type": "code",
      "metadata": {
        "id": "vOwN4DFI60R9"
      },
      "source": [
        "# loss function\n",
        "loss_object = keras.losses.CategoricalCrossentropy()"
      ],
      "execution_count": null,
      "outputs": []
    },
    {
      "cell_type": "code",
      "metadata": {
        "id": "153jt421803l"
      },
      "source": [
        "# optimizer\n",
        "learning_rate = 0.001\n",
        "optimizer = keras.optimizers.Adam(learning_rate=learning_rate)"
      ],
      "execution_count": null,
      "outputs": []
    },
    {
      "cell_type": "code",
      "metadata": {
        "id": "IBDHMbMD9-nW"
      },
      "source": [
        "# loss, accuracy 계산\n",
        "train_loss = keras.metrics.Mean(name='train_loss')\n",
        "train_accuracy = keras.metrics.CategoricalAccuracy(name='train_accuracy')\n",
        "\n",
        "test_loss = keras.metrics.Mean(name='test_loss')\n",
        "test_accuracy = keras.metrics.CategoricalAccuracy(name='test_accuracy')"
      ],
      "execution_count": null,
      "outputs": []
    },
    {
      "cell_type": "code",
      "metadata": {
        "id": "Tc9TNfY7-QI9"
      },
      "source": [
        "@tf.function\n",
        "def train_step(model, images, labels):\n",
        "  with tf.GradientTape() as tape:\n",
        "    # training=True is only needed if there are layers with different\n",
        "    # behavior during training versus inference (e.g. Dropout).\n",
        "    predictions = model(images, training=True)\n",
        "    loss = loss_object(labels, predictions)\n",
        "  gradients = tape.gradient(loss, model.trainable_variables)\n",
        "  optimizer.apply_gradients(zip(gradients, model.trainable_variables))\n",
        "\n",
        "  train_loss(loss)\n",
        "  train_accuracy(labels, predictions)"
      ],
      "execution_count": null,
      "outputs": []
    },
    {
      "cell_type": "code",
      "metadata": {
        "id": "mnnvO_O4-0m-"
      },
      "source": [
        "@tf.function\n",
        "def test_step(model, images, labels):\n",
        "  # training=False is only needed if there are layers with different\n",
        "  # behavior during training versus inference (e.g. Dropout).\n",
        "  predictions = model(images, training=False)\n",
        "  t_loss = loss_object(labels, predictions)\n",
        "\n",
        "  test_loss(t_loss)\n",
        "  test_accuracy(labels, predictions)"
      ],
      "execution_count": null,
      "outputs": []
    },
    {
      "cell_type": "code",
      "metadata": {
        "id": "ukQTFQ3C-4H2"
      },
      "source": [
        "EPOCHS = 10\n",
        "\n",
        "for epoch in range(EPOCHS):\n",
        "  # Reset the metrics at the start of the next epoch\n",
        "  train_loss.reset_states()\n",
        "  train_accuracy.reset_states()\n",
        "  test_loss.reset_states()\n",
        "  test_accuracy.reset_states()\n",
        "\n",
        "  for images, labels in train_dataset:\n",
        "    train_step(func_model, images, labels)\n",
        "\n",
        "  for test_images, test_labels in test_dataset:\n",
        "    test_step(func_model, test_images, test_labels)\n",
        "\n",
        "  print(\n",
        "    f'Epoch {epoch + 1}, '\n",
        "    f'Loss: {train_loss.result()}, '\n",
        "    f'Accuracy: {train_accuracy.result() * 100}, '\n",
        "    f'Test Loss: {test_loss.result()}, '\n",
        "    f'Test Accuracy: {test_accuracy.result() * 100}'\n",
        "  )"
      ],
      "execution_count": null,
      "outputs": []
    },
    {
      "cell_type": "markdown",
      "metadata": {
        "id": "bsylMBvG_SKk"
      },
      "source": [
        "## Model 저장하고 불러오기"
      ]
    },
    {
      "cell_type": "markdown",
      "metadata": {
        "id": "ILZ2UZtG_Wcs"
      },
      "source": [
        "### parameter만 저장하고 불러오기"
      ]
    },
    {
      "cell_type": "code",
      "metadata": {
        "id": "aW3urlf_--wV"
      },
      "source": [
        "seq_model.save_weights('seq_model.ckpt')"
      ],
      "execution_count": null,
      "outputs": []
    },
    {
      "cell_type": "code",
      "metadata": {
        "id": "jscos7SR_rne"
      },
      "source": [
        "seq_model_2 = create_seq_model()\n",
        "seq_model_2.compile(optimizer=tf.keras.optimizers.Adam(learning_rate),\n",
        "              loss='categorical_crossentropy',\n",
        "              metrics=['accuracy'])"
      ],
      "execution_count": null,
      "outputs": []
    },
    {
      "cell_type": "code",
      "metadata": {
        "id": "ZG5_n34L_w-m"
      },
      "source": [
        "seq_model_2.evaluate(test_dataset)"
      ],
      "execution_count": null,
      "outputs": []
    },
    {
      "cell_type": "code",
      "metadata": {
        "id": "cG35uDOz_z-u"
      },
      "source": [
        "seq_model_2.load_weights('seq_model.ckpt')"
      ],
      "execution_count": null,
      "outputs": []
    },
    {
      "cell_type": "code",
      "metadata": {
        "id": "RY0CZ78kAFmW"
      },
      "source": [
        "seq_model_2.evaluate(test_dataset)"
      ],
      "execution_count": null,
      "outputs": []
    },
    {
      "cell_type": "markdown",
      "metadata": {
        "id": "u78ZB3NmAKIj"
      },
      "source": [
        "### Model 전체를 저장하고 불러오기"
      ]
    },
    {
      "cell_type": "code",
      "metadata": {
        "id": "cwIHNJj4AICO"
      },
      "source": [
        "seq_model.save('seq_model')"
      ],
      "execution_count": null,
      "outputs": []
    },
    {
      "cell_type": "code",
      "metadata": {
        "id": "RjEAsrR8ARgm"
      },
      "source": [
        "!ls"
      ],
      "execution_count": null,
      "outputs": []
    },
    {
      "cell_type": "code",
      "metadata": {
        "id": "PpWXRoL6ASPG"
      },
      "source": [
        "seq_model_3 = keras.models.load_model('seq_model')"
      ],
      "execution_count": null,
      "outputs": []
    },
    {
      "cell_type": "code",
      "metadata": {
        "id": "OhqSNOwYAWhY"
      },
      "source": [
        "seq_model_3.evaluate(test_dataset)"
      ],
      "execution_count": null,
      "outputs": []
    },
    {
      "cell_type": "markdown",
      "metadata": {
        "id": "OnC96I2rBbX2"
      },
      "source": [
        "## Tensorboard 사용하여 시각화하기"
      ]
    },
    {
      "cell_type": "code",
      "metadata": {
        "id": "r-ex0q2wBozU"
      },
      "source": [
        "%load_ext tensorboard"
      ],
      "execution_count": null,
      "outputs": []
    },
    {
      "cell_type": "markdown",
      "metadata": {
        "id": "K9JUuJeEBemF"
      },
      "source": [
        "### Keras Callback 사용"
      ]
    },
    {
      "cell_type": "code",
      "metadata": {
        "id": "gbRabVS3Ahmm"
      },
      "source": [
        "new_model_1 = create_seq_model()\n",
        "new_model_1.compile(optimizer=tf.keras.optimizers.Adam(learning_rate),\n",
        "              loss='categorical_crossentropy',\n",
        "              metrics=['accuracy'])"
      ],
      "execution_count": null,
      "outputs": []
    },
    {
      "cell_type": "code",
      "metadata": {
        "id": "9ltOogSpB9pX"
      },
      "source": [
        "new_model_1.evaluate(test_dataset)"
      ],
      "execution_count": null,
      "outputs": []
    },
    {
      "cell_type": "code",
      "metadata": {
        "id": "P-xKwk0YB_bv"
      },
      "source": [
        "log_dir = './logs/new_model_1'\n",
        "\n",
        "tensorboard_cb = keras.callbacks.TensorBoard(log_dir, histogram_freq=1)"
      ],
      "execution_count": null,
      "outputs": []
    },
    {
      "cell_type": "code",
      "metadata": {
        "id": "0fpClL_kCFJ3"
      },
      "source": [
        "new_model_1.fit(train_dataset, epochs=EPOCHS, validation_data=test_dataset,\n",
        "          callbacks=[tensorboard_cb])"
      ],
      "execution_count": null,
      "outputs": []
    },
    {
      "cell_type": "code",
      "metadata": {
        "id": "d2ax9hr6CRn2"
      },
      "source": [
        "%tensorboard --logdir $log_dir"
      ],
      "execution_count": null,
      "outputs": []
    },
    {
      "cell_type": "markdown",
      "metadata": {
        "id": "cj3kL_VkDHGX"
      },
      "source": [
        "### Summary Writer 사용"
      ]
    },
    {
      "cell_type": "code",
      "metadata": {
        "id": "ixN0sIh4Cdwu"
      },
      "source": [
        "new_model_2 = create_seq_model()"
      ],
      "execution_count": null,
      "outputs": []
    },
    {
      "cell_type": "code",
      "metadata": {
        "id": "gduevEpWFP-j"
      },
      "source": [
        "# loss function\n",
        "loss_object = keras.losses.CategoricalCrossentropy()"
      ],
      "execution_count": null,
      "outputs": []
    },
    {
      "cell_type": "code",
      "metadata": {
        "id": "-7CDR7-vFP-k"
      },
      "source": [
        "# optimizer\n",
        "learning_rate = 0.001\n",
        "optimizer = keras.optimizers.Adam(learning_rate=learning_rate)"
      ],
      "execution_count": null,
      "outputs": []
    },
    {
      "cell_type": "code",
      "metadata": {
        "id": "hv4GjjlOFP-k"
      },
      "source": [
        "# loss, accuracy 계산\n",
        "train_loss = keras.metrics.Mean(name='train_loss')\n",
        "train_accuracy = keras.metrics.CategoricalAccuracy(name='train_accuracy')\n",
        "\n",
        "test_loss = keras.metrics.Mean(name='test_loss')\n",
        "test_accuracy = keras.metrics.CategoricalAccuracy(name='test_accuracy')"
      ],
      "execution_count": null,
      "outputs": []
    },
    {
      "cell_type": "code",
      "metadata": {
        "id": "4m9Y_gRjFP-k"
      },
      "source": [
        "@tf.function\n",
        "def train_step(model, images, labels):\n",
        "  with tf.GradientTape() as tape:\n",
        "    # training=True is only needed if there are layers with different\n",
        "    # behavior during training versus inference (e.g. Dropout).\n",
        "    predictions = model(images, training=True)\n",
        "    loss = loss_object(labels, predictions)\n",
        "  gradients = tape.gradient(loss, model.trainable_variables)\n",
        "  optimizer.apply_gradients(zip(gradients, model.trainable_variables))\n",
        "\n",
        "  train_loss(loss)\n",
        "  train_accuracy(labels, predictions)"
      ],
      "execution_count": null,
      "outputs": []
    },
    {
      "cell_type": "code",
      "metadata": {
        "id": "HO6G7COHFP-l"
      },
      "source": [
        "@tf.function\n",
        "def test_step(model, images, labels):\n",
        "  # training=False is only needed if there are layers with different\n",
        "  # behavior during training versus inference (e.g. Dropout).\n",
        "  predictions = model(images, training=False)\n",
        "  t_loss = loss_object(labels, predictions)\n",
        "\n",
        "  test_loss(t_loss)\n",
        "  test_accuracy(labels, predictions)"
      ],
      "execution_count": null,
      "outputs": []
    },
    {
      "cell_type": "code",
      "metadata": {
        "id": "2acmbCz3Dprf"
      },
      "source": [
        "import datetime\n",
        "\n",
        "current_time = datetime.datetime.now().strftime(\"%Y%m%d-%H%M%S\")\n",
        "train_log_dir = 'logs/gradient_tape/' + current_time + '/train'\n",
        "test_log_dir = 'logs/gradient_tape/' + current_time + '/test'\n",
        "train_summary_writer = tf.summary.create_file_writer(train_log_dir)\n",
        "test_summary_writer = tf.summary.create_file_writer(test_log_dir)"
      ],
      "execution_count": null,
      "outputs": []
    },
    {
      "cell_type": "code",
      "metadata": {
        "id": "skAzBMSxEfcP"
      },
      "source": [
        "EPOCHS = 10\n",
        "\n",
        "for epoch in range(EPOCHS):\n",
        "  # Reset the metrics at the start of the next epoch\n",
        "  train_loss.reset_states()\n",
        "  train_accuracy.reset_states()\n",
        "  test_loss.reset_states()\n",
        "  test_accuracy.reset_states()\n",
        "\n",
        "  for images, labels in train_dataset:\n",
        "    train_step(new_model_2, images, labels)\n",
        "  with train_summary_writer.as_default():\n",
        "    tf.summary.scalar('loss', train_loss.result(), step=epoch)\n",
        "    tf.summary.scalar('accuracy', train_accuracy.result(), step=epoch)\n",
        "\n",
        "  for test_images, test_labels in test_dataset:\n",
        "    test_step(new_model_2, test_images, test_labels)\n",
        "  with test_summary_writer.as_default():\n",
        "    tf.summary.scalar('loss', test_loss.result(), step=epoch)\n",
        "    tf.summary.scalar('accuracy', test_accuracy.result(), step=epoch)\n",
        "\n",
        "  print(\n",
        "    f'Epoch {epoch + 1}, '\n",
        "    f'Loss: {train_loss.result()}, '\n",
        "    f'Accuracy: {train_accuracy.result() * 100}, '\n",
        "    f'Test Loss: {test_loss.result()}, '\n",
        "    f'Test Accuracy: {test_accuracy.result() * 100}'\n",
        "  )"
      ],
      "execution_count": null,
      "outputs": []
    },
    {
      "cell_type": "code",
      "metadata": {
        "id": "vsqzb5FlEQeX"
      },
      "source": [
        "%tensorboard --logdir 'logs/gradient_tape'"
      ],
      "execution_count": null,
      "outputs": []
    },
    {
      "cell_type": "code",
      "metadata": {
        "id": "vSbtb9aAFajQ"
      },
      "source": [
        ""
      ],
      "execution_count": null,
      "outputs": []
    }
  ]
}