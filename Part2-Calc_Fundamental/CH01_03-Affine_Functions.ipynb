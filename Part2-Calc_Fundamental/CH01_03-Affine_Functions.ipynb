{
  "nbformat": 4,
  "nbformat_minor": 0,
  "metadata": {
    "colab": {
      "name": "[구현강의]Affine_function",
      "provenance": [],
      "collapsed_sections": [],
      "toc_visible": true
    },
    "kernelspec": {
      "name": "python3",
      "display_name": "Python 3"
    },
    "language_info": {
      "name": "python"
    }
  },
  "cells": [
    {
      "cell_type": "markdown",
      "metadata": {
        "id": "WjSV2rd4zSyC"
      },
      "source": [
        "#Lecture.O.Introduction"
      ]
    },
    {
      "cell_type": "markdown",
      "metadata": {
        "id": "Y0aYOWcoz5XH"
      },
      "source": [
        "# Affine Function "
      ]
    },
    {
      "cell_type": "code",
      "source": [
        "import tensorflow as tf\n",
        "from tensorflow.keras.layers import Dense\n",
        "\n",
        "x = tf.constant([[10.]])   # input setting\n",
        "dense = Dense(units =1, activation='linear')\n",
        "\n",
        "y_tf = dense(x)    # forward propagation + params intitialization\n",
        "w, b = dense.get_weights()\n",
        "\n",
        "y_man = tf.linalg.matmul(x, w) + b\n",
        "\n",
        "# print results\n",
        "print('========Input/Weight/Bias=========')\n",
        "print(\"x: {}\\n{}\\n\".format(x.shape, x.numpy()))\n",
        "print(\"w: {}\\n{}\\n\".format(w.shape, w))\n",
        "print(\"b: {}\\n{}\\n\".format(b.shape, b))\n",
        "print('========output/Weight/Bias=========')\n",
        "print(\"y(Tensorflow):{}\\n{}\\n)\".format(y_tf.shape,y_tf.numpy()))\n",
        "print(\"y(Manual): {}\\n{}\\n\".format(y_man.shape,y_man.numpy()))"
      ],
      "metadata": {
        "id": "NInm_sQ1RDoq",
        "outputId": "9a72e059-cd20-4f04-b653-7e98f9273b18",
        "colab": {
          "base_uri": "https://localhost:8080/"
        }
      },
      "execution_count": 2,
      "outputs": [
        {
          "output_type": "stream",
          "name": "stdout",
          "text": [
            "========Input/Weight/Bias=========\n",
            "x: (1, 1)\n",
            "[[10.]]\n",
            "\n",
            "w: (1, 1)\n",
            "[[-0.6118276]]\n",
            "\n",
            "b: (1,)\n",
            "[0.]\n",
            "\n",
            "========output/Weight/Bias=========\n",
            "y(Tensorflow):(1, 1)\n",
            "[[-6.118276]]\n",
            ")\n",
            "y(Manual): (1, 1)\n",
            "[[-6.118276]]\n",
            "\n"
          ]
        }
      ]
    },
    {
      "cell_type": "code",
      "metadata": {
        "id": "ZOQH8JrDFocc",
        "outputId": "b0640a60-2254-4dcf-9e7e-41d1c5f43a9a",
        "colab": {
          "base_uri": "https://localhost:8080/"
        }
      },
      "source": [
        "import tensorflow as tf\n",
        "\n",
        "from tensorflow.keras.layers import Dense\n",
        "\n",
        "x = tf.constant([[10.]]) #input setting(Note : input ->matrix)\n",
        "dense = Dense(units = 1, activation = 'linear') #imp.an affine function\n",
        "\n",
        "y_tf = dense(x) #forward propagation + parass initialization\n",
        "W, B = dense.get_weights()\n",
        "y_man = tf.linalg.matmul(x,W)+B\n",
        "\n",
        "print('========Input/Weight/Bias=========')\n",
        "print(\"x : {}\\n{}\\n\".format(x.shape,x.numpy()))\n",
        "print(\"W : {}\\n{}\\n\".format(x.shape,W))\n",
        "print(\"B : {}\\n{}\\n\".format(x.shape,B))\n",
        "print('========output/Weight/Bias=========')\n",
        "print(\"y(Tensorflow):{}\\n{}\\n)\".format(y_tf.shape,y_tf.numpy()))\n",
        "print(\"y(Manual): {}\\n{}\\n\".format(y_man.shape,y_man.numpy()))"
      ],
      "execution_count": 19,
      "outputs": [
        {
          "output_type": "stream",
          "name": "stdout",
          "text": [
            "========Input/Weight/Bias=========\n",
            "x : (1, 1)\n",
            "[[10.]]\n",
            "\n",
            "W : (1, 1)\n",
            "[[1.0936776]]\n",
            "\n",
            "B : (1, 1)\n",
            "[0.]\n",
            "\n",
            "========output/Weight/Bias=========\n",
            "y(Tensorflow):(1, 1)\n",
            "[[10.936776]]\n",
            ")\n",
            "y(Manual): (1, 1)\n",
            "[[10.936776]]\n",
            "\n"
          ]
        }
      ]
    },
    {
      "cell_type": "markdown",
      "metadata": {
        "id": "zs3dzv5xQTsZ"
      },
      "source": [
        ""
      ]
    },
    {
      "cell_type": "markdown",
      "metadata": {
        "id": "mjb_e0rvz7j6"
      },
      "source": [
        "#Params Initalization"
      ]
    },
    {
      "cell_type": "code",
      "metadata": {
        "id": "JByiPvy9zc-a",
        "outputId": "4d3e7fc5-ea1f-4d4c-8484-3fb44fe51443",
        "colab": {
          "base_uri": "https://localhost:8080/"
        }
      },
      "source": [
        "import tensorflow as tf\n",
        "\n",
        "from tensorflow.keras.layers import Dense\n",
        "from tensorflow.keras.initializers import Constant\n",
        "\n",
        "#x = tf.constant([[10.]]) #input setting(Note : input ->matrix)\n",
        "x = tf.random.uniform(shape=(1,10),minval = 0, maxval = 10)\n",
        "print(x, \"\\n\")\n",
        "\n",
        "w,b = tf.constant(10.), tf.constant(20.)\n",
        "\n",
        "w_init,b_init = Constant(w), Constant(b)\n",
        "print(\"w_init : {}\\nb_init : {}\\n\".format(w_init, b_init))\n",
        "\n",
        "dense = Dense(units = 1,\n",
        "              activation = 'linear',\n",
        "              kernel_initializer = w_init,\n",
        "              bias_initializer = b_init)\n",
        "\n",
        "y_tf = dense(x)\n",
        "\n",
        "print(y_tf)\n",
        "\n",
        "W,B = dense.get_weights()\n",
        "\n",
        "print(\"W :{}\\n{}\\n\".format(W.shape,W))\n",
        "\n",
        "print(\"B :{}\\n{}\\n\".format(B.shape,B))"
      ],
      "execution_count": 39,
      "outputs": [
        {
          "output_type": "stream",
          "name": "stdout",
          "text": [
            "tf.Tensor(\n",
            "[[6.6801605  3.0281186  4.1777554  6.608467   7.4045563  3.0640388\n",
            "  4.8149347  4.301584   6.8599987  0.48817754]], shape=(1, 10), dtype=float32) \n",
            "\n",
            "w_init : <keras.initializers.initializers_v2.Constant object at 0x7f6bf0967350>\n",
            "b_init : <keras.initializers.initializers_v2.Constant object at 0x7f6bf1cf1410>\n",
            "\n",
            "tf.Tensor([[494.27792]], shape=(1, 1), dtype=float32)\n",
            "W :(10, 1)\n",
            "[[10.]\n",
            " [10.]\n",
            " [10.]\n",
            " [10.]\n",
            " [10.]\n",
            " [10.]\n",
            " [10.]\n",
            " [10.]\n",
            " [10.]\n",
            " [10.]]\n",
            "\n",
            "B :(1,)\n",
            "[20.]\n",
            "\n"
          ]
        }
      ]
    },
    {
      "cell_type": "markdown",
      "metadata": {
        "id": "hQvo3OneWI0X"
      },
      "source": [
        "# AFfine Function with n Features"
      ]
    },
    {
      "cell_type": "code",
      "metadata": {
        "id": "nlcgemXoWPHO",
        "outputId": "29533ef1-fb01-4a54-de27-8c3348aa2ba2",
        "colab": {
          "base_uri": "https://localhost:8080/"
        }
      },
      "source": [
        "import tensorflow as tf\n",
        "\n",
        "from tensorflow.keras.layers import Dense\n",
        "x = tf.random.uniform(shape=(1,10),minval = 0, maxval = 10)\n",
        "\n",
        "dense =Dense(units =1)\n",
        "\n",
        "y_tf = dense(x)\n",
        "\n",
        "W,B = dense.get_weights()\n",
        "\n",
        "y_man = tf.linalg.matmul(x,W)+B\n",
        "\n",
        "print('========Input/Weight/Bias=========')\n",
        "print(\"x : {}\\n{}\\n\".format(x.shape,x.numpy()))\n",
        "print(\"W : {}\\n{}\\n\".format(x.shape,W))\n",
        "print(\"B : {}\\n{}\\n\".format(x.shape,B))\n",
        "print('========output/Weight/Bias=========')\n",
        "print(\"y(Tensorflow):{}\\n{}\\n)\".format(y_tf.shape,y_tf.numpy()))\n",
        "print(\"y(Manual): {}\\n{}\\n\".format(y_man.shape,y_man.numpy()))"
      ],
      "execution_count": null,
      "outputs": [
        {
          "output_type": "stream",
          "name": "stdout",
          "text": [
            "========Input/Weight/Bias=========\n",
            "x : (1, 10)\n",
            "[[7.9917154 1.5939546 3.6623788 5.930132  4.1579294 1.9468498 9.329365\n",
            "  3.3001912 5.9754906 3.4010065]]\n",
            "\n",
            "W : (1, 10)\n",
            "[[-0.7187897 ]\n",
            " [ 0.16026056]\n",
            " [-0.7038838 ]\n",
            " [ 0.05983025]\n",
            " [ 0.5176279 ]\n",
            " [-0.57064265]\n",
            " [ 0.3633433 ]\n",
            " [ 0.5104824 ]\n",
            " [-0.20740503]\n",
            " [-0.64648724]]\n",
            "\n",
            "B : (1, 10)\n",
            "[0.]\n",
            "\n",
            "========output/Weight/Bias=========\n",
            "y(Tensorflow):(1, 1)\n",
            "[[-5.034301]]\n",
            ")\n",
            "y(Manual): (1, 1)\n",
            "[[-5.034301]]\n",
            "\n"
          ]
        }
      ]
    }
  ]
}