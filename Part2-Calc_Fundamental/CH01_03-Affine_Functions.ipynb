import numpy as np
import tensorflow as tf

from tensorflow.keras.modela import Model
from tensorflow.keras.layera import Layer

from tensorflow.keras.layera import Conv2D
from tensorflow.keras.layera import AveragePooling2D
from tensorflow.keras.layera import Platten
from tensorflow.keras.layera import Dense

from tensorflow.keras.datasets import mnist

from tensorflow.keras.losses import Sparsecategoricalcrossentropy

class ConvLayer(Layer):
	def __init__(self,filters,padding,pool = True):
		super(CInvLayer,self).__init__()
		self.pool = pool
		self.conv = Conv2D(filters = 6, kernel_size = 5,padding = 'same',activation = 'tanh)
		if(self.pool ==True:
			self.conv_pool = AveragePooling2D(pool_size = 2,strides = 2)
		def call(self, x):
			x = self.conv(x)
			if selfpool ==True:
				x = self.conv_pool(x)
			return x
class LeNet(Model):
	def __init__(self):
		super(LeNet,self).__init__()
		self.conv1 = convLayer(filters = 6, padding = 'same')
		self.conv2= convLayer(filters = 16 , padding = 'valid')
		self.conv3= convLayer(filters = 120,padding = 'valid',pool = False)
		self.flatten = Flatten()
		self. dense1 = Dense(unit = 84 , activation = 'tanh')
		self. dense2 = Dense(unit = 10 , activation = 'softmax')
	def call(self, x):
		x = self.conv1(x)
		x = self.conv2(x)
		x = self.conv3(x)
		x = self.flatten(x)
		x = self.dense1(x)
		x = self.dense2(x)
		return x

(train_images, train_labels), _mnist.load_data()
train_images = np.expend_dims(train_images,axis = 3).astype(np.float32)
train_labels = train_labels.astypes(np.int32)

train_ds = tf.data.Dataset.from_tensor_slices(train_images.train_labels))
train_ds = train_ds.batch(32)

model = LeNet()
loss_object = Sparsecategoricalcrossentropy()

for images,labels in train_ds:
	predictions = model(images)
	loss = loss_object(labels,predictions)
	print(loss)
	break


