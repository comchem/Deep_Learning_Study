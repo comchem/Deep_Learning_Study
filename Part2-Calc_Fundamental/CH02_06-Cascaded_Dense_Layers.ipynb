{
  "nbformat": 4,
  "nbformat_minor": 0,
  "metadata": {
    "colab": {
      "name": "CH02_06. [구현강의]_Cascaded_Dense_Layers",
      "provenance": [],
      "collapsed_sections": [],
      "toc_visible": true
    },
    "kernelspec": {
      "name": "python3",
      "display_name": "Python 3"
    },
    "language_info": {
      "name": "python"
    }
  },
  "cells": [
    {
      "cell_type": "markdown",
      "metadata": {
        "id": "XSf1SAVDPMA9"
      },
      "source": [
        "#Shapes of cacaded Dense Layers"
      ]
    },
    {
      "cell_type": "code",
      "source": [
        "import tensorflow as tf\n",
        "\n",
        "from tensorflow.keras.layers import Dense\n",
        "\n",
        "N,n_feature = 4,10\n",
        "X = tf.random.normal(shape = (N, n_feature))\n",
        "\n",
        "n_neurons = [3, 5]\n",
        "dense1 = Dense(units = n_neurons[0],activation = 'sigmoid')\n",
        "dense2 = Dense(units = n_neurons[1],activation = 'sigmoid')\n",
        "\n",
        "# forward proparation\n",
        "A1 = dense1(X)\n",
        "Y = dense2(A1)\n",
        "\n",
        "# get weight/bias\n",
        "W1, B1 = dense1.get_weights()\n",
        "W2, B2 = dense2.get_weights()\n",
        "\n",
        "print(\"X: {}\\n\".format(X.shape))\n",
        "\n",
        "print(\"W1: \", W1.shape)\n",
        "print(\"B1: \", B1.shape)\n",
        "print(\"A1: {}\\n\".format(A1.shape))\n",
        "\n",
        "print(\"W2: \", W2.shape)\n",
        "print(\"B2: \", B2.shape)\n",
        "print(\"Y: {}\\n\".format(Y.shape))"
      ],
      "metadata": {
        "colab": {
          "base_uri": "https://localhost:8080/"
        },
        "id": "LF_URjwyzfzI",
        "outputId": "241f343f-0b3b-4c36-f9bf-f188d813e552"
      },
      "execution_count": 1,
      "outputs": [
        {
          "output_type": "stream",
          "name": "stdout",
          "text": [
            "X: (4, 10)\n",
            "\n",
            "W1:  (10, 3)\n",
            "B1:  (3,)\n",
            "A1: (4, 3)\n",
            "\n",
            "W2:  (3, 5)\n",
            "B2:  (5,)\n",
            "Y: (4, 5)\n",
            "\n"
          ]
        }
      ]
    },
    {
      "cell_type": "markdown",
      "metadata": {
        "id": "_SdniaFbPMit"
      },
      "source": [
        "#Dense Layers with Python List"
      ]
    },
    {
      "cell_type": "code",
      "source": [
        "import tensorflow as tf\n",
        "\n",
        "from tensorflow.keras.layers import Dense\n",
        "\n",
        "N,n_feature = 4,10\n",
        "X = tf.random.normal(shape = (N, n_feature))\n",
        "\n",
        "n_neurons = [10, 20, 30, 40, 50, 60, 70, 80, 90, 100]\n",
        "\n",
        "dense_layers = list()\n",
        "for n_neuron in n_neurons:\n",
        "  dense = Dense(units = n_neuron, activation = 'relu')\n",
        "  dense_layers.append(dense)\n",
        "\n",
        "#print(dense_layers)\n",
        "\n",
        "print(\"Input: \", X.shape)\n",
        "for dense_idx, dense in enumerate(dense_layers):\n",
        "  X = dense(X)\n",
        "  print(\"After dense layer\", dense_idx + 1)\n",
        "  print(X.shape, '\\n')\n",
        "\n",
        "Y = X\n",
        "#print(Y)"
      ],
      "metadata": {
        "colab": {
          "base_uri": "https://localhost:8080/"
        },
        "id": "Cw76PO601IvP",
        "outputId": "84419a2b-5089-4fc1-ea89-5fb70363884a"
      },
      "execution_count": 6,
      "outputs": [
        {
          "output_type": "stream",
          "name": "stdout",
          "text": [
            "Input:  (4, 10)\n",
            "After dense layer 1\n",
            "(4, 10) \n",
            "\n",
            "After dense layer 2\n",
            "(4, 20) \n",
            "\n",
            "After dense layer 3\n",
            "(4, 30) \n",
            "\n",
            "After dense layer 4\n",
            "(4, 40) \n",
            "\n",
            "After dense layer 5\n",
            "(4, 50) \n",
            "\n",
            "After dense layer 6\n",
            "(4, 60) \n",
            "\n",
            "After dense layer 7\n",
            "(4, 70) \n",
            "\n",
            "After dense layer 8\n",
            "(4, 80) \n",
            "\n",
            "After dense layer 9\n",
            "(4, 90) \n",
            "\n",
            "After dense layer 10\n",
            "(4, 100) \n",
            "\n"
          ]
        }
      ]
    },
    {
      "cell_type": "markdown",
      "metadata": {
        "id": "cs5sSmgtPNPK"
      },
      "source": [
        "#Output Calculations"
      ]
    },
    {
      "cell_type": "code",
      "source": [
        "import tensorflow as tf\n",
        "\n",
        "from tensorflow.math import exp\n",
        "from tensorflow.linalg import matmul\n",
        "from tensorflow.keras.layers import Dense\n",
        "\n",
        "N,n_feature = 4,10\n",
        "X = tf.random.normal(shape = (N, n_feature))\n",
        "X_cp = tf.identity(X)    # Function of copy value = identify\n",
        "\n",
        "n_neurons = [3, 4, 5]\n",
        "\n",
        "dense_layers = list()\n",
        "for n_neuron in n_neurons:\n",
        "  dense = Dense(units = n_neuron, activation = 'sigmoid')\n",
        "  dense_layers.append(dense)\n",
        "\n",
        "# forward propagation(Tensorflow)\n",
        "W, B = list(), list()\n",
        "for dense_idx, dense in enumerate(dense_layers):\n",
        "  X = dense(X)\n",
        "  w, b = dense.get_weights()\n",
        "\n",
        "  W.append(w)\n",
        "  B.append(b)\n",
        "\n",
        "print(\"Y(Tensorflow): \\n\", X.numpy())\n",
        "\n",
        "# forward propagation(Manual)\n",
        "for layer_idx in range(len(n_neurons)):\n",
        "  w, b = W[layer_idx], B[layer_idx]\n",
        "\n",
        "  X_cp = matmul(X_cp, w) + b\n",
        "  X_cp = 1/(1 + exp(-X_cp))\n",
        "\n",
        "print(\"Y(Manual): \\n\", X_cp.numpy())"
      ],
      "metadata": {
        "colab": {
          "base_uri": "https://localhost:8080/"
        },
        "id": "P0yOP0YE3ef4",
        "outputId": "e984957e-d455-4e39-f6c9-ee49956c435f"
      },
      "execution_count": 7,
      "outputs": [
        {
          "output_type": "stream",
          "name": "stdout",
          "text": [
            "Y(Tensorflow): \n",
            " [[0.5562441  0.6211207  0.54774314 0.56713814 0.5340434 ]\n",
            " [0.5895257  0.65184546 0.5494538  0.60655797 0.5116706 ]\n",
            " [0.5699274  0.64533144 0.55729026 0.5853602  0.52636504]\n",
            " [0.5744212  0.65853083 0.56422377 0.5912091  0.53071284]]\n",
            "Y(Manual): \n",
            " [[0.5562441  0.6211207  0.54774314 0.56713814 0.5340434 ]\n",
            " [0.5895257  0.65184546 0.5494538  0.60655797 0.5116706 ]\n",
            " [0.56992733 0.64533144 0.55729026 0.5853602  0.52636504]\n",
            " [0.5744212  0.6585309  0.56422377 0.5912091  0.5307128 ]]\n"
          ]
        }
      ]
    }
  ]
}