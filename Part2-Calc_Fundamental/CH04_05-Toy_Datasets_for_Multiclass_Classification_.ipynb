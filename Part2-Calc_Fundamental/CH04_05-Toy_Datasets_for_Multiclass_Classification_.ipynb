{
  "nbformat": 4,
  "nbformat_minor": 0,
  "metadata": {
    "colab": {
      "name": "CH04_05. [구현강의]_Toy_Datasets_for_Multiclass_Classification.",
      "provenance": [],
      "collapsed_sections": []
    },
    "kernelspec": {
      "name": "python3",
      "display_name": "Python 3"
    },
    "language_info": {
      "name": "python"
    }
  },
  "cells": [
    {
      "cell_type": "markdown",
      "metadata": {
        "id": "MSpKRmKslpOW"
      },
      "source": [
        "# Dataset for Multi-class Classification"
      ]
    },
    {
      "cell_type": "code",
      "source": [
        "import tensorflow as tf\n",
        "import matplotlib.pyplot as plt\n",
        "\n",
        "plt.style.use('seaborn')\n",
        "\n",
        "N, n_feature = 5, 2\n",
        "n_class = 3\n",
        "\n",
        "X = tf.zeros(shape=(0, n_feature))\n",
        "Y = tf.zeros(shape=(0, 1), dtype = tf.int32)\n",
        "\n",
        "fig, ax = plt.subplots(figsize = (5,5))\n",
        "for class_idx in range(n_class):\n",
        "  center = tf.random.uniform(minval = -15, maxval = 15, shape = (2,))\n",
        "  #print(center)\n",
        "\n",
        "  x1 = center[0] + tf.random.normal(shape=(N,1))\n",
        "  x2 = center[1] + tf.random.normal(shape=(N,1))\n",
        "\n",
        "  x = tf.concat((x1, x2), axis = 1)    # bind_cols()\n",
        "  #print(x)\n",
        "  y = class_idx * tf.ones(shape = (N,1), dtype = tf.int32)\n",
        "\n",
        "  ax.scatter(x[:,0].numpy(), x[:,1].numpy(), alpha = 0.3)\n",
        "\n",
        "  X = tf.concat((X,x), axis = 0)      # bind_rows()\n",
        "  Y = tf.concat((Y,y), axis = 0)\n",
        "\n",
        "print(\"X(shape/dtype/data): {} / {}\\n{}\\n\".format(X.shape, X.dtype, X.numpy()))\n",
        "print(\"Y(shape/dtype/data): {} / {}\\n{}\\n\".format(Y.shape, Y.dtype, Y.numpy()))"
      ],
      "metadata": {
        "id": "2MG4HsQsoiFv",
        "outputId": "958d3608-9e12-450e-87c3-ff492546b693",
        "colab": {
          "base_uri": "https://localhost:8080/",
          "height": 939
        }
      },
      "execution_count": 17,
      "outputs": [
        {
          "output_type": "stream",
          "name": "stdout",
          "text": [
            "X(shape/dtype/data): (15, 2) / <dtype: 'float32'>\n",
            "[[ -4.547056    6.116047 ]\n",
            " [ -4.8619266   8.122889 ]\n",
            " [ -3.183149    6.4292655]\n",
            " [ -2.3731256   6.039078 ]\n",
            " [ -2.0438664   6.993445 ]\n",
            " [-10.972393  -12.281955 ]\n",
            " [-11.1332    -12.891178 ]\n",
            " [-12.468395  -15.304913 ]\n",
            " [-13.859421  -12.501005 ]\n",
            " [-12.596612  -13.276172 ]\n",
            " [-10.902027   13.233488 ]\n",
            " [-10.184381   13.031971 ]\n",
            " [ -7.5018506  13.761258 ]\n",
            " [ -8.1674595  12.540111 ]\n",
            " [ -9.461375   12.396079 ]]\n",
            "\n",
            "Y(shape/dtype/data): (15, 1) / <dtype: 'int32'>\n",
            "[[0]\n",
            " [0]\n",
            " [0]\n",
            " [0]\n",
            " [0]\n",
            " [1]\n",
            " [1]\n",
            " [1]\n",
            " [1]\n",
            " [1]\n",
            " [2]\n",
            " [2]\n",
            " [2]\n",
            " [2]\n",
            " [2]]\n",
            "\n"
          ]
        },
        {
          "output_type": "display_data",
          "data": {
            "image/png": "[encoded data removed]",
            "text/plain": [
              "<Figure size 360x360 with 1 Axes>"
            ]
          },
          "metadata": {}
        }
      ]
    },
    {
      "cell_type": "markdown",
      "metadata": {
        "id": "LkNAoSV8mDxM"
      },
      "source": [
        "#Dataset for Multi-class Classification with One-hot Encording"
      ]
    },
    {
      "cell_type": "code",
      "source": [
        "import tensorflow as tf\n",
        "import matplotlib.pyplot as plt\n",
        "\n",
        "plt.style.use('seaborn')\n",
        "\n",
        "N, n_feature = 5, 2\n",
        "n_class = 3\n",
        "\n",
        "X = tf.zeros(shape=(0, n_feature))\n",
        "Y = tf.zeros(shape=(0, ), dtype = tf.int32)\n",
        "\n",
        "fig, ax = plt.subplots(figsize = (5,5))\n",
        "for class_idx in range(n_class):\n",
        "  center = tf.random.uniform(minval = -15, maxval = 15, shape = (2,))\n",
        "  #print(center)\n",
        "\n",
        "  x1 = center[0] + tf.random.normal(shape=(N,1))\n",
        "  x2 = center[1] + tf.random.normal(shape=(N,1))\n",
        "\n",
        "  x = tf.concat((x1, x2), axis = 1)    # bind_cols()\n",
        "  #print(x)\n",
        "  y = class_idx * tf.ones(shape = (N,), dtype = tf.int32)\n",
        "\n",
        "  ax.scatter(x[:,0].numpy(), x[:,1].numpy(), alpha = 0.3)\n",
        "\n",
        "  X = tf.concat((X,x), axis = 0)      # bind_rows()\n",
        "  Y = tf.concat((Y,y), axis = 0)\n",
        "\n",
        "Y = tf.one_hot(Y, depth = n_class, dtype= tf.int32)\n",
        "\n",
        "print(\"X(shape/dtype/data): {} / {}\\n{}\\n\".format(X.shape, X.dtype, X.numpy()))\n",
        "print(\"Y(shape/dtype/data): {} / {}\\n{}\\n\".format(Y.shape, Y.dtype, Y.numpy()))"
      ],
      "metadata": {
        "id": "p9wjc_8i1eMf",
        "outputId": "cbfb4775-206c-4f67-e955-4efb6f579f26",
        "colab": {
          "base_uri": "https://localhost:8080/",
          "height": 937
        }
      },
      "execution_count": 19,
      "outputs": [
        {
          "output_type": "stream",
          "name": "stdout",
          "text": [
            "X(shape/dtype/data): (15, 2) / <dtype: 'float32'>\n",
            "[[-15.191386    -8.401382  ]\n",
            " [-14.266269    -7.7353044 ]\n",
            " [-14.559777    -9.048112  ]\n",
            " [-14.239033    -7.288768  ]\n",
            " [-15.391691    -7.4510913 ]\n",
            " [ 10.883646     2.2785606 ]\n",
            " [ 12.171546     0.72602725]\n",
            " [ 10.684769     2.6178005 ]\n",
            " [ 10.617866     0.9026513 ]\n",
            " [ 12.00046      1.0786067 ]\n",
            " [  5.4207835   -9.204544  ]\n",
            " [  4.995592    -6.6208467 ]\n",
            " [  8.44318     -8.741545  ]\n",
            " [  5.7506013   -6.134897  ]\n",
            " [  8.80592    -10.424775  ]]\n",
            "\n",
            "Y(shape/dtype/data): (15, 3) / <dtype: 'int32'>\n",
            "[[1 0 0]\n",
            " [1 0 0]\n",
            " [1 0 0]\n",
            " [1 0 0]\n",
            " [1 0 0]\n",
            " [0 1 0]\n",
            " [0 1 0]\n",
            " [0 1 0]\n",
            " [0 1 0]\n",
            " [0 1 0]\n",
            " [0 0 1]\n",
            " [0 0 1]\n",
            " [0 0 1]\n",
            " [0 0 1]\n",
            " [0 0 1]]\n",
            "\n"
          ]
        },
        {
          "output_type": "display_data",
          "data": {
            "image/png": "[encoded data removed]",
            "text/plain": [
              "<Figure size 360x360 with 1 Axes>"
            ]
          },
          "metadata": {}
        }
      ]
    },
    {
      "cell_type": "code",
      "metadata": {
        "id": "3cbWNE7LmEKy"
      },
      "source": [
        "import tensorflow as tf\n",
        "import matplotlib.pyplot as plt\n",
        "\n",
        "plt.style.use('seaborn')\n",
        "\n",
        "N, n_feature = 8, 2\n",
        "n_class = 3\n",
        "\n",
        "X = tf. zeros(shape=(0, n_feature))\n",
        "Y = tf. zeros(shapes(0, ), dtype = tf.int32)\n",
        "\n",
        "fig, ax = plt.subplots(figaize=(5, 5))\n",
        "for class_idx in range(n_class):\n",
        "  center = tf.random.uniform(minval=-15, maxval=15, shape=(2, ))\n",
        "  \n",
        "  x1 = center(0) + tf.random.normal(shape=(N, 1))\n",
        "  x2 = center(1) + tf.random.normal(shape=(N, 1))\n",
        "  \n",
        "  x = tf.concat((xl, x2), axis = 1)\n",
        "  y = class _idx*tf.ones(shape=(N, ), dtype = tf.int32)\n",
        "  ax.scatter(x[:, 0).numpy(), x{t, 1].numpy(), alpha=0.3)\n",
        "\n",
        "  X = tf.concat((X, x), axis=0)\n",
        "  Y = tf.concat((Y, y), axis=0)\n",
        "\n",
        "Y = tf.one_hot(Y,depth = n_class,dtype =tf.int32)\n",
        "\n",
        "print(\"X(shape/dtype/data): {} / {}\\n{}\\n\".format(X.shape, X.dtype, X.numpy()))\n",
        "print(\"Y(shape/dtype/data): {} / {}\\n{}\\n\".format(Y.shape, Y.dtype, Y.numpy()))"
      ],
      "execution_count": null,
      "outputs": []
    },
    {
      "cell_type": "markdown",
      "metadata": {
        "id": "zRXdsp6clqr9"
      },
      "source": [
        "# Dataset objects"
      ]
    },
    {
      "cell_type": "code",
      "metadata": {
        "id": "kzRJsr8wnNgC"
      },
      "source": [
        "import tensorflow as tf\n",
        "\n",
        "N, n_feature = 100, 5\n",
        "batch_size = 32\n",
        "\n",
        "t_weights = tf.constant([1, 2, 3, 4, 5], dtype =tf.float32)\n",
        "t_bias = tf.constant([10],dtype = tf.float32)\n",
        "\n",
        "X = tf.random.normal(mean=0, stddev =1, shape=(N, n_feature))\n",
        "Y = tf. reduce_sum(t_weights*X, axis=1) + t_bias\n",
        "\n",
        "dataset = tf.data.Dataset.from_tensor_slices(({X, Y))\n",
        "dataset = dataset.batch(batch_size).shuffle(100)\n",
        "\n",
        "for x, y in dataset:\n",
        "  print(x.shape, y.shape)"
      ],
      "execution_count": null,
      "outputs": []
    }
  ]
}