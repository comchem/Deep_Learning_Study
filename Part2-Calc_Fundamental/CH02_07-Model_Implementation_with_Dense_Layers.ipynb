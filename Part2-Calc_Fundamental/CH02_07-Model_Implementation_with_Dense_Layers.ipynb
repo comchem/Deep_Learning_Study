{
  "nbformat": 4,
  "nbformat_minor": 0,
  "metadata": {
    "colab": {
      "name": "CH02_07. [구현강의]_Model_Implementation_with_Dense_Layers",
      "provenance": [],
      "collapsed_sections": []
    },
    "kernelspec": {
      "name": "python3",
      "display_name": "Python 3"
    },
    "language_info": {
      "name": "python"
    }
  },
  "cells": [
    {
      "cell_type": "markdown",
      "metadata": {
        "id": "1_fFwrSeUMow"
      },
      "source": [
        "#Model Implementation with Sequential Method"
      ]
    },
    {
      "cell_type": "code",
      "metadata": {
        "id": "cQ_56V8vUGoI",
        "outputId": "4c59ee0d-a7f6-41ca-8774-be1d272d347e",
        "colab": {
          "base_uri": "https://localhost:8080/"
        }
      },
      "source": [
        "from tensorflow.keras.layers import Dense\n",
        "\n",
        "from tensorflow.keras.models import Sequential\n",
        "\n",
        "n_neurons = [3,4,5,6]\n",
        "\n",
        "model = list()\n",
        "for n_neuron in n_neurons:\n",
        "  model.append(Dense(units = n_neuron, activation ='sigmoid'))\n",
        "\n",
        "print(model)\n",
        "\n",
        "model = Sequential()\n",
        "for n_neuron in n_neurons:\n",
        "  model.add(Dense(units = n_neuron, activation ='sigmoid'))\n",
        "\n",
        "print(model)\n",
        "\n",
        "model = Sequential()\n",
        "model.add(Dense(units = 10, activation = 'sigmoid'))\n",
        "model.add(Dense(units = 20, activation = 'sigmoid'))\n",
        "\n",
        "model"
      ],
      "execution_count": 5,
      "outputs": [
        {
          "output_type": "stream",
          "name": "stdout",
          "text": [
            "[<keras.layers.core.dense.Dense object at 0x7fcd5e60c150>, <keras.layers.core.dense.Dense object at 0x7fcd5e60c350>, <keras.layers.core.dense.Dense object at 0x7fcd5e60c710>, <keras.layers.core.dense.Dense object at 0x7fcd5e60ca90>]\n",
            "<keras.engine.sequential.Sequential object at 0x7fcd5e60c190>\n"
          ]
        },
        {
          "output_type": "execute_result",
          "data": {
            "text/plain": [
              "<keras.engine.sequential.Sequential at 0x7fcd5e7bcc50>"
            ]
          },
          "metadata": {},
          "execution_count": 5
        }
      ]
    },
    {
      "cell_type": "markdown",
      "metadata": {
        "id": "cpx-lm33UNCc"
      },
      "source": [
        "#Model Implementation with Model-subclassing"
      ]
    },
    {
      "cell_type": "code",
      "source": [
        "from tensorflow.keras.layers import Dense\n",
        "\n",
        "from tensorflow.keras.models import Model\n",
        "\n",
        "class TestModel(Model):\n",
        "  def __init__(self):\n",
        "    super(TestModel, self).__init__()\n",
        "\n",
        "    self.dense1 = Dense(units = 10, activation = 'sigmoid')\n",
        "    self.dense2 = Dense(units = 20, activation = 'sigmoid')\n",
        "\n",
        "model = TestModel()\n",
        "print(model.dense1)\n",
        "print(model.dense2)"
      ],
      "metadata": {
        "id": "-vFchi7s9nmJ",
        "outputId": "c4b8d701-50af-4202-eb8f-e7a6d52c3d22",
        "colab": {
          "base_uri": "https://localhost:8080/"
        }
      },
      "execution_count": 6,
      "outputs": [
        {
          "output_type": "stream",
          "name": "stdout",
          "text": [
            "<keras.layers.core.dense.Dense object at 0x7fcd5e5b7790>\n",
            "<keras.layers.core.dense.Dense object at 0x7fcd5ecc37d0>\n"
          ]
        }
      ]
    },
    {
      "cell_type": "markdown",
      "metadata": {
        "id": "5pbS8DGxUNmZ"
      },
      "source": [
        "#Forward Propagation of Models"
      ]
    },
    {
      "cell_type": "code",
      "metadata": {
        "id": "7uak5X-0UN0I"
      },
      "source": [
        "import tensorflow as tf\n",
        "\n",
        "from tensorflow.keras.layers import Dense\n",
        "\n",
        "from tensorflow.keras.models import Sequential\n",
        "from tensorflow.keras.models import Model\n",
        "\n",
        "X = tf.random.normal (shape=(4, 10))\n",
        "\n",
        "model = Sequential()\n",
        "model .add(Dense(units=10, activations = 'sigmoid'))\n",
        "model .add(Dense(units=20, activation ='sigmoid'))\n",
        "\n",
        "Y = model({X)\n",
        "\n",
        "class TeatModel (Model):\n",
        "  def _ init__(self):\n",
        "    super(TestModel, self) __init__()\n",
        "    \n",
        "    self.densel = Dense(units = 10, activation = 'sigmoid')\n",
        "    self.dense2 = Dense(units = 20, activation= 'sigmoid')\n",
        "\n",
        "def call(self, x):\n",
        "  x = self.dense1(x)\n",
        "  x = self.dense2(x)\n",
        "  return x\n",
        "model = TestModel"
      ],
      "execution_count": null,
      "outputs": []
    },
    {
      "cell_type": "markdown",
      "metadata": {
        "id": "cI_Ttir5UOLM"
      },
      "source": [
        "#Layers in Models"
      ]
    },
    {
      "cell_type": "code",
      "metadata": {
        "id": "1R4rHL1WUOfP"
      },
      "source": [
        "import tensorflow as tf\n",
        "\n",
        "from tensorflow.keras.layers import Dense\n",
        "\n",
        "from tensorflow.keras.models import Sequential\n",
        "X = tf.random.normal(shape=(4, 10))\n",
        "\n",
        "model = Sequential()\n",
        "model.add(Dense(units=10,activation='sigmoid'))\n",
        "model.add(Dense(units=20,activation='sigmoid'))\n",
        "\n",
        "Y = model(X)\n",
        "\n",
        "print(type(model.layers))\n",
        "print(model.layers)\n",
        "for layer in model. layers:\n",
        "  w, b = layer.get_weighta()\n",
        "  print(w.shape, b.shape)"
      ],
      "execution_count": null,
      "outputs": []
    },
    {
      "cell_type": "markdown",
      "metadata": {
        "id": "uQs06pokUknF"
      },
      "source": [
        "#Trainable Variables in Models"
      ]
    },
    {
      "cell_type": "code",
      "metadata": {
        "id": "tVcY8ZH2UlJO"
      },
      "source": [
        "import tensorflow as tf\n",
        "\n",
        "from tensorflow.keras.layers import Dense\n",
        "\n",
        "from tensorflow.keras.models import Sequential\n",
        "\n",
        "X = tf. random.normal (shapes(4, 10))\n",
        "\n",
        "model = Sequential()\n",
        "model.add(Dense{units=10, activations = 'sigmoid'))\n",
        "model.add(Dense(units=20, heel »)\n",
        "\n",
        "Y= model(X)\n",
        "\n",
        "print (type(model.trainable_variables) )\n",
        "print (len(model.trainable_variables) )\n",
        "\n",
        "for train_var in model.trainable variables:\n",
        "  print(train_var.shape)"
      ],
      "execution_count": null,
      "outputs": []
    }
  ]
}