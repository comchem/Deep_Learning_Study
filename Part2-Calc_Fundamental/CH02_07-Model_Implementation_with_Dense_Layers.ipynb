{
  "nbformat": 4,
  "nbformat_minor": 0,
  "metadata": {
    "colab": {
      "name": "CH02_07. [구현강의]_Model_Implementation_with_Dense_Layers",
      "provenance": [],
      "collapsed_sections": []
    },
    "kernelspec": {
      "name": "python3",
      "display_name": "Python 3"
    },
    "language_info": {
      "name": "python"
    }
  },
  "cells": [
    {
      "cell_type": "markdown",
      "metadata": {
        "id": "1_fFwrSeUMow"
      },
      "source": [
        "#Model Implementation with Sequential Method"
      ]
    },
    {
      "cell_type": "code",
      "metadata": {
        "id": "cQ_56V8vUGoI",
        "outputId": "ec631dbf-2d35-4b04-af47-5675b40ea744",
        "colab": {
          "base_uri": "https://localhost:8080/"
        }
      },
      "source": [
        "from tensorflow.keras.layers import Dense\n",
        "\n",
        "from tensorflow.keras.models import Sequential\n",
        "\n",
        "n_neurons = [3,4,5,6]\n",
        "\n",
        "model = list()\n",
        "for n_neuron in n_neurons:\n",
        "  model.append(Dense(units = n_neuron, activation ='sigmoid'))\n",
        "\n",
        "print(model)\n",
        "\n",
        "model = Sequential()\n",
        "for n_neuron in n_neurons:\n",
        "  model.add(Dense(units = n_neuron, activation ='sigmoid'))\n",
        "\n",
        "print(model)\n",
        "\n",
        "model = Sequential()\n",
        "model.add(Dense(units = 10, activation = 'sigmoid'))\n",
        "model.add(Dense(units = 20, activation = 'sigmoid'))\n",
        "\n",
        "model"
      ],
      "execution_count": 1,
      "outputs": [
        {
          "output_type": "stream",
          "name": "stdout",
          "text": [
            "[<keras.layers.core.dense.Dense object at 0x7f42cb725990>, <keras.layers.core.dense.Dense object at 0x7f42cb6b5650>, <keras.layers.core.dense.Dense object at 0x7f42cb6b5bd0>, <keras.layers.core.dense.Dense object at 0x7f42cb6aa090>]\n",
            "<keras.engine.sequential.Sequential object at 0x7f4341733fd0>\n"
          ]
        },
        {
          "output_type": "execute_result",
          "data": {
            "text/plain": [
              "<keras.engine.sequential.Sequential at 0x7f4341726410>"
            ]
          },
          "metadata": {},
          "execution_count": 1
        }
      ]
    },
    {
      "cell_type": "markdown",
      "metadata": {
        "id": "cpx-lm33UNCc"
      },
      "source": [
        "#Model Implementation with Model-subclassing"
      ]
    },
    {
      "cell_type": "code",
      "source": [
        "from tensorflow.keras.layers import Dense\n",
        "\n",
        "from tensorflow.keras.models import Model\n",
        "\n",
        "class TestModel(Model):\n",
        "  def __init__(self):\n",
        "    super(TestModel, self).__init__()\n",
        "\n",
        "    self.dense1 = Dense(units = 10, activation = 'sigmoid')\n",
        "    self.dense2 = Dense(units = 20, activation = 'sigmoid')\n",
        "\n",
        "model = TestModel()\n",
        "print(model.dense1)\n",
        "print(model.dense2)"
      ],
      "metadata": {
        "id": "-vFchi7s9nmJ",
        "outputId": "80c7a0ac-d5f9-4103-97e6-fe88ff11190d",
        "colab": {
          "base_uri": "https://localhost:8080/"
        }
      },
      "execution_count": 8,
      "outputs": [
        {
          "output_type": "stream",
          "name": "stdout",
          "text": [
            "<keras.layers.core.dense.Dense object at 0x7f42c7db3bd0>\n",
            "<keras.layers.core.dense.Dense object at 0x7f42c7d91750>\n"
          ]
        }
      ]
    },
    {
      "cell_type": "markdown",
      "metadata": {
        "id": "5pbS8DGxUNmZ"
      },
      "source": [
        "#Forward Propagation of Models"
      ]
    },
    {
      "cell_type": "code",
      "source": [
        "import tensorflow as tf\n",
        "from tensorflow.keras.layers import Dense\n",
        "from tensorflow.keras.models import Sequential\n",
        "from tensorflow.keras.models import Model\n",
        "\n",
        "X = tf.random.normal(shape = (4,20))\n",
        "\n",
        "# Sequential method\n",
        "model = Sequential()\n",
        "model.add(Dense(units = 10, activation = 'sigmoid'))\n",
        "model.add(Dense(units = 20, activation = 'sigmoid'))\n",
        "\n",
        "Y = model(X)\n",
        "print(Y.numpy())\n",
        "\n",
        "# Model-subclassing\n",
        "class TestModel(Model):\n",
        "  def __init__(self):\n",
        "    super().__init__()\n",
        "\n",
        "    self.dense1 = Dense(units = 10, activation = 'sigmoid')\n",
        "    self.dense2 = Dense(units = 20, activation = 'sigmoid')\n",
        "\n",
        "  def call(self, x):\n",
        "    x = self.dense1(x)\n",
        "    x = self.dense2(x)\n",
        "    return x\n",
        "\n",
        "model2 = TestModel()\n",
        "Y = model(X)\n",
        "print(Y.numpy())"
      ],
      "metadata": {
        "id": "I7BCLNYjLH20",
        "outputId": "59e34285-da95-4e60-f4d5-1788078dc198",
        "colab": {
          "base_uri": "https://localhost:8080/"
        }
      },
      "execution_count": 25,
      "outputs": [
        {
          "output_type": "stream",
          "name": "stdout",
          "text": [
            "[[0.595822   0.5062761  0.44862932 0.6080843  0.5929024  0.56905776\n",
            "  0.59795725 0.6457006  0.42639393 0.4419541  0.62644905 0.45197493\n",
            "  0.49371198 0.42744088 0.5154752  0.40789318 0.45802766 0.25517756\n",
            "  0.50890905 0.52559245]\n",
            " [0.62370217 0.49338374 0.49531743 0.6551172  0.54148537 0.50660974\n",
            "  0.5544833  0.6574503  0.4916351  0.4169731  0.59890544 0.39285675\n",
            "  0.58710456 0.4515927  0.48540843 0.43084994 0.512431   0.27141\n",
            "  0.52744025 0.49313927]\n",
            " [0.62823236 0.4463143  0.43349788 0.64515406 0.51951355 0.48693603\n",
            "  0.55318606 0.5843244  0.5539373  0.51542056 0.52310705 0.40997395\n",
            "  0.4707339  0.50769657 0.5217279  0.46551526 0.55856997 0.36341336\n",
            "  0.46904653 0.531624  ]\n",
            " [0.6197539  0.57022285 0.37547112 0.61519486 0.62123317 0.56189793\n",
            "  0.50353634 0.6373088  0.5410442  0.4829559  0.5802108  0.43902904\n",
            "  0.456706   0.4270836  0.5184122  0.43535572 0.66027266 0.22660565\n",
            "  0.57454056 0.5168354 ]]\n",
            "[[0.595822   0.5062761  0.44862932 0.6080843  0.5929024  0.56905776\n",
            "  0.59795725 0.6457006  0.42639393 0.4419541  0.62644905 0.45197493\n",
            "  0.49371198 0.42744088 0.5154752  0.40789318 0.45802766 0.25517756\n",
            "  0.50890905 0.52559245]\n",
            " [0.62370217 0.49338374 0.49531743 0.6551172  0.54148537 0.50660974\n",
            "  0.5544833  0.6574503  0.4916351  0.4169731  0.59890544 0.39285675\n",
            "  0.58710456 0.4515927  0.48540843 0.43084994 0.512431   0.27141\n",
            "  0.52744025 0.49313927]\n",
            " [0.62823236 0.4463143  0.43349788 0.64515406 0.51951355 0.48693603\n",
            "  0.55318606 0.5843244  0.5539373  0.51542056 0.52310705 0.40997395\n",
            "  0.4707339  0.50769657 0.5217279  0.46551526 0.55856997 0.36341336\n",
            "  0.46904653 0.531624  ]\n",
            " [0.6197539  0.57022285 0.37547112 0.61519486 0.62123317 0.56189793\n",
            "  0.50353634 0.6373088  0.5410442  0.4829559  0.5802108  0.43902904\n",
            "  0.456706   0.4270836  0.5184122  0.43535572 0.66027266 0.22660565\n",
            "  0.57454056 0.5168354 ]]\n"
          ]
        }
      ]
    },
    {
      "cell_type": "code",
      "source": [
        "class TestModel(Model):\n",
        "  def __init__(self, n_neurons):\n",
        "    super().__init__()\n",
        "\n",
        "    self.n_neurons = n_neurons\n",
        "\n",
        "    self.dense_layers = list()\n",
        "    for n_neuron in n_neurons:\n",
        "      self.dense_layers.append(Dense(units = n_neuron, activation = 'sigmoid'))\n",
        "  \n",
        "  def call(self, x):\n",
        "    for dense in self.dense_layers:\n",
        "      x = dense(x)\n",
        "    return x\n",
        "\n",
        "n_neurons = [3,4,5]\n",
        "model = TestModel(n_neurons)\n",
        "Y = model(X)\n",
        "print(Y.numpy())"
      ],
      "metadata": {
        "id": "BbGV1Qv3Uffb",
        "outputId": "e8d36d52-b137-446f-f040-a0758a866e4e",
        "colab": {
          "base_uri": "https://localhost:8080/"
        }
      },
      "execution_count": 28,
      "outputs": [
        {
          "output_type": "stream",
          "name": "stdout",
          "text": [
            "[[0.58466893 0.4382677  0.5700309  0.4688894  0.6036413 ]\n",
            " [0.58372325 0.4402186  0.5786819  0.46857554 0.60798824]\n",
            " [0.5595476  0.46595645 0.57743067 0.4818186  0.5899653 ]\n",
            " [0.5671886  0.46026754 0.5795088  0.47916496 0.5964515 ]]\n"
          ]
        }
      ]
    },
    {
      "cell_type": "code",
      "source": [
        "class TestModel(Model):\n",
        "  def __init__(self, n_neurons):\n",
        "    super().__init__()\n",
        "\n",
        "    self.n_neurons = n_neurons\n",
        "\n",
        "    self.models = Sequential()\n",
        "    for n_neuron in n_neurons:\n",
        "      self.models.add(Dense(units = n_neuron, activation = 'sigmoid'))\n",
        "  \n",
        "  def call(self, x):\n",
        "    x = self.models(x)\n",
        "    return x\n",
        "\n",
        "n_neurons = [3,4,5]\n",
        "model = TestModel(n_neurons)\n",
        "Y = model(X)\n",
        "print(Y.numpy())"
      ],
      "metadata": {
        "id": "-CPAGMJcXmJg",
        "outputId": "3ffc9441-0eed-43fd-ea3c-6e8dbc8cd82b",
        "colab": {
          "base_uri": "https://localhost:8080/"
        }
      },
      "execution_count": 27,
      "outputs": [
        {
          "output_type": "stream",
          "name": "stdout",
          "text": [
            "[[0.4069396  0.59791857 0.49244004 0.34222192 0.34134033]\n",
            " [0.3906469  0.59189993 0.49378747 0.34664372 0.340837  ]\n",
            " [0.4102192  0.60826993 0.50385845 0.33146542 0.34200102]\n",
            " [0.41747558 0.6162493  0.5110502  0.32693714 0.36171797]]\n"
          ]
        }
      ]
    },
    {
      "cell_type": "markdown",
      "metadata": {
        "id": "cI_Ttir5UOLM"
      },
      "source": [
        "#Layers in Models"
      ]
    },
    {
      "cell_type": "code",
      "metadata": {
        "id": "1R4rHL1WUOfP",
        "outputId": "6d011687-9382-4556-f24d-4538be6b9747",
        "colab": {
          "base_uri": "https://localhost:8080/"
        }
      },
      "source": [
        "import tensorflow as tf\n",
        "\n",
        "from tensorflow.keras.layers import Dense\n",
        "\n",
        "from tensorflow.keras.models import Sequential\n",
        "X = tf.random.normal(shape=(4, 10))\n",
        "\n",
        "model = Sequential()\n",
        "model.add(Dense(units=10,activation='sigmoid'))\n",
        "model.add(Dense(units=20,activation='sigmoid'))\n",
        "\n",
        "Y = model(X)\n",
        "\n",
        "print(type(model.layers))\n",
        "print(model.layers)\n",
        "\n",
        "dense1 = model.layers[0]\n",
        "print(dir(dense1))\n",
        "#for tmp in dir(dense1):\n",
        "#  print(tmp)\n",
        "\n",
        "for layer in model.layers:\n",
        "  w, b = layer.get_weights()\n",
        "  print(w.shape, b.shape)"
      ],
      "execution_count": 37,
      "outputs": [
        {
          "output_type": "stream",
          "name": "stdout",
          "text": [
            "<class 'list'>\n",
            "[<keras.layers.core.dense.Dense object at 0x7f42c64c3a10>, <keras.layers.core.dense.Dense object at 0x7f42c648dfd0>]\n",
            "['_TF_MODULE_IGNORED_PROPERTIES', '__call__', '__class__', '__delattr__', '__dict__', '__dir__', '__doc__', '__eq__', '__format__', '__ge__', '__getattribute__', '__getstate__', '__gt__', '__hash__', '__init__', '__init_subclass__', '__le__', '__lt__', '__module__', '__ne__', '__new__', '__reduce__', '__reduce_ex__', '__repr__', '__setattr__', '__setstate__', '__sizeof__', '__str__', '__subclasshook__', '__weakref__', '_activity_regularizer', '_add_trackable', '_add_trackable_child', '_add_variable_with_custom_getter', '_auto_track_sub_layers', '_autocast', '_autographed_call', '_build_input_shape', '_call_accepts_kwargs', '_call_arg_was_passed', '_call_fn_arg_defaults', '_call_fn_arg_positions', '_call_fn_args', '_call_full_argspec', '_callable_losses', '_cast_single_input', '_checkpoint_dependencies', '_clear_losses', '_compute_dtype', '_compute_dtype_object', '_dedup_weights', '_default_training_arg', '_deferred_dependencies', '_delete_tracking', '_deserialize_from_proto', '_dtype', '_dtype_policy', '_dynamic', '_eager_losses', '_expects_mask_arg', '_expects_training_arg', '_flatten', '_flatten_layers', '_flatten_modules', '_functional_construction_call', '_gather_children_attribute', '_gather_saveables_for_checkpoint', '_get_call_arg_value', '_get_cell_name', '_get_existing_metric', '_get_input_masks', '_get_node_attribute_at_index', '_get_save_spec', '_get_trainable_state', '_handle_activity_regularization', '_handle_deferred_dependencies', '_handle_weight_regularization', '_inbound_nodes', '_inbound_nodes_value', '_infer_output_signature', '_init_call_fn_args', '_init_set_name', '_initial_weights', '_input_spec', '_instrument_layer_creation', '_instrumented_keras_api', '_instrumented_keras_layer_class', '_instrumented_keras_model_class', '_is_layer', '_keras_api_names', '_keras_api_names_v1', '_keras_tensor_symbolic_call', '_list_extra_dependencies_for_serialization', '_list_functions_for_serialization', '_lookup_dependency', '_losses', '_map_resources', '_maybe_build', '_maybe_cast_inputs', '_maybe_create_attribute', '_maybe_initialize_trackable', '_metrics', '_metrics_lock', '_must_restore_from_config', '_name', '_name_based_attribute_restore', '_name_based_restores', '_name_scope', '_no_dependency', '_non_trainable_weights', '_obj_reference_counts', '_obj_reference_counts_dict', '_object_identifier', '_outbound_nodes', '_outbound_nodes_value', '_outer_name_scope', '_preload_simple_restoration', '_preserve_input_structure_in_config', '_restore_from_checkpoint_position', '_saved_model_arg_spec', '_saved_model_inputs_spec', '_self_name_based_restores', '_self_saveable_object_factories', '_self_setattr_tracking', '_self_tracked_trackables', '_self_unconditional_checkpoint_dependencies', '_self_unconditional_deferred_dependencies', '_self_unconditional_dependency_names', '_self_update_uid', '_serialize_to_proto', '_set_call_arg_value', '_set_connectivity_metadata', '_set_dtype_policy', '_set_mask_keras_history_checked', '_set_mask_metadata', '_set_save_spec', '_set_trainable_state', '_set_training_mode', '_setattr_tracking', '_should_cast_single_input', '_single_restoration_from_checkpoint_position', '_split_out_first_arg', '_stateful', '_supports_masking', '_symbolic_call', '_tf_api_names', '_tf_api_names_v1', '_thread_local', '_track_trackable', '_trackable_saved_model_saver', '_tracking_metadata', '_trainable', '_trainable_weights', '_unconditional_checkpoint_dependencies', '_unconditional_dependency_names', '_update_uid', '_updates', '_use_input_spec_as_call_signature', 'activation', 'activity_regularizer', 'add_loss', 'add_metric', 'add_update', 'add_variable', 'add_weight', 'apply', 'bias', 'bias_constraint', 'bias_initializer', 'bias_regularizer', 'build', 'built', 'call', 'compute_dtype', 'compute_mask', 'compute_output_shape', 'compute_output_signature', 'count_params', 'dtype', 'dtype_policy', 'dynamic', 'finalize_state', 'from_config', 'get_config', 'get_input_at', 'get_input_mask_at', 'get_input_shape_at', 'get_losses_for', 'get_output_at', 'get_output_mask_at', 'get_output_shape_at', 'get_updates_for', 'get_weights', 'inbound_nodes', 'input', 'input_mask', 'input_shape', 'input_spec', 'kernel', 'kernel_constraint', 'kernel_initializer', 'kernel_regularizer', 'losses', 'metrics', 'name', 'name_scope', 'non_trainable_variables', 'non_trainable_weights', 'outbound_nodes', 'output', 'output_mask', 'output_shape', 'set_weights', 'stateful', 'submodules', 'supports_masking', 'trainable', 'trainable_variables', 'trainable_weights', 'units', 'updates', 'use_bias', 'variable_dtype', 'variables', 'weights', 'with_name_scope']\n",
            "(10, 10) (10,)\n",
            "(10, 20) (20,)\n"
          ]
        }
      ]
    },
    {
      "cell_type": "markdown",
      "metadata": {
        "id": "uQs06pokUknF"
      },
      "source": [
        "#Trainable Variables in Models"
      ]
    },
    {
      "cell_type": "code",
      "metadata": {
        "id": "tVcY8ZH2UlJO",
        "outputId": "30c4202e-766c-4c88-8860-71f6e1410df1",
        "colab": {
          "base_uri": "https://localhost:8080/"
        }
      },
      "source": [
        "import tensorflow as tf\n",
        "\n",
        "from tensorflow.keras.layers import Dense\n",
        "\n",
        "from tensorflow.keras.models import Sequential\n",
        "\n",
        "X = tf. random.normal (shape = (4, 10))\n",
        "\n",
        "model = Sequential()\n",
        "model.add(Dense(units=10, activation = 'sigmoid'))\n",
        "model.add(Dense(units=20, activation = 'sigmoid'))\n",
        "\n",
        "Y= model(X)\n",
        "\n",
        "print (type(model.trainable_variables) )\n",
        "print (len(model.trainable_variables) )\n",
        "\n",
        "for train_var in model.trainable_variables:\n",
        "  print(train_var.shape)"
      ],
      "execution_count": 41,
      "outputs": [
        {
          "output_type": "stream",
          "name": "stdout",
          "text": [
            "<class 'list'>\n",
            "4\n",
            "(10, 10)\n",
            "(10,)\n",
            "(10, 20)\n",
            "(20,)\n"
          ]
        }
      ]
    }
  ]
}