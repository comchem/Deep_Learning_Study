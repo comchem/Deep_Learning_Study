{
  "nbformat": 4,
  "nbformat_minor": 0,
  "metadata": {
    "colab": {
      "name": "CH02_07. [구현강의]_Model_Implementation_with_Dense_Layers",
      "provenance": [],
      "collapsed_sections": [],
      "toc_visible": true
    },
    "kernelspec": {
      "name": "python3",
      "display_name": "Python 3"
    },
    "language_info": {
      "name": "python"
    }
  },
  "cells": [
    {
      "cell_type": "markdown",
      "metadata": {
        "id": "1_fFwrSeUMow"
      },
      "source": [
        "#Model Implementation with Sequential Method"
      ]
    },
    {
      "cell_type": "code",
      "metadata": {
        "id": "cQ_56V8vUGoI",
        "outputId": "ec631dbf-2d35-4b04-af47-5675b40ea744",
        "colab": {
          "base_uri": "https://localhost:8080/"
        }
      },
      "source": [
        "from tensorflow.keras.layers import Dense\n",
        "\n",
        "from tensorflow.keras.models import Sequential\n",
        "\n",
        "n_neurons = [3,4,5,6]\n",
        "\n",
        "model = list()\n",
        "for n_neuron in n_neurons:\n",
        "  model.append(Dense(units = n_neuron, activation ='sigmoid'))\n",
        "\n",
        "print(model)\n",
        "\n",
        "model = Sequential()\n",
        "for n_neuron in n_neurons:\n",
        "  model.add(Dense(units = n_neuron, activation ='sigmoid'))\n",
        "\n",
        "print(model)\n",
        "\n",
        "model = Sequential()\n",
        "model.add(Dense(units = 10, activation = 'sigmoid'))\n",
        "model.add(Dense(units = 20, activation = 'sigmoid'))\n",
        "\n",
        "model"
      ],
      "execution_count": null,
      "outputs": [
        {
          "output_type": "stream",
          "name": "stdout",
          "text": [
            "[<keras.layers.core.dense.Dense object at 0x7f42cb725990>, <keras.layers.core.dense.Dense object at 0x7f42cb6b5650>, <keras.layers.core.dense.Dense object at 0x7f42cb6b5bd0>, <keras.layers.core.dense.Dense object at 0x7f42cb6aa090>]\n",
            "<keras.engine.sequential.Sequential object at 0x7f4341733fd0>\n"
          ]
        },
        {
          "output_type": "execute_result",
          "data": {
            "text/plain": [
              "<keras.engine.sequential.Sequential at 0x7f4341726410>"
            ]
          },
          "metadata": {},
          "execution_count": 1
        }
      ]
    },
    {
      "cell_type": "markdown",
      "metadata": {
        "id": "cpx-lm33UNCc"
      },
      "source": [
        "#Model Implementation with Model-subclassing"
      ]
    },
    {
      "cell_type": "code",
      "source": [
        "from tensorflow.keras.layers import Dense\n",
        "\n",
        "from tensorflow.keras.models import Model\n",
        "\n",
        "class TestModel(Model):\n",
        "  def __init__(self):\n",
        "    super(TestModel, self).__init__()\n",
        "\n",
        "    self.dense1 = Dense(units = 10, activation = 'sigmoid')\n",
        "    self.dense2 = Dense(units = 20, activation = 'sigmoid')\n",
        "\n",
        "model = TestModel()\n",
        "print(model.dense1)\n",
        "print(model.dense2)"
      ],
      "metadata": {
        "id": "-vFchi7s9nmJ",
        "outputId": "80c7a0ac-d5f9-4103-97e6-fe88ff11190d",
        "colab": {
          "base_uri": "https://localhost:8080/"
        }
      },
      "execution_count": null,
      "outputs": [
        {
          "output_type": "stream",
          "name": "stdout",
          "text": [
            "<keras.layers.core.dense.Dense object at 0x7f42c7db3bd0>\n",
            "<keras.layers.core.dense.Dense object at 0x7f42c7d91750>\n"
          ]
        }
      ]
    },
    {
      "cell_type": "markdown",
      "metadata": {
        "id": "5pbS8DGxUNmZ"
      },
      "source": [
        "#Forward Propagation of Models"
      ]
    },
    {
      "cell_type": "code",
      "source": [
        "import tensorflow as tf\n",
        "from tensorflow.keras.layers import Dense\n",
        "from tensorflow.keras.models import Sequential\n",
        "from tensorflow.keras.models import Model\n",
        "\n",
        "X = tf.random.normal(shape = (4, 20))\n",
        "print(X)\n",
        "\n",
        "model = Sequential()\n",
        "model.add(Dense(units = 10, activation = 'sigmoid'))\n",
        "model.add(Dense(units = 20, activation = 'sigmoid'))\n",
        "\n",
        "Y = model(X)\n",
        "print(Y.numpy())\n",
        "\n",
        "class TestModel (Model):\n",
        "  def __init__(self):\n",
        "    super(TestModel, self).__init__()\n",
        "\n",
        "    self.dense1 = Dense(units = 10, activation = 'sigmoid')\n",
        "    self.dense2 = Dense(units = 20, activation = 'sigmoid')\n",
        "  \n",
        "  def call(self, x):\n",
        "    x = self.dense1(x)\n",
        "    x = self.dense2(x)\n",
        "    return x\n",
        "\n",
        "model = TestModel()\n",
        "Y = model(X)\n",
        "print(Y.numpy())"
      ],
      "metadata": {
        "id": "1Ep_wQntqPUK",
        "outputId": "954c52a0-d800-426d-fc4a-bbbc1dfb2515",
        "colab": {
          "base_uri": "https://localhost:8080/"
        }
      },
      "execution_count": 18,
      "outputs": [
        {
          "output_type": "stream",
          "name": "stdout",
          "text": [
            "tf.Tensor(\n",
            "[[-0.2995721  -0.841462   -0.56068563  0.21620177 -0.07809762  0.23377818\n",
            "  -2.453409   -1.148872   -0.6921745   1.9547098   0.28118825 -0.4185641\n",
            "   0.4064971  -1.304589   -0.44809777 -1.1792533  -1.2441872  -1.2954416\n",
            "   1.2645842   0.9810807 ]\n",
            " [-2.2410634   0.03191766  0.21528724 -2.0882602  -1.8877587  -0.7567812\n",
            "   0.35483718 -1.2679403   0.09677007 -0.79198796 -0.14693882  0.1915156\n",
            "   1.113539    0.5383226   0.13759533  1.1307248  -0.8102459   1.3367933\n",
            "  -0.311903    0.40029585]\n",
            " [-0.90530276 -3.0207632   0.13272966 -1.6777105   1.4519361   0.85505277\n",
            "  -0.39802876  2.04169    -0.45167962 -1.3792131   0.6025435  -1.067507\n",
            "  -0.42448768 -0.51317537  0.24554124 -1.6009679  -0.2598673   0.2907673\n",
            "  -0.24928302  0.31843418]\n",
            " [ 1.7638983   0.60709566 -0.02359713  0.60597384 -0.1940744  -1.0780888\n",
            "  -0.00782978  0.32354155 -0.9017634  -1.2146714  -1.2826699   0.87772185\n",
            "   0.94380313 -1.3873864   1.507118   -0.9038643   0.03092242 -1.0948111\n",
            "  -0.88325274  0.22222847]], shape=(4, 20), dtype=float32)\n",
            "[[0.49925295 0.26016212 0.48802853 0.49711028 0.46186858 0.4124078\n",
            "  0.4621746  0.57839674 0.6073185  0.69842005 0.5326667  0.6565505\n",
            "  0.4137841  0.49909756 0.43095177 0.67813253 0.30065906 0.35027915\n",
            "  0.46354726 0.42340547]\n",
            " [0.49185872 0.39508918 0.5206646  0.58271635 0.41788515 0.3168897\n",
            "  0.4834091  0.52526134 0.5493898  0.67090094 0.4683714  0.6669583\n",
            "  0.29581293 0.45361614 0.45473555 0.49640688 0.36144373 0.4087898\n",
            "  0.37909505 0.28445035]\n",
            " [0.47072446 0.35169166 0.5423505  0.62133646 0.4261263  0.33219546\n",
            "  0.46857333 0.5133434  0.5244276  0.68821234 0.5036918  0.58969116\n",
            "  0.33201236 0.4387489  0.49478668 0.49466667 0.41024923 0.4316013\n",
            "  0.37292776 0.27691194]\n",
            " [0.5148136  0.2963987  0.5170835  0.5328844  0.458793   0.4604739\n",
            "  0.4493365  0.5875743  0.58522785 0.6875609  0.61571735 0.6654862\n",
            "  0.5021606  0.4488     0.42363933 0.5758332  0.33915412 0.30332196\n",
            "  0.4589339  0.48140284]]\n",
            "[[0.4478999  0.35315788 0.59605217 0.19001532 0.5600108  0.69960576\n",
            "  0.5619497  0.49737072 0.40502247 0.44996163 0.43322402 0.6595318\n",
            "  0.30777144 0.22419038 0.5635455  0.5623999  0.61578774 0.41534364\n",
            "  0.27221507 0.5685294 ]\n",
            " [0.44420865 0.40398714 0.51608235 0.16384414 0.55123144 0.6220335\n",
            "  0.4996924  0.5407162  0.5004782  0.36558327 0.36414278 0.61820614\n",
            "  0.32960838 0.3626966  0.5489879  0.5661496  0.5749995  0.34729308\n",
            "  0.3474719  0.49482033]\n",
            " [0.44439912 0.36563075 0.5537484  0.15702179 0.61493987 0.64478207\n",
            "  0.44988272 0.46130237 0.52967125 0.40491086 0.35778517 0.6033975\n",
            "  0.30464137 0.36661398 0.47764802 0.54996294 0.60901904 0.42472795\n",
            "  0.35578263 0.5354073 ]\n",
            " [0.5121484  0.370578   0.5821946  0.21543178 0.50597906 0.6596188\n",
            "  0.60898733 0.45986512 0.41813067 0.52937627 0.3765372  0.58554065\n",
            "  0.3823105  0.30587196 0.60073346 0.6096217  0.6108656  0.39848942\n",
            "  0.2916792  0.66961265]]\n"
          ]
        }
      ]
    },
    {
      "cell_type": "code",
      "source": [
        "class TestModel(Model):\n",
        "  def __init__(self, n_neurons):\n",
        "    super().__init__()\n",
        "\n",
        "    self.n_neurons = n_neurons\n",
        "\n",
        "    self.dense_layers = list()\n",
        "    for n_neuron in n_neurons:\n",
        "      self.dense_layers.append(Dense(units = n_neuron, activation = 'sigmoid'))\n",
        "  \n",
        "  def call(self, x):\n",
        "    for dense in self.dense_layers:\n",
        "      x = dense(x)\n",
        "    return x\n",
        "\n",
        "n_neurons = [3,4,5]\n",
        "model = TestModel(n_neurons)\n",
        "Y = model(X)\n",
        "print(Y.numpy())"
      ],
      "metadata": {
        "id": "BbGV1Qv3Uffb",
        "outputId": "e8d36d52-b137-446f-f040-a0758a866e4e",
        "colab": {
          "base_uri": "https://localhost:8080/"
        }
      },
      "execution_count": null,
      "outputs": [
        {
          "output_type": "stream",
          "name": "stdout",
          "text": [
            "[[0.58466893 0.4382677  0.5700309  0.4688894  0.6036413 ]\n",
            " [0.58372325 0.4402186  0.5786819  0.46857554 0.60798824]\n",
            " [0.5595476  0.46595645 0.57743067 0.4818186  0.5899653 ]\n",
            " [0.5671886  0.46026754 0.5795088  0.47916496 0.5964515 ]]\n"
          ]
        }
      ]
    },
    {
      "cell_type": "code",
      "source": [
        "class TestModel(Model):\n",
        "  def __init__(self, n_neurons):\n",
        "    super().__init__()\n",
        "\n",
        "    self.n_neurons = n_neurons\n",
        "\n",
        "    self.models = Sequential()\n",
        "    for n_neuron in n_neurons:\n",
        "      self.models.add(Dense(units = n_neuron, activation = 'sigmoid'))\n",
        "  \n",
        "  def call(self, x):\n",
        "    x = self.models(x)\n",
        "    return x\n",
        "\n",
        "n_neurons = [3,4,5]\n",
        "model = TestModel(n_neurons)\n",
        "Y = model(X)\n",
        "print(Y.numpy())"
      ],
      "metadata": {
        "id": "-CPAGMJcXmJg",
        "outputId": "3ffc9441-0eed-43fd-ea3c-6e8dbc8cd82b",
        "colab": {
          "base_uri": "https://localhost:8080/"
        }
      },
      "execution_count": null,
      "outputs": [
        {
          "output_type": "stream",
          "name": "stdout",
          "text": [
            "[[0.4069396  0.59791857 0.49244004 0.34222192 0.34134033]\n",
            " [0.3906469  0.59189993 0.49378747 0.34664372 0.340837  ]\n",
            " [0.4102192  0.60826993 0.50385845 0.33146542 0.34200102]\n",
            " [0.41747558 0.6162493  0.5110502  0.32693714 0.36171797]]\n"
          ]
        }
      ]
    },
    {
      "cell_type": "markdown",
      "metadata": {
        "id": "cI_Ttir5UOLM"
      },
      "source": [
        "#Layers in Models"
      ]
    },
    {
      "cell_type": "code",
      "source": [
        "import tensorflow as tf\n",
        "\n",
        "from tensorflow.keras.layers import Dense\n",
        "\n",
        "from tensorflow.keras.models import Sequential\n",
        "X = tf.random.normal(shape=(4, 10))\n",
        "\n",
        "model = Sequential()\n",
        "model.add(Dense(units=10,activation='sigmoid'))\n",
        "model.add(Dense(units=20,activation='sigmoid'))\n",
        "\n",
        "Y = model(X)\n",
        "print(model.layers)\n",
        "print(type(model.layers))\n",
        "\n",
        "dense1 = model.layers[0]\n",
        "for tmp in dir(dense1):\n",
        "  print(tmp)"
      ],
      "metadata": {
        "id": "O0jrOmrOzIKT",
        "outputId": "2eea6f57-e9bd-4880-9965-8aa80f2a11ba",
        "colab": {
          "base_uri": "https://localhost:8080/"
        }
      },
      "execution_count": 24,
      "outputs": [
        {
          "output_type": "stream",
          "name": "stdout",
          "text": [
            "[<keras.layers.core.dense.Dense object at 0x7f66bbe8d390>, <keras.layers.core.dense.Dense object at 0x7f66bbde5d50>]\n",
            "<class 'list'>\n",
            "_TF_MODULE_IGNORED_PROPERTIES\n",
            "__call__\n",
            "__class__\n",
            "__delattr__\n",
            "__dict__\n",
            "__dir__\n",
            "__doc__\n",
            "__eq__\n",
            "__format__\n",
            "__ge__\n",
            "__getattribute__\n",
            "__getstate__\n",
            "__gt__\n",
            "__hash__\n",
            "__init__\n",
            "__init_subclass__\n",
            "__le__\n",
            "__lt__\n",
            "__module__\n",
            "__ne__\n",
            "__new__\n",
            "__reduce__\n",
            "__reduce_ex__\n",
            "__repr__\n",
            "__setattr__\n",
            "__setstate__\n",
            "__sizeof__\n",
            "__str__\n",
            "__subclasshook__\n",
            "__weakref__\n",
            "_activity_regularizer\n",
            "_add_trackable\n",
            "_add_trackable_child\n",
            "_add_variable_with_custom_getter\n",
            "_auto_track_sub_layers\n",
            "_autocast\n",
            "_autographed_call\n",
            "_build_input_shape\n",
            "_call_accepts_kwargs\n",
            "_call_arg_was_passed\n",
            "_call_fn_arg_defaults\n",
            "_call_fn_arg_positions\n",
            "_call_fn_args\n",
            "_call_full_argspec\n",
            "_callable_losses\n",
            "_cast_single_input\n",
            "_checkpoint_dependencies\n",
            "_clear_losses\n",
            "_compute_dtype\n",
            "_compute_dtype_object\n",
            "_dedup_weights\n",
            "_default_training_arg\n",
            "_deferred_dependencies\n",
            "_delete_tracking\n",
            "_deserialization_dependencies\n",
            "_deserialize_from_proto\n",
            "_dtype\n",
            "_dtype_policy\n",
            "_dynamic\n",
            "_eager_losses\n",
            "_expects_mask_arg\n",
            "_expects_training_arg\n",
            "_flatten\n",
            "_flatten_layers\n",
            "_flatten_modules\n",
            "_functional_construction_call\n",
            "_gather_children_attribute\n",
            "_gather_saveables_for_checkpoint\n",
            "_get_call_arg_value\n",
            "_get_cell_name\n",
            "_get_existing_metric\n",
            "_get_input_masks\n",
            "_get_legacy_saved_model_children\n",
            "_get_node_attribute_at_index\n",
            "_get_save_spec\n",
            "_get_trainable_state\n",
            "_handle_activity_regularization\n",
            "_handle_deferred_dependencies\n",
            "_handle_weight_regularization\n",
            "_inbound_nodes\n",
            "_inbound_nodes_value\n",
            "_infer_output_signature\n",
            "_init_call_fn_args\n",
            "_init_set_name\n",
            "_initial_weights\n",
            "_input_spec\n",
            "_instrument_layer_creation\n",
            "_instrumented_keras_api\n",
            "_instrumented_keras_layer_class\n",
            "_instrumented_keras_model_class\n",
            "_is_layer\n",
            "_keras_api_names\n",
            "_keras_api_names_v1\n",
            "_keras_tensor_symbolic_call\n",
            "_list_extra_dependencies_for_serialization\n",
            "_list_functions_for_serialization\n",
            "_lookup_dependency\n",
            "_losses\n",
            "_map_resources\n",
            "_maybe_build\n",
            "_maybe_cast_inputs\n",
            "_maybe_create_attribute\n",
            "_maybe_initialize_trackable\n",
            "_metrics\n",
            "_metrics_lock\n",
            "_must_restore_from_config\n",
            "_name\n",
            "_name_based_attribute_restore\n",
            "_name_based_restores\n",
            "_name_scope\n",
            "_no_dependency\n",
            "_non_trainable_weights\n",
            "_obj_reference_counts\n",
            "_obj_reference_counts_dict\n",
            "_object_identifier\n",
            "_outbound_nodes\n",
            "_outbound_nodes_value\n",
            "_outer_name_scope\n",
            "_preload_simple_restoration\n",
            "_preserve_input_structure_in_config\n",
            "_restore_from_checkpoint_position\n",
            "_saved_model_arg_spec\n",
            "_saved_model_inputs_spec\n",
            "_self_name_based_restores\n",
            "_self_saveable_object_factories\n",
            "_self_setattr_tracking\n",
            "_self_tracked_trackables\n",
            "_self_unconditional_checkpoint_dependencies\n",
            "_self_unconditional_deferred_dependencies\n",
            "_self_unconditional_dependency_names\n",
            "_self_update_uid\n",
            "_serialize_to_proto\n",
            "_set_call_arg_value\n",
            "_set_connectivity_metadata\n",
            "_set_dtype_policy\n",
            "_set_mask_keras_history_checked\n",
            "_set_mask_metadata\n",
            "_set_save_spec\n",
            "_set_trainable_state\n",
            "_set_training_mode\n",
            "_setattr_tracking\n",
            "_should_cast_single_input\n",
            "_single_restoration_from_checkpoint_position\n",
            "_split_out_first_arg\n",
            "_stateful\n",
            "_supports_masking\n",
            "_symbolic_call\n",
            "_tf_api_names\n",
            "_tf_api_names_v1\n",
            "_thread_local\n",
            "_track_trackable\n",
            "_trackable_children\n",
            "_trackable_saved_model_saver\n",
            "_tracking_metadata\n",
            "_trainable\n",
            "_trainable_weights\n",
            "_unconditional_checkpoint_dependencies\n",
            "_unconditional_dependency_names\n",
            "_update_uid\n",
            "_updates\n",
            "_use_input_spec_as_call_signature\n",
            "activation\n",
            "activity_regularizer\n",
            "add_loss\n",
            "add_metric\n",
            "add_update\n",
            "add_variable\n",
            "add_weight\n",
            "apply\n",
            "bias\n",
            "bias_constraint\n",
            "bias_initializer\n",
            "bias_regularizer\n",
            "build\n",
            "built\n",
            "call\n",
            "compute_dtype\n",
            "compute_mask\n",
            "compute_output_shape\n",
            "compute_output_signature\n",
            "count_params\n",
            "dtype\n",
            "dtype_policy\n",
            "dynamic\n",
            "finalize_state\n",
            "from_config\n",
            "get_config\n",
            "get_input_at\n",
            "get_input_mask_at\n",
            "get_input_shape_at\n",
            "get_losses_for\n",
            "get_output_at\n",
            "get_output_mask_at\n",
            "get_output_shape_at\n",
            "get_updates_for\n",
            "get_weights\n",
            "inbound_nodes\n",
            "input\n",
            "input_mask\n",
            "input_shape\n",
            "input_spec\n",
            "kernel\n",
            "kernel_constraint\n",
            "kernel_initializer\n",
            "kernel_regularizer\n",
            "losses\n",
            "metrics\n",
            "name\n",
            "name_scope\n",
            "non_trainable_variables\n",
            "non_trainable_weights\n",
            "outbound_nodes\n",
            "output\n",
            "output_mask\n",
            "output_shape\n",
            "set_weights\n",
            "stateful\n",
            "submodules\n",
            "supports_masking\n",
            "trainable\n",
            "trainable_variables\n",
            "trainable_weights\n",
            "units\n",
            "updates\n",
            "use_bias\n",
            "variable_dtype\n",
            "variables\n",
            "weights\n",
            "with_name_scope\n"
          ]
        }
      ]
    },
    {
      "cell_type": "code",
      "metadata": {
        "id": "1R4rHL1WUOfP",
        "outputId": "48d25675-891e-4606-f23c-28dfa6ba9920",
        "colab": {
          "base_uri": "https://localhost:8080/"
        }
      },
      "source": [
        "import tensorflow as tf\n",
        "\n",
        "from tensorflow.keras.layers import Dense\n",
        "\n",
        "from tensorflow.keras.models import Sequential\n",
        "X = tf.random.normal(shape=(4, 10))\n",
        "\n",
        "model = Sequential()\n",
        "model.add(Dense(units=10,activation='sigmoid'))\n",
        "model.add(Dense(units=20,activation='sigmoid'))\n",
        "\n",
        "Y = model(X)\n",
        "\n",
        "print(type(model.layers))\n",
        "print(model.layers)\n",
        "\n",
        "dense1 = model.layers[0]\n",
        "print(dir(dense1))\n",
        "#for tmp in dir(dense1):\n",
        "#  print(tmp)\n",
        "\n",
        "for layer in model.layers:\n",
        "  w, b = layer.get_weights()\n",
        "  print(w.shape, b.shape)\n",
        "  #print(w, b)"
      ],
      "execution_count": 26,
      "outputs": [
        {
          "output_type": "stream",
          "name": "stdout",
          "text": [
            "<class 'list'>\n",
            "[<keras.layers.core.dense.Dense object at 0x7f66bcf82190>, <keras.layers.core.dense.Dense object at 0x7f66bcf82510>]\n",
            "['_TF_MODULE_IGNORED_PROPERTIES', '__call__', '__class__', '__delattr__', '__dict__', '__dir__', '__doc__', '__eq__', '__format__', '__ge__', '__getattribute__', '__getstate__', '__gt__', '__hash__', '__init__', '__init_subclass__', '__le__', '__lt__', '__module__', '__ne__', '__new__', '__reduce__', '__reduce_ex__', '__repr__', '__setattr__', '__setstate__', '__sizeof__', '__str__', '__subclasshook__', '__weakref__', '_activity_regularizer', '_add_trackable', '_add_trackable_child', '_add_variable_with_custom_getter', '_auto_track_sub_layers', '_autocast', '_autographed_call', '_build_input_shape', '_call_accepts_kwargs', '_call_arg_was_passed', '_call_fn_arg_defaults', '_call_fn_arg_positions', '_call_fn_args', '_call_full_argspec', '_callable_losses', '_cast_single_input', '_checkpoint_dependencies', '_clear_losses', '_compute_dtype', '_compute_dtype_object', '_dedup_weights', '_default_training_arg', '_deferred_dependencies', '_delete_tracking', '_deserialization_dependencies', '_deserialize_from_proto', '_dtype', '_dtype_policy', '_dynamic', '_eager_losses', '_expects_mask_arg', '_expects_training_arg', '_flatten', '_flatten_layers', '_flatten_modules', '_functional_construction_call', '_gather_children_attribute', '_gather_saveables_for_checkpoint', '_get_call_arg_value', '_get_cell_name', '_get_existing_metric', '_get_input_masks', '_get_legacy_saved_model_children', '_get_node_attribute_at_index', '_get_save_spec', '_get_trainable_state', '_handle_activity_regularization', '_handle_deferred_dependencies', '_handle_weight_regularization', '_inbound_nodes', '_inbound_nodes_value', '_infer_output_signature', '_init_call_fn_args', '_init_set_name', '_initial_weights', '_input_spec', '_instrument_layer_creation', '_instrumented_keras_api', '_instrumented_keras_layer_class', '_instrumented_keras_model_class', '_is_layer', '_keras_api_names', '_keras_api_names_v1', '_keras_tensor_symbolic_call', '_list_extra_dependencies_for_serialization', '_list_functions_for_serialization', '_lookup_dependency', '_losses', '_map_resources', '_maybe_build', '_maybe_cast_inputs', '_maybe_create_attribute', '_maybe_initialize_trackable', '_metrics', '_metrics_lock', '_must_restore_from_config', '_name', '_name_based_attribute_restore', '_name_based_restores', '_name_scope', '_no_dependency', '_non_trainable_weights', '_obj_reference_counts', '_obj_reference_counts_dict', '_object_identifier', '_outbound_nodes', '_outbound_nodes_value', '_outer_name_scope', '_preload_simple_restoration', '_preserve_input_structure_in_config', '_restore_from_checkpoint_position', '_saved_model_arg_spec', '_saved_model_inputs_spec', '_self_name_based_restores', '_self_saveable_object_factories', '_self_setattr_tracking', '_self_tracked_trackables', '_self_unconditional_checkpoint_dependencies', '_self_unconditional_deferred_dependencies', '_self_unconditional_dependency_names', '_self_update_uid', '_serialize_to_proto', '_set_call_arg_value', '_set_connectivity_metadata', '_set_dtype_policy', '_set_mask_keras_history_checked', '_set_mask_metadata', '_set_save_spec', '_set_trainable_state', '_set_training_mode', '_setattr_tracking', '_should_cast_single_input', '_single_restoration_from_checkpoint_position', '_split_out_first_arg', '_stateful', '_supports_masking', '_symbolic_call', '_tf_api_names', '_tf_api_names_v1', '_thread_local', '_track_trackable', '_trackable_children', '_trackable_saved_model_saver', '_tracking_metadata', '_trainable', '_trainable_weights', '_unconditional_checkpoint_dependencies', '_unconditional_dependency_names', '_update_uid', '_updates', '_use_input_spec_as_call_signature', 'activation', 'activity_regularizer', 'add_loss', 'add_metric', 'add_update', 'add_variable', 'add_weight', 'apply', 'bias', 'bias_constraint', 'bias_initializer', 'bias_regularizer', 'build', 'built', 'call', 'compute_dtype', 'compute_mask', 'compute_output_shape', 'compute_output_signature', 'count_params', 'dtype', 'dtype_policy', 'dynamic', 'finalize_state', 'from_config', 'get_config', 'get_input_at', 'get_input_mask_at', 'get_input_shape_at', 'get_losses_for', 'get_output_at', 'get_output_mask_at', 'get_output_shape_at', 'get_updates_for', 'get_weights', 'inbound_nodes', 'input', 'input_mask', 'input_shape', 'input_spec', 'kernel', 'kernel_constraint', 'kernel_initializer', 'kernel_regularizer', 'losses', 'metrics', 'name', 'name_scope', 'non_trainable_variables', 'non_trainable_weights', 'outbound_nodes', 'output', 'output_mask', 'output_shape', 'set_weights', 'stateful', 'submodules', 'supports_masking', 'trainable', 'trainable_variables', 'trainable_weights', 'units', 'updates', 'use_bias', 'variable_dtype', 'variables', 'weights', 'with_name_scope']\n",
            "(10, 10) (10,)\n",
            "(10, 20) (20,)\n"
          ]
        }
      ]
    },
    {
      "cell_type": "markdown",
      "metadata": {
        "id": "uQs06pokUknF"
      },
      "source": [
        "#Trainable Variables in Models"
      ]
    },
    {
      "cell_type": "code",
      "metadata": {
        "id": "tVcY8ZH2UlJO",
        "outputId": "30c4202e-766c-4c88-8860-71f6e1410df1",
        "colab": {
          "base_uri": "https://localhost:8080/"
        }
      },
      "source": [
        "import tensorflow as tf\n",
        "\n",
        "from tensorflow.keras.layers import Dense\n",
        "\n",
        "from tensorflow.keras.models import Sequential\n",
        "\n",
        "X = tf. random.normal (shape = (4, 10))\n",
        "\n",
        "model = Sequential()\n",
        "model.add(Dense(units=10, activation = 'sigmoid'))\n",
        "model.add(Dense(units=20, activation = 'sigmoid'))\n",
        "\n",
        "Y= model(X)\n",
        "\n",
        "print (type(model.trainable_variables) )\n",
        "print (len(model.trainable_variables) )\n",
        "\n",
        "for train_var in model.trainable_variables:\n",
        "  print(train_var.shape)"
      ],
      "execution_count": null,
      "outputs": [
        {
          "output_type": "stream",
          "name": "stdout",
          "text": [
            "<class 'list'>\n",
            "4\n",
            "(10, 10)\n",
            "(10,)\n",
            "(10, 20)\n",
            "(20,)\n"
          ]
        }
      ]
    }
  ]
}