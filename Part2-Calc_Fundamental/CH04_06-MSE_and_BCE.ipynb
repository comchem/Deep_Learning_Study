{
  "nbformat": 4,
  "nbformat_minor": 0,
  "metadata": {
    "colab": {
      "name": "CH04_06. [구현강의]_MSE_and_BCE",
      "provenance": [],
      "collapsed_sections": []
    },
    "kernelspec": {
      "name": "python3",
      "display_name": "Python 3"
    },
    "language_info": {
      "name": "python"
    }
  },
  "cells": [
    {
      "cell_type": "markdown",
      "metadata": {
        "id": "bYDEpa_vooMW"
      },
      "source": [
        "# MSE Calculation"
      ]
    },
    {
      "cell_type": "code",
      "source": [
        "import tensorflow as tf\n",
        "\n",
        "from tensorflow.keras.losses import MeanSquaredError\n",
        "\n",
        "loss_object = MeanSquaredError()\n",
        "\n",
        "batch_size = 32\n",
        "predictions = tf.random.normal(shape = (batch_size, 1))\n",
        "labels = tf.random.normal(shape = (batch_size, 1))\n",
        "\n",
        "mse = loss_object(labels, predictions)\n",
        "mse_manual = tf.reduce_mean(tf.math.pow(labels - predictions, 2))\n",
        "\n",
        "print(\"MSE(Tensorflow): \", mse.numpy())\n",
        "print(\"MSE(Manual): \", mse_manual.numpy())"
      ],
      "metadata": {
        "id": "7lmu9ChP6qvF",
        "outputId": "f8f3eb4a-7f09-4f81-bebf-4e0dbabe9917",
        "colab": {
          "base_uri": "https://localhost:8080/"
        }
      },
      "execution_count": 12,
      "outputs": [
        {
          "output_type": "stream",
          "name": "stdout",
          "text": [
            "MSE(Tensorflow):  2.7517488\n",
            "MSE(Manual):  2.7517488\n"
          ]
        }
      ]
    },
    {
      "cell_type": "markdown",
      "metadata": {
        "id": "WerdKcJ4oonS"
      },
      "source": [
        "#MSE with Model/Dataset"
      ]
    },
    {
      "cell_type": "code",
      "source": [
        "import tensorflow as tf\n",
        "\n",
        "from tensorflow.keras.layers import Dense\n",
        "from tensorflow.keras.losses import MeanSquaredError\n",
        "\n",
        "N, n_feature = 100, 5\n",
        "batch_size = 32\n",
        "\n",
        "X = tf.random.normal(shape=(N, n_feature))\n",
        "Y = tf.random.normal(shape=(N, 1))\n",
        "\n",
        "dataset = tf.data.Dataset.from_tensor_slices((X, Y))\n",
        "dataset = dataset.batch(batch_size)\n",
        "print(dataset)\n",
        "\n",
        "model = Dense(units = 1, activation = 'linear')\n",
        "loss_object = MeanSquaredError()\n",
        "\n",
        "for x, y in dataset:\n",
        "  predictions = model(x)\n",
        "  loss = loss_object(y, predictions)\n",
        "  print(loss.numpy())\n"
      ],
      "metadata": {
        "id": "PWA1GwrS9Eyz",
        "outputId": "d4f521fa-294d-4e35-84dd-eb4155b139be",
        "colab": {
          "base_uri": "https://localhost:8080/"
        }
      },
      "execution_count": 29,
      "outputs": [
        {
          "output_type": "stream",
          "name": "stdout",
          "text": [
            "<BatchDataset element_spec=(TensorSpec(shape=(None, 5), dtype=tf.float32, name=None), TensorSpec(shape=(None, 1), dtype=tf.float32, name=None))>\n",
            "3.6890383\n",
            "3.0480838\n",
            "4.1814404\n",
            "0.4173312\n"
          ]
        }
      ]
    },
    {
      "cell_type": "markdown",
      "metadata": {
        "id": "0xXcFogBopTL"
      },
      "source": [
        "# Binary Calculation"
      ]
    },
    {
      "cell_type": "code",
      "source": [
        "import tensorflow as tf\n",
        "\n",
        "from tensorflow.keras.losses import BinaryCrossentropy\n",
        "\n",
        "batch_size = 4\n",
        "n_class = 2\n",
        "\n",
        "predictions = tf.random.uniform(shape=(batch_size,1),\n",
        "                                minval=0, maxval=1,\n",
        "                                dtype = tf.float32)\n",
        "labels = tf.random.uniform(shape=(batch_size, 1),\n",
        "                            minval=0, maxval=n_class,\n",
        "                            dtype = tf.int32)\n",
        "\n",
        "loss_object = BinaryCrossentropy()\n",
        "loss = loss_object(labels, predictions)\n",
        "\n",
        "labels = tf.cast(labels, tf.float32)\n",
        "bce_man = -(labels*tf.math.log(predictions) + (1-labels)*tf.math.log(1 - predictions))\n",
        "bce_man = tf.reduce_mean(bce_man)\n",
        "\n",
        "print(\"BCE(Tensorflow): \", loss.numpy())\n",
        "print(\"BCE(Manual): \", bce_man.numpy())"
      ],
      "metadata": {
        "id": "zma-GSc8Cm0U",
        "outputId": "297b9403-59d8-4f79-f914-0e745f99b1f7",
        "colab": {
          "base_uri": "https://localhost:8080/"
        }
      },
      "execution_count": 37,
      "outputs": [
        {
          "output_type": "stream",
          "name": "stdout",
          "text": [
            "BCE(Tensorflow):  0.7570359\n",
            "BCE(Manual):  0.75703615\n"
          ]
        }
      ]
    },
    {
      "cell_type": "markdown",
      "metadata": {
        "id": "E-8af-PAo2J-"
      },
      "source": [
        "#BSE with Model/Dataset"
      ]
    },
    {
      "cell_type": "code",
      "source": [
        "import tensorflow as tf\n",
        "\n",
        "from tensorflow.keras.layers import Dense\n",
        "from tensorflow.keras.losses import BinaryCrossentropy\n",
        "\n",
        "N, n_feature = 100, 5\n",
        "batch_size = 32\n",
        "\n",
        "t_weights = tf.constant([1, 2, 3, 4, 5], dtype=tf.float32)\n",
        "t_bias = tf.constant([10], dtype = tf.float32)\n",
        "\n",
        "X = tf.random.normal(mean=0, stddev=1, shape=(N, n_feature))\n",
        "Y = tf.reduce_sum(t_weights*X, axis=1) + t_bias\n",
        "Y = tf.cast(Y > 5, tf.int32)    # True or False\n",
        "\n",
        "dataset = tf.data.Dataset.from_tensor_slices((X, Y))\n",
        "dataset = dataset.batch(batch_size)\n",
        "\n",
        "model = Dense(units = 1, activation='sigmoid')\n",
        "loss_object = BinaryCrossentropy()\n",
        "\n",
        "for x, y in dataset:\n",
        "  predictions = model(x)\n",
        "  loss = loss_object(y, predictions)\n",
        "  print(loss.numpy())\n"
      ],
      "metadata": {
        "id": "3-nnZpS6LfBY",
        "outputId": "bfe88c6e-d82d-4f27-ce9e-387847c54cd8",
        "colab": {
          "base_uri": "https://localhost:8080/"
        }
      },
      "execution_count": 47,
      "outputs": [
        {
          "output_type": "stream",
          "name": "stdout",
          "text": [
            "1.0333607\n",
            "0.8276459\n",
            "0.72548926\n",
            "0.7050266\n"
          ]
        }
      ]
    }
  ]
}