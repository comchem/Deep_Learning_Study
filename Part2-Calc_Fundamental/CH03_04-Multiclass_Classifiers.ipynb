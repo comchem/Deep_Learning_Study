{
  "nbformat": 4,
  "nbformat_minor": 0,
  "metadata": {
    "colab": {
      "name": "CH03_04. [구현강의]_Multiclass_Classifiers",
      "provenance": [],
      "collapsed_sections": []
    },
    "kernelspec": {
      "name": "python3",
      "display_name": "Python 3"
    },
    "language_info": {
      "name": "python"
    }
  },
  "cells": [
    {
      "cell_type": "markdown",
      "metadata": {
        "id": "n_58fsIkdkDi"
      },
      "source": [
        "#IO of Softmax"
      ]
    },
    {
      "cell_type": "code",
      "metadata": {
        "id": "pk-k4I5nddHG",
        "outputId": "a9d13f04-e3ed-4c87-aa16-7a5d1fdd1442",
        "colab": {
          "base_uri": "https://localhost:8080/"
        }
      },
      "source": [
        "import tensorflow as tf\n",
        "\n",
        "from tensorflow.keras.layers import Activation\n",
        "\n",
        "logit = tf.random.uniform(shape = (3, 5), minval = -10, maxval = 10)\n",
        "\n",
        "softmax_value = Activation('softmax')(logit)\n",
        "softmax_sum = tf.reduce_sum(softmax_value, axis=1)\n",
        "\n",
        "print(\"Logits: \\n\", logit.numpy())\n",
        "print(\"Probabilities: \\n\", softmax_value.numpy())\n",
        "print(\"Sum of softmax values: \\n\", softmax_sum)      # sum of probatility is '1'"
      ],
      "execution_count": 10,
      "outputs": [
        {
          "output_type": "stream",
          "name": "stdout",
          "text": [
            "Logits: \n",
            " [[ 4.3396807 -8.715816   7.466852  -7.893014  -8.785815 ]\n",
            " [ 6.121073   9.583216  -9.572024   6.9046764  3.2323723]\n",
            " [ 3.4484434 -7.8913093 -9.7154    -4.282942  -6.402025 ]]\n",
            "Probabilities: \n",
            " [[4.2000249e-02 8.9809511e-08 9.5799935e-01 2.0448435e-07 8.3737859e-08]\n",
            " [2.8465515e-02 9.0762955e-01 4.3540558e-09 6.2320914e-02 1.5840627e-03]\n",
            " [9.9949491e-01 1.1884715e-05 1.9177685e-06 4.3861417e-04 5.2695850e-05]]\n",
            "Sum of softmax values: \n",
            " tf.Tensor([0.99999994 1.         1.        ], shape=(3,), dtype=float32)\n"
          ]
        }
      ]
    },
    {
      "cell_type": "markdown",
      "metadata": {
        "id": "_4hAPBhMdkwL"
      },
      "source": [
        "#Softmax in Dense Layers"
      ]
    },
    {
      "cell_type": "code",
      "metadata": {
        "id": "2xCDD-L6dk-A",
        "outputId": "8ab75071-1c75-4fc2-b2e4-5ff47c10114b",
        "colab": {
          "base_uri": "https://localhost:8080/"
        }
      },
      "source": [
        "import tensorflow as tf\n",
        "\n",
        "from tensorflow.keras.layers import Dense\n",
        "\n",
        "logit = tf.random.uniform(shape = (8,5),minval = -10,maxval = 10)\n",
        "dense = Dense(units = 8, activation = 'softmax')    # Number of Class can be replaced units\n",
        "\n",
        "Y = dense(logit)\n",
        "print(tf.reduce_sum(Y, axis=1))"
      ],
      "execution_count": 11,
      "outputs": [
        {
          "output_type": "stream",
          "name": "stdout",
          "text": [
            "tf.Tensor(\n",
            "[1.         1.0000001  0.99999994 0.99999994 1.         1.\n",
            " 1.         1.        ], shape=(8,), dtype=float32)\n"
          ]
        }
      ]
    },
    {
      "cell_type": "markdown",
      "metadata": {
        "id": "2Fk9jz_3dlN8"
      },
      "source": [
        "#Multi -class classifiers"
      ]
    },
    {
      "cell_type": "code",
      "metadata": {
        "id": "SoIXrxlmdleY",
        "outputId": "c4343c2d-311d-4d63-f441-8c825223d94b",
        "colab": {
          "base_uri": "https://localhost:8080/"
        }
      },
      "source": [
        "import tensorflow as tf\n",
        "\n",
        "from tensorflow.keras.models import Model\n",
        "\n",
        "from tensorflow.keras.layers import Dense\n",
        "\n",
        "class TestModel (Model):\n",
        "  def __init__(self):\n",
        "    super(TestModel, self).__init__()\n",
        "\n",
        "    self.dense1 = Dense(units=5, activation='relu')\n",
        "    self.dense2 = Dense(units=5, activation='relu')\n",
        "    self.dense3 = Dense(units=3, activation='softmax')\n",
        "    \n",
        "  def call(self, x):\n",
        "    print(\"X: {}\\n{}\\n\".format(x.shape, x.numpy()))\n",
        "    \n",
        "    x = self.dense1(x)\n",
        "    print(\"A1: {}\\n{}\\n\".format(x.shape, x.numpy()))\n",
        "    \n",
        "    x = self.dense2(x)\n",
        "    print(\"A2: {}\\n{}\\n\".format(x.shape, x.numpy()))\n",
        "    \n",
        "    x = self.dense3(x)\n",
        "    print(\"Y: {}\\n{}\\n\".format(x.shape, x.numpy()))\n",
        "    print(\"Sum of vectors: {}\\n\".format(tf.reduce_sum(x, axis=1)))\n",
        "    return x\n",
        "\n",
        "model = TestModel()\n",
        "\n",
        "X = tf.random.uniform(shape=(8, 5), minval = -10, maxval = 10)\n",
        "Y = model(X)"
      ],
      "execution_count": 14,
      "outputs": [
        {
          "output_type": "stream",
          "name": "stdout",
          "text": [
            "X: (8, 5)\n",
            "[[ 4.8054123   4.2950897  -4.8526073  -9.107814    4.7218943 ]\n",
            " [-0.35173416 -6.9219017  -7.2840285  -1.7038517  -0.51423264]\n",
            " [-3.111596    6.291933    9.2593975  -7.3100114  -2.5422335 ]\n",
            " [ 6.0760727   7.867668    5.128045   -2.2708392  -5.3513455 ]\n",
            " [-9.538958    4.0546627   4.8116446   4.433382    0.8836918 ]\n",
            " [-3.7193823  -8.717945   -1.7432022  -4.134214    6.779587  ]\n",
            " [ 1.9901228   9.675007    2.2939224   5.871682   -3.2672524 ]\n",
            " [ 6.9586544   3.3601856   2.7380161  -2.9245472  -1.1252518 ]]\n",
            "\n",
            "A1: (8, 5)\n",
            "[[0.         1.9800395  4.388852   0.         5.5344267 ]\n",
            " [0.         0.         0.         6.3431244  8.113352  ]\n",
            " [0.         2.3168523  7.934172   0.         0.44426653]\n",
            " [8.765981   2.3347871  5.9780383  0.         0.        ]\n",
            " [0.         0.         0.22049698 4.6971807  0.        ]\n",
            " [0.         3.0472007  0.         2.8990216  7.829063  ]\n",
            " [8.618544   0.         1.7472771  0.         0.        ]\n",
            " [5.539313   4.899703   5.4289746  0.         0.        ]]\n",
            "\n",
            "A2: (8, 5)\n",
            "[[0.         4.142203   3.1245546  2.2070968  3.6372068 ]\n",
            " [0.         7.020696   3.6196332  0.         7.3693466 ]\n",
            " [0.89018065 0.94799316 1.6877997  2.3345306  0.        ]\n",
            " [7.29223    0.         7.420788   0.         0.        ]\n",
            " [2.5005221  0.8753415  0.         0.         1.4078918 ]\n",
            " [0.         5.2345037  2.0668547  0.46450186 7.9335203 ]\n",
            " [6.427268   0.         7.0924926  0.         0.        ]\n",
            " [5.310624   0.         3.474159   1.1081072  0.        ]]\n",
            "\n",
            "Y: (8, 3)\n",
            "[[5.71049459e-04 3.26776807e-03 9.96161222e-01]\n",
            " [3.92836773e-06 6.78593805e-03 9.93210137e-01]\n",
            " [1.72904357e-01 9.89253446e-03 8.17203104e-01]\n",
            " [6.71595261e-02 1.15962121e-05 9.32828844e-01]\n",
            " [1.22591496e-01 1.23932101e-01 7.53476381e-01]\n",
            " [6.24939639e-06 5.30802011e-02 9.46913600e-01]\n",
            " [7.31254518e-02 2.74670292e-05 9.26847041e-01]\n",
            " [1.95005104e-01 4.66582511e-04 8.04528356e-01]]\n",
            "\n",
            "Sum of vectors: [1.         1.         1.         0.99999994 1.         1.\n",
            " 0.99999994 1.        ]\n",
            "\n"
          ]
        }
      ]
    }
  ]
}