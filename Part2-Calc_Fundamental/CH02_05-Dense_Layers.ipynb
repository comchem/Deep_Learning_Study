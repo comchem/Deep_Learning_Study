{
  "cells": [
    {
      "cell_type": "markdown",
      "metadata": {
        "id": "Bhd4x-PRdeS2"
      },
      "source": [
        "#shapes of Dense Layers"
      ]
    },
    {
      "cell_type": "code",
      "execution_count": 5,
      "metadata": {
        "id": "OQYwld7VdNDJ",
        "outputId": "12c7f90d-1fde-4f5a-be96-018766a582f9",
        "colab": {
          "base_uri": "https://localhost:8080/"
        }
      },
      "outputs": [
        {
          "output_type": "stream",
          "name": "stdout",
          "text": [
            "=============Input/Weight/Bias============\n",
            "X :  (8, 10)\n",
            "W :  (10, 3)\n",
            "B :  (3,)\n",
            "Y :  (8, 3)\n"
          ]
        },
        {
          "output_type": "execute_result",
          "data": {
            "text/plain": [
              "array([[ 0.03725213, -0.28527635,  0.31747103],\n",
              "       [-0.67127013, -0.15427965, -0.18164021],\n",
              "       [ 0.19786781, -0.2780355 , -0.04140073],\n",
              "       [-0.4463778 ,  0.13889605,  0.4643606 ],\n",
              "       [ 0.5063791 , -0.48093197, -0.06707811],\n",
              "       [ 0.56053936,  0.3616835 ,  0.36278975],\n",
              "       [ 0.39924407,  0.4616989 , -0.55644774],\n",
              "       [ 0.01700044,  0.49351883,  0.19757563],\n",
              "       [-0.51457274, -0.09676057,  0.5971383 ],\n",
              "       [-0.56625867,  0.01165867,  0.55254245]], dtype=float32)"
            ]
          },
          "metadata": {},
          "execution_count": 5
        }
      ],
      "source": [
        "import tensorflow as tf\n",
        "\n",
        "from tensorflow.keras.layers import Dense\n",
        "\n",
        "N, n_feature = 8,10\n",
        "X = tf.random.normal(shape = (N, n_feature))\n",
        "\n",
        "n_neuron =3\n",
        "dense = Dense(units = n_neuron, activation = 'sigmoid')\n",
        "y = dense(X)\n",
        "\n",
        "W, B = dense.get_weights()\n",
        "\n",
        "print('=============Input/Weight/Bias============')\n",
        "print(\"X : \",X.shape)\n",
        "print(\"W : \",W.shape)\n",
        "print(\"B : \",B.shape)\n",
        "print(\"Y : \",y.shape)\n",
        "W\n"
      ]
    }
  ],
  "metadata": {
    "colab": {
      "collapsed_sections": [],
      "name": "CH02_05. [구현강의]_Dense_Layers",
      "provenance": []
    },
    "kernelspec": {
      "display_name": "Python 3",
      "language": "python",
      "name": "python3"
    },
    "language_info": {
      "codemirror_mode": {
        "name": "ipython",
        "version": 3
      },
      "file_extension": ".py",
      "mimetype": "text/x-python",
      "name": "python",
      "nbconvert_exporter": "python",
      "pygments_lexer": "ipython3",
      "version": "3.6.7"
    }
  },
  "nbformat": 4,
  "nbformat_minor": 0
}