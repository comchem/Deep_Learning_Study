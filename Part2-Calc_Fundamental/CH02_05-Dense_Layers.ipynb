{
  "cells": [
    {
      "cell_type": "markdown",
      "metadata": {
        "id": "Bhd4x-PRdeS2"
      },
      "source": [
        "## shapes of Dense Layers"
      ]
    },
    {
      "cell_type": "code",
      "execution_count": 1,
      "metadata": {
        "id": "OQYwld7VdNDJ",
        "colab": {
          "base_uri": "https://localhost:8080/"
        },
        "outputId": "d2422ab0-5499-4f84-d76e-7c982b4bf8f6"
      },
      "outputs": [
        {
          "output_type": "stream",
          "name": "stdout",
          "text": [
            "=============Input/Weight/Bias============\n",
            "X :  (8, 10)\n",
            "W :  (10, 3)\n",
            "B :  (3,)\n",
            "Y :  (8, 3)\n"
          ]
        },
        {
          "output_type": "execute_result",
          "data": {
            "text/plain": [
              "array([[ 0.6059575 , -0.53989553,  0.5842935 ],\n",
              "       [ 0.24810088, -0.26982102, -0.01265758],\n",
              "       [ 0.5433054 ,  0.64605165, -0.43077606],\n",
              "       [ 0.6608654 , -0.12573808,  0.5571003 ],\n",
              "       [-0.5218115 ,  0.21575993,  0.46507215],\n",
              "       [ 0.44914937, -0.2926656 , -0.5298247 ],\n",
              "       [ 0.41172147,  0.21016634,  0.32056993],\n",
              "       [ 0.3300531 ,  0.08394587, -0.641998  ],\n",
              "       [ 0.01340139, -0.01002228, -0.39048174],\n",
              "       [-0.59244263, -0.611539  ,  0.3218944 ]], dtype=float32)"
            ]
          },
          "metadata": {},
          "execution_count": 1
        }
      ],
      "source": [
        "import tensorflow as tf\n",
        "\n",
        "from tensorflow.keras.layers import Dense\n",
        "\n",
        "N, n_feature = 8,10\n",
        "X = tf.random.normal(shape = (N, n_feature))\n",
        "\n",
        "n_neuron =3\n",
        "dense = Dense(units = n_neuron, activation = 'sigmoid')\n",
        "y = dense(X)\n",
        "\n",
        "W, B = dense.get_weights()\n",
        "\n",
        "print('=============Input/Weight/Bias============')\n",
        "print(\"X : \",X.shape)\n",
        "print(\"W : \",W.shape)\n",
        "print(\"B : \",B.shape)\n",
        "print(\"Y : \",y.shape)\n",
        "W\n"
      ]
    },
    {
      "cell_type": "markdown",
      "source": [
        "## Output Calculations"
      ],
      "metadata": {
        "id": "6sIcPA3FZHxU"
      }
    },
    {
      "cell_type": "code",
      "source": [
        "import tensorflow as tf\n",
        "\n",
        "from tensorflow.math import exp\n",
        "from tensorflow.keras.layers import Dense\n",
        "from tensorflow.linalg import matmul\n",
        "import numpy as np\n",
        "\n",
        "\n",
        "N, n_feature = 4,10\n",
        "X = tf.random.normal(shape = (N, n_feature))\n",
        "#print(X.numpy())\n",
        "\n",
        "n_neuron =3\n",
        "dense = Dense(units = n_neuron, activation = 'sigmoid')\n",
        "Y_tf = dense(X)\n",
        "\n",
        "W, B = dense.get_weights()\n",
        "print(\"Y(Tensorflow): \\n\",Y_tf.numpy())\n",
        "\n",
        "# calculation with matrix multiplication\n",
        "z = matmul(X,W) + B\n",
        "Y_man_matmul = 1/(1 + exp(-z))\n",
        "print(\"Y(with matrix multiplication): \\n\",Y_man_matmul.numpy())\n",
        "\n",
        "# calculation with dot products\n",
        "Y_man_vec = np.zeros(shape = (N, n_neuron))\n",
        "for x_idx in range(N):\n",
        "  x = X[x_idx]\n",
        "  #print(x.numpy())\n",
        "\n",
        "  for nu_idx in range(n_neuron):\n",
        "    w, b = W[:, nu_idx], B[nu_idx]\n",
        "\n",
        "    z = tf.reduce_sum(x * w) + b\n",
        "    a = 1/(1 + np.exp(-z))\n",
        "    Y_man_vec[x_idx, nu_idx] = a\n",
        "\n",
        "print(\"Y(with dot products): \\n\", Y_man_vec)"
      ],
      "metadata": {
        "id": "lzuFybEFZGi1",
        "outputId": "07c06774-903d-407b-f065-9cce538412d0",
        "colab": {
          "base_uri": "https://localhost:8080/"
        }
      },
      "execution_count": 4,
      "outputs": [
        {
          "output_type": "stream",
          "name": "stdout",
          "text": [
            "Y(Tensorflow): \n",
            " [[0.87899536 0.87670314 0.86235094]\n",
            " [0.6448279  0.5697081  0.75799716]\n",
            " [0.700753   0.67615694 0.16484109]\n",
            " [0.17118874 0.31851733 0.5146449 ]]\n",
            "Y(with matrix multiplication): \n",
            " [[0.87899536 0.87670314 0.862351  ]\n",
            " [0.6448279  0.5697081  0.7579972 ]\n",
            " [0.70075303 0.676157   0.16484109]\n",
            " [0.17118877 0.31851727 0.5146449 ]]\n",
            "Y(with dot products): \n",
            " [[0.87899533 0.87670321 0.86235094]\n",
            " [0.6448279  0.56970812 0.75799722]\n",
            " [0.70075299 0.67615696 0.16484106]\n",
            " [0.17118879 0.31851728 0.51464489]]\n"
          ]
        }
      ]
    }
  ],
  "metadata": {
    "colab": {
      "collapsed_sections": [],
      "name": "CH02_05. [구현강의]_Dense_Layers",
      "provenance": [],
      "toc_visible": true
    },
    "kernelspec": {
      "display_name": "Python 3",
      "language": "python",
      "name": "python3"
    },
    "language_info": {
      "codemirror_mode": {
        "name": "ipython",
        "version": 3
      },
      "file_extension": ".py",
      "mimetype": "text/x-python",
      "name": "python",
      "nbconvert_exporter": "python",
      "pygments_lexer": "ipython3",
      "version": "3.6.7"
    }
  },
  "nbformat": 4,
  "nbformat_minor": 0
}