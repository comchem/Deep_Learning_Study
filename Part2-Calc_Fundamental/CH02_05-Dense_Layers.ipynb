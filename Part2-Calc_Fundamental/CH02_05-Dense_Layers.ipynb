{
 "cells": [
  {
   "cell_type": "markdown",
   "metadata": {
    "id": "Bhd4x-PRdeS2"
   },
   "source": [
    "#shapes of Dense Layers"
   ]
  },
  {
   "cell_type": "code",
   "execution_count": null,
   "metadata": {
    "id": "OQYwld7VdNDJ"
   },
   "outputs": [],
   "source": [
    "import tensorflow as tf\n",
    "\n",
    "from tensorflow.keras.layers import Dense\n",
    "\n",
    "N, n_feature = 8,10\n",
    "X = tf.random.normal(shape = (N, n_feature))\n",
    "\n",
    "n_neuron =3\n",
    "dense = Dense(units = n_neuron, activation = 'sigmoid')\n",
    "y = dense(X)\n",
    "\n",
    "W, B = dense.get_weights()\n",
    "\n",
    "print('=============Input/Weight/Bias============')\n",
    "print(\"X : \",X.shape)\n",
    "print(\"W : \",W.shape)\n",
    "print(\"B : \",B.shape)\n",
    "print(\"Y : \",Y.shape)\n"
   ]
  }
 ],
 "metadata": {
  "colab": {
   "authorship_tag": "ABX9TyM90lpDY1kK0XD0F3na8u5N",
   "collapsed_sections": [],
   "name": "CH02_05. [구현강의]_Dense_Layers",
   "provenance": []
  },
  "kernelspec": {
   "display_name": "Python 3",
   "language": "python",
   "name": "python3"
  },
  "language_info": {
   "codemirror_mode": {
    "name": "ipython",
    "version": 3
   },
   "file_extension": ".py",
   "mimetype": "text/x-python",
   "name": "python",
   "nbconvert_exporter": "python",
   "pygments_lexer": "ipython3",
   "version": "3.6.7"
  }
 },
 "nbformat": 4,
 "nbformat_minor": 1
}
