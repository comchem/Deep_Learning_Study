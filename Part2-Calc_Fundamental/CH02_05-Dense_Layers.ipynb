{
  "cells": [
    {
      "cell_type": "markdown",
      "metadata": {
        "id": "Bhd4x-PRdeS2"
      },
      "source": [
        "## shapes of Dense Layers"
      ]
    },
    {
      "cell_type": "code",
      "execution_count": 5,
      "metadata": {
        "id": "OQYwld7VdNDJ",
        "colab": {
          "base_uri": "https://localhost:8080/"
        },
        "outputId": "12c7f90d-1fde-4f5a-be96-018766a582f9"
      },
      "outputs": [
        {
          "output_type": "stream",
          "name": "stdout",
          "text": [
            "=============Input/Weight/Bias============\n",
            "X :  (8, 10)\n",
            "W :  (10, 3)\n",
            "B :  (3,)\n",
            "Y :  (8, 3)\n"
          ]
        },
        {
          "output_type": "execute_result",
          "data": {
            "text/plain": [
              "array([[ 0.03725213, -0.28527635,  0.31747103],\n",
              "       [-0.67127013, -0.15427965, -0.18164021],\n",
              "       [ 0.19786781, -0.2780355 , -0.04140073],\n",
              "       [-0.4463778 ,  0.13889605,  0.4643606 ],\n",
              "       [ 0.5063791 , -0.48093197, -0.06707811],\n",
              "       [ 0.56053936,  0.3616835 ,  0.36278975],\n",
              "       [ 0.39924407,  0.4616989 , -0.55644774],\n",
              "       [ 0.01700044,  0.49351883,  0.19757563],\n",
              "       [-0.51457274, -0.09676057,  0.5971383 ],\n",
              "       [-0.56625867,  0.01165867,  0.55254245]], dtype=float32)"
            ]
          },
          "metadata": {},
          "execution_count": 5
        }
      ],
      "source": [
        "import tensorflow as tf\n",
        "\n",
        "from tensorflow.keras.layers import Dense\n",
        "\n",
        "N, n_feature = 8,10\n",
        "X = tf.random.normal(shape = (N, n_feature))\n",
        "\n",
        "n_neuron =3\n",
        "dense = Dense(units = n_neuron, activation = 'sigmoid')\n",
        "y = dense(X)\n",
        "\n",
        "W, B = dense.get_weights()\n",
        "\n",
        "print('=============Input/Weight/Bias============')\n",
        "print(\"X : \",X.shape)\n",
        "print(\"W : \",W.shape)\n",
        "print(\"B : \",B.shape)\n",
        "print(\"Y : \",y.shape)\n",
        "W\n"
      ]
    },
    {
      "cell_type": "markdown",
      "source": [
        "## Output Calculations"
      ],
      "metadata": {
        "id": "6sIcPA3FZHxU"
      }
    },
    {
      "cell_type": "code",
      "source": [
        "import tensorflow as tf\n",
        "\n",
        "from tensorflow.math import exp\n",
        "from tensorflow.keras.layers import Dense\n",
        "from tensorflow.linalg import matmul\n",
        "\n",
        "\n",
        "N, n_feature = 4,10\n",
        "X = tf.random.normal(shape = (N, n_feature))\n",
        "#print(X.numpy())\n",
        "\n",
        "n_neuron =3\n",
        "dense = Dense(units = n_neuron, activation = 'sigmoid')\n",
        "Y_tf = dense(X)\n",
        "\n",
        "W, B = dense.get_weights()\n",
        "print(\"Y(Tensorflow): \\n\",Y_tf.numpy())\n",
        "\n",
        "# calculation with matrix multiplication\n",
        "z = matmul(X,W) + B\n",
        "Y_man_matmul = 1/(1 + exp(-z))\n",
        "print(\"Y(with matrix multiplication): \\n\",Y_man_matmul.numpy())\n",
        "\n",
        "# calculation with dot products\n",
        "Y_man_vec = np.zeros(shape = (N, n_neuron))\n",
        "for x_idx in range(N):\n",
        "  x = X[x_idx]\n",
        "  #print(x.numpy())\n",
        "\n",
        "  for nu_idx in range(n_neuron):\n",
        "    w, b = W[:, nu_idx], B[nu_idx]\n",
        "\n",
        "    z = tf.reduce_sum(x * w) + b\n",
        "    a = 1/(1 + np.exp(-z))\n",
        "    Y_man_vec[x_idx, nu_idx] = a\n",
        "\n",
        "print(\"Y(with dot products): \\n\", Y_man_vec)"
      ],
      "metadata": {
        "id": "lzuFybEFZGi1",
        "outputId": "ce113f37-d80a-44a4-b02e-3ed113b1988b",
        "colab": {
          "base_uri": "https://localhost:8080/"
        }
      },
      "execution_count": 12,
      "outputs": [
        {
          "output_type": "stream",
          "name": "stdout",
          "text": [
            "Y(Tensorflow): \n",
            " [[0.04839677 0.39831448 0.82563484]\n",
            " [0.81614065 0.5496268  0.73260194]\n",
            " [0.6920482  0.75446045 0.3984964 ]\n",
            " [0.3616768  0.67493844 0.8902843 ]]\n",
            "Y(with matrix multiplication): \n",
            " [[0.04839677 0.39831448 0.8256348 ]\n",
            " [0.81614065 0.5496268  0.73260194]\n",
            " [0.6920482  0.7544605  0.39849636]\n",
            " [0.36167678 0.6749384  0.89028424]]\n",
            "Y(with dot products): \n",
            " [[0.04839675 0.39831448 0.8256348 ]\n",
            " [0.81614068 0.54962683 0.73260196]\n",
            " [0.69204816 0.75446048 0.39849639]\n",
            " [0.36167682 0.67493842 0.89028428]]\n"
          ]
        }
      ]
    }
  ],
  "metadata": {
    "colab": {
      "collapsed_sections": [],
      "name": "CH02_05. [구현강의]_Dense_Layers",
      "provenance": []
    },
    "kernelspec": {
      "display_name": "Python 3",
      "language": "python",
      "name": "python3"
    },
    "language_info": {
      "codemirror_mode": {
        "name": "ipython",
        "version": 3
      },
      "file_extension": ".py",
      "mimetype": "text/x-python",
      "name": "python",
      "nbconvert_exporter": "python",
      "pygments_lexer": "ipython3",
      "version": "3.6.7"
    }
  },
  "nbformat": 4,
  "nbformat_minor": 0
}