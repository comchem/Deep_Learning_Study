{
  "nbformat": 4,
  "nbformat_minor": 0,
  "metadata": {
    "colab": {
      "name": "CH04_04. [구현강의]_Toy_Datasets_for_Regression_and_Binary_Classification",
      "provenance": [],
      "collapsed_sections": []
    },
    "kernelspec": {
      "name": "python3",
      "display_name": "Python 3"
    },
    "language_info": {
      "name": "python"
    }
  },
  "cells": [
    {
      "cell_type": "markdown",
      "metadata": {
        "id": "aqCtafU0izVB"
      },
      "source": [
        "# Dataset for Regression"
      ]
    },
    {
      "cell_type": "code",
      "source": [
        "import tensorflow as tf\n",
        "\n",
        "N,n_feature  = 8,5\n",
        "t_weights = tf.constant([1,2,3,4,5],dtype = tf.float32)\n",
        "t_bias = tf.constant([10],dtype = tf.float32)\n",
        "\n",
        "x = tf.random.normal(mean = 0, stddev = 1, shape = (N, n_feature))\n",
        "\n",
        "Y = tf.reduce_sum(t_weights * x, axis = 1) + t_bias\n",
        "\n",
        "print(\"X(shape/dtype/data) : {} / {}\\n{}\\n\".format(x.shape, x.dtype, x.numpy()))\n",
        "print(\"Y(shape/dtype/data) : {} / {}\\n{}\\n\".format(Y.shape, Y.dtype, Y.numpy()))"
      ],
      "metadata": {
        "id": "ARfKpbn4lk-G",
        "outputId": "69500787-0024-40ba-bf0c-f9ae96aafaf3",
        "colab": {
          "base_uri": "https://localhost:8080/"
        }
      },
      "execution_count": 11,
      "outputs": [
        {
          "output_type": "stream",
          "name": "stdout",
          "text": [
            "X(shape/dtype/data) : (8, 5) / <dtype: 'float32'>\n",
            "[[ 1.5901747   0.19254878 -2.3789892  -0.00310367  0.05238293]\n",
            " [ 0.35451818 -1.5379431  -0.77632874  0.38580087 -0.09287577]\n",
            " [-0.80447125 -0.07716593  0.27896783  0.74895996 -1.0611944 ]\n",
            " [ 0.28185877  1.2502004  -0.9671688  -1.2074783   0.3713524 ]\n",
            " [-0.42789787 -1.2144711  -0.02483525 -0.02753482  0.29347238]\n",
            " [ 0.45456186  1.9249383  -1.793262   -0.3350933   0.04995184]\n",
            " [-0.52889794  0.69757015  0.6701312  -1.3189183  -0.442792  ]\n",
            " [ 0.913333   -0.69714904 -1.8073232   0.51132375  0.44447935]]\n",
            "\n",
            "Y(shape/dtype/data) : (8,) / <dtype: 'float32'>\n",
            "[5.087805  6.0284705 7.5679684 6.907602  8.425877  7.8340387 5.387003\n",
            " 8.364758 ]\n",
            "\n"
          ]
        }
      ]
    },
    {
      "cell_type": "markdown",
      "metadata": {
        "id": "pzu3LHYQizqa"
      },
      "source": [
        "# Dataset for BInary Classification"
      ]
    },
    {
      "cell_type": "code",
      "metadata": {
        "id": "514ReJpSi0FS",
        "outputId": "0638769a-a09a-44fb-f07b-e5119297f7ef",
        "colab": {
          "base_uri": "https://localhost:8080/"
        }
      },
      "source": [
        "import tensorflow as tf\n",
        "\n",
        "N,n_feature  = 8,5\n",
        "t_weights = tf.constant([1,2,3,4,5],dtype = tf.float32)\n",
        "t_bias = tf.constant([10],dtype = tf.float32)\n",
        "\n",
        "X = tf.random.normal(mean=0, stddev=1, shape=(N, n_feature))\n",
        "Y = tf.reduce_sum(t_weights*X,axis=1) + t_bias\n",
        "print (Y)\n",
        "Y = Y > 5\n",
        "print(Y)\n",
        "Y = tf.cast(Y, tf.int32)  \n",
        "print(Y)\n",
        "\n",
        "#print(\"X(shape/dtype/data) : {} / {}\\n{}\\n\".format(X.shape,X.dtype.X.numpy()))\n",
        "#print(\"Y(shape/dtype/data) : {} / {}\\n{}\\n\".format(X.shape,X.dtype.X.numpy()))"
      ],
      "execution_count": 12,
      "outputs": [
        {
          "output_type": "stream",
          "name": "stdout",
          "text": [
            "tf.Tensor(\n",
            "[10.862707   8.931587   3.3619256 13.457423   4.254159   0.8218622\n",
            " 19.219128  10.558226 ], shape=(8,), dtype=float32)\n",
            "tf.Tensor([ True  True False  True False False  True  True], shape=(8,), dtype=bool)\n",
            "tf.Tensor([1 1 0 1 0 0 1 1], shape=(8,), dtype=int32)\n"
          ]
        }
      ]
    }
  ]
}