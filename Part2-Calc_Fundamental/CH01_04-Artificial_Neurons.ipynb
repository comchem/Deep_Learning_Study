{
  "nbformat": 4,
  "nbformat_minor": 0,
  "metadata": {
    "colab": {
      "name": "[구현강의]Artificial_Neurons",
      "provenance": [],
      "collapsed_sections": [],
      "toc_visible": true
    },
    "kernelspec": {
      "name": "python3",
      "display_name": "Python 3"
    },
    "language_info": {
      "name": "python"
    }
  },
  "cells": [
    {
      "cell_type": "markdown",
      "metadata": {
        "id": "GMX6eJLkRx9r"
      },
      "source": [
        "#Activation Layer"
      ]
    },
    {
      "cell_type": "code",
      "source": [
        "import tensorflow as tf\n",
        "\n",
        "from tensorflow.math import exp, maximum\n",
        "from tensorflow.keras.layers import Activation\n",
        "\n",
        "x = tf.random.normal(shape = (1,5))\n",
        "\n",
        "# imp.activation function\n",
        "sigmoid = Activation('sigmoid')\n",
        "tanh = Activation('tanh')\n",
        "relu = Activation('relu')\n",
        "\n",
        "# forward propagation (Tensorflow)\n",
        "y_sigmoid_tf = sigmoid(x)\n",
        "y_tanh_tf = tanh(x)\n",
        "y_relu_tf = relu(x)\n",
        "\n",
        "# forward propagatioin (Manual)\n",
        "y_sigmoid_man = 1 / (1 + exp(-x))\n",
        "y_tanh_man = (exp(x) - exp(-x))/(exp(x) + exp(-x))\n",
        "y_relu_man = maximum(x, 0)\n",
        "\n",
        "print(\"x: {}\\n{}\".format(x.shape, x.numpy()))\n",
        "print(\"Sigmoid(Tensorflow): {}\\n{}\".format(y_sigmoid_tf.shape, y_sigmoid_tf.numpy()))\n",
        "print(\"Sigmoid(Manual): {}\\n{}\".format(y_sigmoid_man.shape, y_sigmoid_man.numpy()))\n",
        "\n",
        "print(\"Tanh(Tensorflow): {}\\n{}\".format(y_tanh_tf.shape, y_tanh_tf.numpy()))\n",
        "print(\"Tanh(Manual): {}\\n{}\".format(y_tanh_man.shape, y_tanh_man.numpy()))\n",
        "\n",
        "print(\"ReLU(Tensorflow): {}\\n{}\".format(y_relu_tf.shape, y_relu_tf.numpy()))\n",
        "print(\"ReLU(Manual): {}\\n{}\".format(y_relu_man.shape, y_relu_man.numpy()))"
      ],
      "metadata": {
        "id": "avmwAtVrUX9p",
        "outputId": "76e6671b-011d-48a0-c0b5-e38f1ba329c8",
        "colab": {
          "base_uri": "https://localhost:8080/"
        }
      },
      "execution_count": 1,
      "outputs": [
        {
          "output_type": "stream",
          "name": "stdout",
          "text": [
            "x: (1, 5)\n",
            "[[-1.2483548   0.47802258  0.28850672  0.38235256 -0.53346777]]\n",
            "Sigmoid(Tensorflow): (1, 5)\n",
            "[[0.22298506 0.61728084 0.5716305  0.5944404  0.36970848]]\n",
            "Sigmoid(Manual): (1, 5)\n",
            "[[0.22298506 0.61728084 0.57163054 0.59444034 0.36970845]]\n",
            "Tanh(Tensorflow): (1, 5)\n",
            "[[-0.8478217   0.44465852  0.2807598   0.36474878 -0.48802745]]\n",
            "Tanh(Manual): (1, 5)\n",
            "[[-0.84782165  0.44465858  0.2807598   0.36474878 -0.48802736]]\n",
            "ReLU(Tensorflow): (1, 5)\n",
            "[[0.         0.47802258 0.28850672 0.38235256 0.        ]]\n",
            "ReLU(Manual): (1, 5)\n",
            "[[0.         0.47802258 0.28850672 0.38235256 0.        ]]\n"
          ]
        }
      ]
    },
    {
      "cell_type": "markdown",
      "metadata": {
        "id": "8I2tnnSdR0BS"
      },
      "source": [
        "#Activation in Dense Layer"
      ]
    },
    {
      "cell_type": "code",
      "source": [
        "import tensorflow as tf\n",
        "\n",
        "from tensorflow.math import exp\n",
        "from tensorflow.keras.layers import Dense\n",
        "\n",
        "x = tf.random.normal(shape = (1,5))\n",
        "\n",
        "# imp. artificial neurons\n",
        "dense_sigmoid = Dense(units = 1, activation='sigmoid')\n",
        "dense_tanh = Dense(units = 1, activation='tanh')\n",
        "dense_relu = Dense(units = 1, activation='relu')\n",
        "\n",
        "# forward propagation (Tensorflow)\n",
        "y_sigmoid = dense_sigmoid(x)\n",
        "y_tanh = dense_tanh(x)\n",
        "y_relu = dense_relu(x)\n",
        "\n",
        "print(\"An with Sigmoid= {}\\n{}\".format(y_sigmoid.shape,y_sigmoid.numpy()))\n",
        "print(\"An with  Tanh :{}\\n{}\".format(y_tanh.shape,y_tanh.numpy()))\n",
        "print(\"An with  RelU:{}\\n{}\".format(y_relu.shape,y_relu.numpy()))\n",
        "\n",
        "# forward propation (Manual)\n",
        "print('\\n=======\\n')\n",
        "\n",
        "W, B = dense_sigmoid.get_weights()\n",
        "z = tf.linalg.matmul(x, W) + B\n",
        "a = 1 / (1 + exp(-z))\n",
        "\n",
        "print(\"Activation value(Tensorflow)= {}\\n{}\".format(y_sigmoid.shape,y_sigmoid.numpy()))\n",
        "print(\"Activation value(manual)= {}\\n{}\".format(a.shape, a.numpy()))"
      ],
      "metadata": {
        "id": "0qhUMlzcXO9X",
        "outputId": "04996abf-04ef-4130-c49c-67504671c7ee",
        "colab": {
          "base_uri": "https://localhost:8080/"
        }
      },
      "execution_count": 3,
      "outputs": [
        {
          "output_type": "stream",
          "name": "stdout",
          "text": [
            "An with Sigmoid= (1, 1)\n",
            "[[0.81231654]]\n",
            "An with  Tanh :(1, 1)\n",
            "[[-0.8373822]]\n",
            "An with  RelU:(1, 1)\n",
            "[[0.]]\n",
            "\n",
            "=======\n",
            "\n",
            "Activation value(Tensorflow)= (1, 1)\n",
            "[[0.81231654]]\n",
            "Activation value(manual)= (1, 1)\n",
            "[[0.8123165]]\n"
          ]
        }
      ]
    },
    {
      "cell_type": "markdown",
      "metadata": {
        "id": "QwCxhS6JR0kS"
      },
      "source": [
        "#Artificial Nuerons"
      ]
    },
    {
      "cell_type": "code",
      "source": [
        "import tensorflow as tf\n",
        "\n",
        "from tensorflow.keras.layers import Dense\n",
        "from tensorflow.math import exp, maximum\n",
        "\n",
        "activation = 'sigmoid'\n",
        "# activation = 'tanh'\n",
        "# activation = 'relu'\n",
        "\n",
        "x = tf.random.uniform(shape = (1,10))\n",
        "\n",
        "dense = Dense(units = 1, activation=activation)\n",
        "\n",
        "y_tf = dense(x)\n",
        "W, B = dense.get_weights()\n",
        "\n",
        "# calculate activation value manually\n",
        "y_man = tf.linalg.matmul(x, W) + B\n",
        "if activation == 'sigmoid':\n",
        "  y_man = 1 / (1 + exp(-x))\n",
        "elif activation == 'tanh':\n",
        "  y_man = (exp(x) - exp(-x))/(exp(x) + exp(-x))\n",
        "elif activation == 'relu':\n",
        "  y_man = maximum(x, 0)\n",
        "\n",
        "print(\"Activation : \",activation)\n",
        "print(\"Y_tf : {}\\n{}\\n\".format(y_tf.shape, y_tf.numpy()))\n",
        "print(\"Y_man : {}\\n{}\\n\".format(y_man.shape, y_tf.numpy())) "
      ],
      "metadata": {
        "id": "mWq01cbyZ2tw",
        "outputId": "62de4eba-5a52-4e88-9971-4dce9bdebba4",
        "colab": {
          "base_uri": "https://localhost:8080/"
        }
      },
      "execution_count": null,
      "outputs": [
        {
          "output_type": "stream",
          "name": "stdout",
          "text": [
            "Activation :  sigmoid\n",
            "Y_tf : (1, 1)\n",
            "[[0.66111875]]\n",
            "\n",
            "Y_man : (1, 10)\n",
            "[[0.66111875]]\n",
            "\n"
          ]
        }
      ]
    },
    {
      "cell_type": "markdown",
      "source": [
        "# Minibatches"
      ],
      "metadata": {
        "id": "IBRx7t5Pb_Q9"
      }
    },
    {
      "cell_type": "markdown",
      "metadata": {
        "id": "ujr6ZUDeZFGf"
      },
      "source": [
        "##Shapes of Dense Layers"
      ]
    },
    {
      "cell_type": "code",
      "source": [
        "import tensorflow as tf\n",
        "\n",
        "from tensorflow.keras.layers import Dense\n",
        "\n",
        "N, n_feature = 30, 10\n",
        "x = tf.random.normal(shape=(N, n_feature))\n",
        "\n",
        "dense = Dense(units=1, activation = 'relu')\n",
        "y = dense(x)\n",
        "\n",
        "W, B = dense.get_weights()\n",
        "\n",
        "# print results\n",
        "print(\"Shape of x: \", x.shape)\n",
        "print(\"Shape of W: \", W.shape)\n",
        "print(\"Shape of B: \", B.shape)"
      ],
      "metadata": {
        "id": "N5TIQ9wdb90K",
        "outputId": "7bff647f-0ef6-439e-ee26-65983fdd876b",
        "colab": {
          "base_uri": "https://localhost:8080/"
        }
      },
      "execution_count": 13,
      "outputs": [
        {
          "output_type": "stream",
          "name": "stdout",
          "text": [
            "Shape of x:  (30, 10)\n",
            "Shape of W:  (10, 1)\n",
            "Shape of B:  (1,)\n"
          ]
        }
      ]
    },
    {
      "cell_type": "code",
      "source": [
        "N, n_feature = 10, 3\n",
        "\n",
        "x = tf.random.normal(shape = (N, n_feature))\n",
        "print(\"x : {}\".format(x.numpy()))\n",
        "\n",
        "dense = Dense(units=2, activation = 'tanh')\n",
        "\n",
        "y_tf = dense(x)\n",
        "W, B = dense.get_weights()\n",
        "\n",
        "print(\"W : {}, B : {}\".format(W, B))\n",
        "print(y_tf)"
      ],
      "metadata": {
        "id": "UltZfXq8wUpi",
        "outputId": "0a21fa13-35fa-4b1c-bc02-8a6434b6268c",
        "colab": {
          "base_uri": "https://localhost:8080/"
        }
      },
      "execution_count": 23,
      "outputs": [
        {
          "output_type": "stream",
          "name": "stdout",
          "text": [
            "x : [[ 0.40060934 -0.44682223 -1.8047901 ]\n",
            " [ 0.46549374  0.9076447   1.4527411 ]\n",
            " [-0.1650866  -0.45307422 -0.3584306 ]\n",
            " [-1.4014648   1.6066442  -2.6268694 ]\n",
            " [ 0.40783498 -0.40597698  1.0593624 ]\n",
            " [-2.098349   -0.6596695  -0.02338341]\n",
            " [-1.0895957   0.75978273  0.48283786]\n",
            " [-1.2704546  -0.70491207  1.1227605 ]\n",
            " [ 0.5607225   0.2020597   1.560491  ]\n",
            " [ 0.4655271   1.7590245   0.10509004]]\n",
            "W : [[ 0.0092988   0.4181453 ]\n",
            " [-0.4762122   0.47262526]\n",
            " [ 0.66994023  0.7448027 ]], B : [0. 0.]\n",
            "tf.Tensor(\n",
            "[[-0.75846636 -0.8827033 ]\n",
            " [ 0.49702463  0.93610847]\n",
            " [-0.02589691 -0.5006136 ]\n",
            " [-0.9875874  -0.94503564]\n",
            " [ 0.7196088   0.64557564]\n",
            " [ 0.2719469  -0.8356589 ]\n",
            " [-0.04843928  0.25719473]\n",
            " [ 0.79173213 -0.02815129]\n",
            " [ 0.74178046  0.90373236]\n",
            " [-0.64280313  0.8020343 ]], shape=(10, 2), dtype=float32)\n"
          ]
        }
      ]
    },
    {
      "cell_type": "markdown",
      "metadata": {
        "id": "4EBSii7kY4n7"
      },
      "source": [
        "## Output Calculations"
      ]
    },
    {
      "cell_type": "code",
      "metadata": {
        "id": "S6_cxkhUYrAb",
        "outputId": "9ce41431-0239-44df-8baa-aa1266252678",
        "colab": {
          "base_uri": "https://localhost:8080/"
        }
      },
      "source": [
        "import tensorflow as tf\n",
        "\n",
        "from tensorflow.keras.layers import Dense\n",
        "\n",
        "N, n_feature = 8, 10\n",
        "x = tf.random.normal(shape = (N ,n_feature))\n",
        "\n",
        "dense = Dense(units =1, activation = 'sigmoid' )\n",
        "y_tf  = dense(x)  # forward propagation(Tensorflow)\n",
        "\n",
        "W,B = dense.get_weights()\n",
        "\n",
        "y_man = tf.linalg.matmul(x,W) + B\n",
        "y_man = 1/ (1 + tf.math.exp(-y_man)) # forward propagation(Manual)\n",
        "\n",
        "print(\"Output(Tensorflow) : \\n\",y_tf.numpy())\n",
        "print(\"Output(Manual) : \\n\",y_man.numpy())"
      ],
      "execution_count": 24,
      "outputs": [
        {
          "output_type": "stream",
          "name": "stdout",
          "text": [
            "Output(Tensorflow) : \n",
            " [[0.96384585]\n",
            " [0.02493128]\n",
            " [0.7246929 ]\n",
            " [0.6946141 ]\n",
            " [0.70135736]\n",
            " [0.91548294]\n",
            " [0.35290822]\n",
            " [0.4807868 ]]\n",
            "Output(Manual) : \n",
            " [[0.9638458 ]\n",
            " [0.02493129]\n",
            " [0.7246928 ]\n",
            " [0.6946141 ]\n",
            " [0.70135736]\n",
            " [0.9154829 ]\n",
            " [0.3529082 ]\n",
            " [0.48078677]]\n"
          ]
        }
      ]
    }
  ]
}