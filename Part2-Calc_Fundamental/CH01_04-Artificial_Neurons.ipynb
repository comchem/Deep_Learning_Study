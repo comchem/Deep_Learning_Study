{
  "nbformat": 4,
  "nbformat_minor": 0,
  "metadata": {
    "colab": {
      "name": "[구현강의]Artificial_Neurons",
      "provenance": [],
      "collapsed_sections": []
    },
    "kernelspec": {
      "name": "python3",
      "display_name": "Python 3"
    },
    "language_info": {
      "name": "python"
    }
  },
  "cells": [
    {
      "cell_type": "markdown",
      "metadata": {
        "id": "GMX6eJLkRx9r"
      },
      "source": [
        "#Activation Layer"
      ]
    },
    {
      "cell_type": "code",
      "source": [
        "import tensorflow as tf\n",
        "\n",
        "from tensorflow.math import exp, maximum\n",
        "from tensorflow.keras.layers import Activation\n",
        "\n",
        "x = tf.random.normal(shape = (1,5))\n",
        "\n",
        "# imp.activation function\n",
        "sigmoid = Activation('sigmoid')\n",
        "tanh = Activation('tanh')\n",
        "relu = Activation('relu')\n",
        "\n",
        "# forward propagation (Tensorflow)\n",
        "y_sigmoid_tf = sigmoid(x)\n",
        "y_tanh_tf = tanh(x)\n",
        "y_relu_tf = relu(x)\n",
        "\n",
        "# forward propagatioin (Manual)\n",
        "y_sigmoid_man = 1 / (1 + exp(-x))\n",
        "y_tanh_man = (exp(x) - exp(-x))/(exp(x) + exp(-x))\n",
        "y_relu_man = maximum(x, 0)\n",
        "\n",
        "print(\"x: {}\\n{}\".format(x.shape, x.numpy()))\n",
        "print(\"Sigmoid(Tensorflow): {}\\n{}\".format(y_sigmoid_tf.shape, y_sigmoid_tf.numpy()))\n",
        "print(\"Sigmoid(Manual): {}\\n{}\".format(y_sigmoid_man.shape, y_sigmoid_man.numpy()))\n",
        "\n",
        "print(\"Tanh(Tensorflow): {}\\n{}\".format(y_tanh_tf.shape, y_tanh_tf.numpy()))\n",
        "print(\"Tanh(Manual): {}\\n{}\".format(y_tanh_man.shape, y_tanh_man.numpy()))\n",
        "\n",
        "print(\"ReLU(Tensorflow): {}\\n{}\".format(y_relu_tf.shape, y_relu_tf.numpy()))\n",
        "print(\"ReLU(Manual): {}\\n{}\".format(y_relu_man.shape, y_relu_man.numpy()))"
      ],
      "metadata": {
        "id": "avmwAtVrUX9p",
        "outputId": "a80a38df-f589-4e32-99f7-c074aa15d383",
        "colab": {
          "base_uri": "https://localhost:8080/"
        }
      },
      "execution_count": 9,
      "outputs": [
        {
          "output_type": "stream",
          "name": "stdout",
          "text": [
            "x: (1, 5)\n",
            "[[-0.57420444  1.3829572   0.8061665   0.24386823  0.5594236 ]]\n",
            "Sigmoid(Tensorflow): (1, 5)\n",
            "[[0.36026725 0.79946554 0.691292   0.5606667  0.63631916]]\n",
            "Sigmoid(Manual): (1, 5)\n",
            "[[0.36026725 0.79946554 0.691292   0.56066674 0.63631916]]\n",
            "Tanh(Tensorflow): (1, 5)\n",
            "[[-0.51844037  0.8816117   0.6674701   0.23914608  0.5075497 ]]\n",
            "Tanh(Manual): (1, 5)\n",
            "[[-0.5184403   0.88161176  0.66747004  0.23914616  0.5075497 ]]\n",
            "ReLU(Tensorflow): (1, 5)\n",
            "[[0.         1.3829572  0.8061665  0.24386823 0.5594236 ]]\n",
            "ReLU(Manual): (1, 5)\n",
            "[[0.         1.3829572  0.8061665  0.24386823 0.5594236 ]]\n"
          ]
        }
      ]
    },
    {
      "cell_type": "markdown",
      "metadata": {
        "id": "8I2tnnSdR0BS"
      },
      "source": [
        "#Activation in Dense Layer"
      ]
    },
    {
      "cell_type": "code",
      "source": [
        "import tensorflow as tf\n",
        "\n",
        "from tensorflow.math import exp\n",
        "from tensorflow.keras.layers import Dense\n",
        "\n",
        "x = tf.random.normal(shape = (1,5))\n",
        "\n",
        "# imp. artificial neurons\n",
        "dense_sigmoid = Dense(units = 1, activation='sigmoid')\n",
        "dense_tanh = Dense(units = 1, activation='tanh')\n",
        "dense_relu = Dense(units = 1, activation='relu')\n",
        "\n",
        "# forward propagation (Tensorflow)\n",
        "y_sigmoid = dense_sigmoid(x)\n",
        "y_tanh = dense_tanh(x)\n",
        "y_relu = dense_relu(x)\n",
        "\n",
        "print(\"An with Sigmoid= {}\\n{}\".format(y_sigmoid.shape,y_sigmoid.numpy()))\n",
        "print(\"An with  Tanh :{}\\n{}\".format(y_tanh.shape,y_tanh.numpy()))\n",
        "print(\"An with  RelU:{}\\n{}\".format(y_relu.shape,y_relu.numpy()))\n",
        "\n",
        "# forward propation (Manual)\n",
        "print('\\n=======\\n')\n",
        "\n",
        "W, B = dense_sigmoid.get_weights()\n",
        "z = tf.linalg.matmul(x, W) + B\n",
        "a = 1 / (1 + exp(-z))\n",
        "\n",
        "print(\"Activation value(Tensorflow)= {}\\n{}\".format(y_sigmoid.shape,y_sigmoid.numpy()))\n",
        "print(\"Activation value(manual)= {}\\n{}\".format(a.shape, a.numpy()))"
      ],
      "metadata": {
        "id": "0qhUMlzcXO9X",
        "outputId": "e6229b8c-873b-4568-aa05-bb4645e95c98",
        "colab": {
          "base_uri": "https://localhost:8080/"
        }
      },
      "execution_count": 12,
      "outputs": [
        {
          "output_type": "stream",
          "name": "stdout",
          "text": [
            "An with Sigmoid= (1, 1)\n",
            "[[0.68396497]]\n",
            "An with  Tanh :(1, 1)\n",
            "[[-0.77304536]]\n",
            "An with  RelU:(1, 1)\n",
            "[[0.]]\n",
            "\n",
            "=======\n",
            "\n",
            "Activation value(Tensorflow)= (1, 1)\n",
            "[[0.68396497]]\n",
            "Activation value(manual)= (1, 1)\n",
            "[[0.68396497]]\n"
          ]
        }
      ]
    },
    {
      "cell_type": "markdown",
      "metadata": {
        "id": "QwCxhS6JR0kS"
      },
      "source": [
        "#Artificial Nuerons"
      ]
    },
    {
      "cell_type": "code",
      "source": [
        "import tensorflow as tf\n",
        "\n",
        "from tensorflow.keras.layers import Dense\n",
        "from tensorflow.math import exp, maximum\n",
        "\n",
        "activation = 'sigmoid'\n",
        "# activation = 'tanh'\n",
        "# activation = 'relu'\n",
        "\n",
        "x = tf.random.uniform(shape = (1,10))\n",
        "\n",
        "dense = Dense(units = 1, activation=activation)\n",
        "\n",
        "y_tf = dense(x)\n",
        "W, B = dense.get_weights()\n",
        "\n",
        "# calculate activation value manually\n",
        "y_man = tf.linalg.matmul(x, W) + B\n",
        "if activation == 'sigmoid':\n",
        "  y_man = 1 / (1 + exp(-x))\n",
        "elif activation == 'tanh':\n",
        "  y_man = (exp(x) - exp(-x))/(exp(x) + exp(-x))\n",
        "elif activation == 'relu':\n",
        "  y_man = maximum(x, 0)\n",
        "\n",
        "print(\"Activation : \",activation)\n",
        "print(\"Y_tf : {}\\n{}\\n\".format(y_tf.shape, y_tf.numpy()))\n",
        "print(\"Y_man : {}\\n{}\\n\".format(y_man.shape, y_tf.numpy())) "
      ],
      "metadata": {
        "id": "mWq01cbyZ2tw",
        "outputId": "62de4eba-5a52-4e88-9971-4dce9bdebba4",
        "colab": {
          "base_uri": "https://localhost:8080/"
        }
      },
      "execution_count": 14,
      "outputs": [
        {
          "output_type": "stream",
          "name": "stdout",
          "text": [
            "Activation :  sigmoid\n",
            "Y_tf : (1, 1)\n",
            "[[0.66111875]]\n",
            "\n",
            "Y_man : (1, 10)\n",
            "[[0.66111875]]\n",
            "\n"
          ]
        }
      ]
    },
    {
      "cell_type": "markdown",
      "source": [
        "# Minibatches"
      ],
      "metadata": {
        "id": "IBRx7t5Pb_Q9"
      }
    },
    {
      "cell_type": "markdown",
      "metadata": {
        "id": "ujr6ZUDeZFGf"
      },
      "source": [
        "##Shapes of Dense Layers"
      ]
    },
    {
      "cell_type": "code",
      "source": [
        "import tensorflow as tf\n",
        "\n",
        "from tensorflow.keras.layers import Dense\n",
        "\n",
        "N, n_feature = 30, 10\n",
        "x = tf.random.normal(shape=(N, n_feature))\n",
        "\n",
        "dense = Dense(units=1, activation = 'relu')\n",
        "y = dense(x)\n",
        "\n",
        "W, B = dense.get_weights()\n",
        "\n",
        "# print results\n",
        "print(\"Shape of x: \", x.shape)\n",
        "print(\"Shape of W: \", W.shape)\n",
        "print(\"Shape of B: \", B.shape)"
      ],
      "metadata": {
        "id": "N5TIQ9wdb90K",
        "outputId": "b14a9475-7916-4a75-cda2-5a2b23949a21",
        "colab": {
          "base_uri": "https://localhost:8080/"
        }
      },
      "execution_count": 20,
      "outputs": [
        {
          "output_type": "stream",
          "name": "stdout",
          "text": [
            "Shape of x:  (30, 10)\n",
            "Shape of W:  (10, 1)\n",
            "Shape of B:  (1,)\n"
          ]
        }
      ]
    },
    {
      "cell_type": "markdown",
      "metadata": {
        "id": "4EBSii7kY4n7"
      },
      "source": [
        "## Output Calculations"
      ]
    },
    {
      "cell_type": "code",
      "metadata": {
        "id": "S6_cxkhUYrAb",
        "outputId": "0a9d65d6-5cb9-49cd-bb02-ffa12fbd64bd",
        "colab": {
          "base_uri": "https://localhost:8080/"
        }
      },
      "source": [
        "import tensorflow as tf\n",
        "\n",
        "from tensorflow.keras.layers import Dense\n",
        "\n",
        "N, n_feature = 8, 10\n",
        "x = tf.random.normal(shape = (N ,n_feature))\n",
        "\n",
        "dense = Dense(units =1, activation = 'sigmoid' )\n",
        "y_tf  = dense(x)  # forward propagation(Tensorflow)\n",
        "\n",
        "W,B = dense.get_weights()\n",
        "\n",
        "y_man = tf.linalg.matmul(x,W) + B\n",
        "y_man = 1/ (1 + tf.math.exp(-y_man)) # forward propagation(Manual)\n",
        "\n",
        "print(\"Output(Tensorflow) : \\n\",y_tf.numpy())\n",
        "print(\"Output(Manual) : \\n\",y_man.numpy())"
      ],
      "execution_count": 22,
      "outputs": [
        {
          "output_type": "stream",
          "name": "stdout",
          "text": [
            "Output(Tensorflow) : \n",
            " [[0.77179754]\n",
            " [0.2844143 ]\n",
            " [0.32328323]\n",
            " [0.7008535 ]\n",
            " [0.32810515]\n",
            " [0.62779576]\n",
            " [0.64052534]\n",
            " [0.28323287]]\n",
            "Output(Manual) : \n",
            " [[0.7717975 ]\n",
            " [0.28441426]\n",
            " [0.3232832 ]\n",
            " [0.7008535 ]\n",
            " [0.32810512]\n",
            " [0.62779576]\n",
            " [0.64052534]\n",
            " [0.28323287]]\n"
          ]
        }
      ]
    }
  ]
}